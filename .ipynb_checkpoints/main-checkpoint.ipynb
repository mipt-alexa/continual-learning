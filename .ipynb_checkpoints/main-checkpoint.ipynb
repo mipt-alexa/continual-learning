{
 "cells": [
  {
   "cell_type": "code",
   "execution_count": 50,
   "id": "b219d960-02bc-4caf-9003-6e95dd53117f",
   "metadata": {},
   "outputs": [],
   "source": [
    "import torch\n",
    "from torch import optim, nn\n",
    "\n",
    "from torchvision import datasets, models\n",
    "from torchvision.transforms import ToTensor\n",
    "from torch.utils.data import Dataset, DataLoader, Subset\n",
    "\n",
    "from torchsummary import summary\n",
    "\n",
    "import matplotlib.pyplot as plt\n",
    "plt.rcParams['axes.grid'] = True\n",
    "\n",
    "from tqdm import tqdm"
   ]
  },
  {
   "cell_type": "code",
   "execution_count": 3,
   "id": "eb53e74c-048b-4f89-a007-3c7f0ec7fd8e",
   "metadata": {},
   "outputs": [
    {
     "name": "stdout",
     "output_type": "stream",
     "text": [
      "Files already downloaded and verified\n"
     ]
    }
   ],
   "source": [
    "test_data = datasets.CIFAR100(\n",
    "    root=\"data\",\n",
    "    train=False,\n",
    "    download=True,\n",
    "    transform=ToTensor()\n",
    "    )"
   ]
  },
  {
   "cell_type": "code",
   "execution_count": 4,
   "id": "3cd124df-1ab8-4e40-b4bc-19f6463b86c4",
   "metadata": {},
   "outputs": [
    {
     "name": "stdout",
     "output_type": "stream",
     "text": [
      "Files already downloaded and verified\n"
     ]
    }
   ],
   "source": [
    "train_data = datasets.CIFAR100(\n",
    "    root=\"data\",\n",
    "    train=True,\n",
    "    download=True,\n",
    "    transform=ToTensor()\n",
    "    )"
   ]
  },
  {
   "cell_type": "markdown",
   "id": "4eb6bf31-0af4-480b-af56-54e45f7a466f",
   "metadata": {},
   "source": [
    "I divide the labels in SET_NUM sets, each containing SET_SIZE labels. The sets are disjoint."
   ]
  },
  {
   "cell_type": "code",
   "execution_count": 5,
   "id": "7dca5114-5bc6-4349-8c5a-902f0488a6e8",
   "metadata": {},
   "outputs": [
    {
     "data": {
      "text/plain": [
       "Text(0.5, 1.0, 'Target = 19')"
      ]
     },
     "execution_count": 5,
     "metadata": {},
     "output_type": "execute_result"
    },
    {
     "data": {
      "image/png": "[encoded data removed]",
      "text/plain": [
       "<Figure size 200x200 with 1 Axes>"
      ]
     },
     "metadata": {},
     "output_type": "display_data"
    }
   ],
   "source": [
    "plt.figure(figsize=(2,2))\n",
    "plt.imshow(train_data[0][0].permute(1, 2, 0))\n",
    "plt.title(\"Target = \" +str(train_data[0][1]))"
   ]
  },
  {
   "cell_type": "code",
   "execution_count": 6,
   "id": "052ef20e-32c4-4e9c-bec5-e62852c06e5a",
   "metadata": {},
   "outputs": [
    {
     "data": {
      "text/plain": [
       "torch.Size([3, 32, 32])"
      ]
     },
     "execution_count": 6,
     "metadata": {},
     "output_type": "execute_result"
    }
   ],
   "source": [
    "image_shape = train_data[0][0].shape\n",
    "image_shape"
   ]
  },
  {
   "cell_type": "code",
   "execution_count": 7,
   "id": "e48ef07b-e9c3-4a0b-9c6e-33895b869a48",
   "metadata": {},
   "outputs": [],
   "source": [
    "set_size = 10\n",
    "set_num = 100 // set_size"
   ]
  },
  {
   "cell_type": "code",
   "execution_count": 8,
   "id": "aa83ed57-efb2-42ef-a181-a7bfb6d09c11",
   "metadata": {
    "scrolled": true
   },
   "outputs": [
    {
     "data": {
      "text/plain": [
       "(10000, 50000)"
      ]
     },
     "execution_count": 8,
     "metadata": {},
     "output_type": "execute_result"
    }
   ],
   "source": [
    "len(test_data), len(train_data)"
   ]
  },
  {
   "cell_type": "markdown",
   "id": "ffbd8f0d-add7-44ff-a045-33b8836be969",
   "metadata": {},
   "source": [
    "Target separators define by simple inequality which set does a label belong to."
   ]
  },
  {
   "cell_type": "code",
   "execution_count": 9,
   "id": "d16fe069-7cfd-4fb4-ab58-5083ae46c77d",
   "metadata": {},
   "outputs": [],
   "source": [
    "target_sep = [(i*set_size, (i+1)*set_size) for i in range(set_num)]"
   ]
  },
  {
   "cell_type": "code",
   "execution_count": 10,
   "id": "1439d3e7-f54c-4acf-aac3-eeb98bae1daf",
   "metadata": {},
   "outputs": [
    {
     "data": {
      "text/plain": [
       "[(0, 10),\n",
       " (10, 20),\n",
       " (20, 30),\n",
       " (30, 40),\n",
       " (40, 50),\n",
       " (50, 60),\n",
       " (60, 70),\n",
       " (70, 80),\n",
       " (80, 90),\n",
       " (90, 100)]"
      ]
     },
     "execution_count": 10,
     "metadata": {},
     "output_type": "execute_result"
    }
   ],
   "source": [
    "target_sep"
   ]
  },
  {
   "cell_type": "markdown",
   "id": "abfceae6-7c2b-4449-bf7e-b7175eb90560",
   "metadata": {},
   "source": [
    "Training process:\n",
    "stepwise learning on each of the sets. The labels in each training session are new for the model. \n",
    "The accuracy is measured on the test data with labels from set 0 after each training session."
   ]
  },
  {
   "cell_type": "code",
   "execution_count": 11,
   "id": "3e08d0b9-1ab4-4af8-9502-cf703a17f1f8",
   "metadata": {},
   "outputs": [],
   "source": [
    "train_loaders = [[] for _ in range(set_num)]\n",
    "\n",
    "for i, separator in enumerate(target_sep):\n",
    "    indx = [j for j, (_, target) in enumerate(train_data) if separator[0] <= target < separator[1]]\n",
    "    subset = Subset(train_data, indx)\n",
    "    train_loaders[i] = DataLoader(subset, batch_size=16,\n",
    "                                   shuffle=True, num_workers=1)"
   ]
  },
  {
   "cell_type": "code",
   "execution_count": 12,
   "id": "a4020882-8660-4c90-839a-b22d6ba5aa0c",
   "metadata": {},
   "outputs": [],
   "source": [
    "test_loaders = [[] for _ in range(set_num)]\n",
    "\n",
    "for i, separator in enumerate(target_sep):\n",
    "    indx = [j for j, (_, target) in enumerate(test_data) if separator[0] <= target < separator[1]]\n",
    "    subset = Subset(test_data, indx)\n",
    "    test_loaders[i] = DataLoader(subset, batch_size=16,\n",
    "                                   shuffle=True, num_workers=1)"
   ]
  },
  {
   "cell_type": "code",
   "execution_count": 13,
   "id": "e35a9255-2578-4670-b9cc-a668b6dd5211",
   "metadata": {},
   "outputs": [
    {
     "name": "stdout",
     "output_type": "stream",
     "text": [
      "torch.Size([16, 3, 32, 32]) torch.Size([16])\n"
     ]
    }
   ],
   "source": [
    "for i in train_loaders[0]:\n",
    "    print(i[0].shape, i[1].shape)\n",
    "    break"
   ]
  },
  {
   "cell_type": "code",
   "execution_count": 14,
   "id": "da559acb-051c-4513-ace1-be7055d4d944",
   "metadata": {},
   "outputs": [
    {
     "name": "stdout",
     "output_type": "stream",
     "text": [
      "tensor([4, 3, 0, 2, 1, 0, 2, 5, 6, 7, 0, 7, 9, 9, 2, 2])\n"
     ]
    }
   ],
   "source": [
    "for _, target in test_loaders[0]:\n",
    "    print(target)\n",
    "    break"
   ]
  },
  {
   "cell_type": "markdown",
   "id": "9682aa31-0f1c-44a5-b9d5-d0e99a06faa5",
   "metadata": {},
   "source": [
    "Select a model"
   ]
  },
  {
   "cell_type": "code",
   "execution_count": 2,
   "id": "3ac8faf4-da6b-44bf-abee-b284bed2c134",
   "metadata": {},
   "outputs": [
    {
     "ename": "NameError",
     "evalue": "name '_C' is not defined",
     "output_type": "error",
     "traceback": [
      "\u001b[0;31m---------------------------------------------------------------------------\u001b[0m",
      "\u001b[0;31mNameError\u001b[0m                                 Traceback (most recent call last)",
      "Cell \u001b[0;32mIn[2], line 1\u001b[0m\n\u001b[0;32m----> 1\u001b[0m \u001b[38;5;28;01mfrom\u001b[39;00m \u001b[38;5;21;01mtorch\u001b[39;00m \u001b[38;5;28;01mimport\u001b[39;00m device\n\u001b[1;32m      2\u001b[0m device \u001b[38;5;241m=\u001b[39m device(\u001b[38;5;124m\"\u001b[39m\u001b[38;5;124mcuda\u001b[39m\u001b[38;5;124m\"\u001b[39m)\n",
      "File \u001b[0;32m~/.conda/envs/TorchEnv/lib/python3.12/site-packages/torch/__init__.py:764\u001b[0m\n\u001b[1;32m    761\u001b[0m     \u001b[38;5;28;01mraise\u001b[39;00m  \u001b[38;5;66;03m# If __file__ is not None the cause is unknown, so just re-raise.\u001b[39;00m\n\u001b[1;32m    763\u001b[0m __name, __obj \u001b[38;5;241m=\u001b[39m \u001b[38;5;124m'\u001b[39m\u001b[38;5;124m'\u001b[39m, \u001b[38;5;28;01mNone\u001b[39;00m\n\u001b[0;32m--> 764\u001b[0m \u001b[38;5;28;01mfor\u001b[39;00m __name \u001b[38;5;129;01min\u001b[39;00m \u001b[38;5;28mdir\u001b[39m(\u001b[43m_C\u001b[49m):\n\u001b[1;32m    765\u001b[0m     \u001b[38;5;28;01mif\u001b[39;00m __name[\u001b[38;5;241m0\u001b[39m] \u001b[38;5;241m!=\u001b[39m \u001b[38;5;124m'\u001b[39m\u001b[38;5;124m_\u001b[39m\u001b[38;5;124m'\u001b[39m \u001b[38;5;129;01mand\u001b[39;00m \u001b[38;5;129;01mnot\u001b[39;00m __name\u001b[38;5;241m.\u001b[39mendswith(\u001b[38;5;124m'\u001b[39m\u001b[38;5;124mBase\u001b[39m\u001b[38;5;124m'\u001b[39m):\n\u001b[1;32m    766\u001b[0m         __all__\u001b[38;5;241m.\u001b[39mappend(__name)\n",
      "\u001b[0;31mNameError\u001b[0m: name '_C' is not defined"
     ]
    }
   ],
   "source": [
    "from torch import device\n",
    "device = device(\"cuda\")"
   ]
  },
  {
   "cell_type": "code",
   "execution_count": 113,
   "id": "59a6ffed-9ced-4fec-997a-6e5d2929bda1",
   "metadata": {
    "scrolled": true
   },
   "outputs": [
    {
     "name": "stdout",
     "output_type": "stream",
     "text": [
      "----------------------------------------------------------------\n",
      "        Layer (type)               Output Shape         Param #\n",
      "================================================================\n",
      "            Conv2d-1           [-1, 64, 16, 16]           9,408\n",
      "       BatchNorm2d-2           [-1, 64, 16, 16]             128\n",
      "              ReLU-3           [-1, 64, 16, 16]               0\n",
      "         MaxPool2d-4             [-1, 64, 8, 8]               0\n",
      "            Conv2d-5             [-1, 64, 8, 8]          36,864\n",
      "       BatchNorm2d-6             [-1, 64, 8, 8]             128\n",
      "              ReLU-7             [-1, 64, 8, 8]               0\n",
      "            Conv2d-8             [-1, 64, 8, 8]          36,864\n",
      "       BatchNorm2d-9             [-1, 64, 8, 8]             128\n",
      "             ReLU-10             [-1, 64, 8, 8]               0\n",
      "       BasicBlock-11             [-1, 64, 8, 8]               0\n",
      "           Conv2d-12             [-1, 64, 8, 8]          36,864\n",
      "      BatchNorm2d-13             [-1, 64, 8, 8]             128\n",
      "             ReLU-14             [-1, 64, 8, 8]               0\n",
      "           Conv2d-15             [-1, 64, 8, 8]          36,864\n",
      "      BatchNorm2d-16             [-1, 64, 8, 8]             128\n",
      "             ReLU-17             [-1, 64, 8, 8]               0\n",
      "       BasicBlock-18             [-1, 64, 8, 8]               0\n",
      "           Conv2d-19            [-1, 128, 4, 4]          73,728\n",
      "      BatchNorm2d-20            [-1, 128, 4, 4]             256\n",
      "             ReLU-21            [-1, 128, 4, 4]               0\n",
      "           Conv2d-22            [-1, 128, 4, 4]         147,456\n",
      "      BatchNorm2d-23            [-1, 128, 4, 4]             256\n",
      "           Conv2d-24            [-1, 128, 4, 4]           8,192\n",
      "      BatchNorm2d-25            [-1, 128, 4, 4]             256\n",
      "             ReLU-26            [-1, 128, 4, 4]               0\n",
      "       BasicBlock-27            [-1, 128, 4, 4]               0\n",
      "           Conv2d-28            [-1, 128, 4, 4]         147,456\n",
      "      BatchNorm2d-29            [-1, 128, 4, 4]             256\n",
      "             ReLU-30            [-1, 128, 4, 4]               0\n",
      "           Conv2d-31            [-1, 128, 4, 4]         147,456\n",
      "      BatchNorm2d-32            [-1, 128, 4, 4]             256\n",
      "             ReLU-33            [-1, 128, 4, 4]               0\n",
      "       BasicBlock-34            [-1, 128, 4, 4]               0\n",
      "           Conv2d-35            [-1, 256, 2, 2]         294,912\n",
      "      BatchNorm2d-36            [-1, 256, 2, 2]             512\n",
      "             ReLU-37            [-1, 256, 2, 2]               0\n",
      "           Conv2d-38            [-1, 256, 2, 2]         589,824\n",
      "      BatchNorm2d-39            [-1, 256, 2, 2]             512\n",
      "           Conv2d-40            [-1, 256, 2, 2]          32,768\n",
      "      BatchNorm2d-41            [-1, 256, 2, 2]             512\n",
      "             ReLU-42            [-1, 256, 2, 2]               0\n",
      "       BasicBlock-43            [-1, 256, 2, 2]               0\n",
      "           Conv2d-44            [-1, 256, 2, 2]         589,824\n",
      "      BatchNorm2d-45            [-1, 256, 2, 2]             512\n",
      "             ReLU-46            [-1, 256, 2, 2]               0\n",
      "           Conv2d-47            [-1, 256, 2, 2]         589,824\n",
      "      BatchNorm2d-48            [-1, 256, 2, 2]             512\n",
      "             ReLU-49            [-1, 256, 2, 2]               0\n",
      "       BasicBlock-50            [-1, 256, 2, 2]               0\n",
      "           Conv2d-51            [-1, 512, 1, 1]       1,179,648\n",
      "      BatchNorm2d-52            [-1, 512, 1, 1]           1,024\n",
      "             ReLU-53            [-1, 512, 1, 1]               0\n",
      "           Conv2d-54            [-1, 512, 1, 1]       2,359,296\n",
      "      BatchNorm2d-55            [-1, 512, 1, 1]           1,024\n",
      "           Conv2d-56            [-1, 512, 1, 1]         131,072\n",
      "      BatchNorm2d-57            [-1, 512, 1, 1]           1,024\n",
      "             ReLU-58            [-1, 512, 1, 1]               0\n",
      "       BasicBlock-59            [-1, 512, 1, 1]               0\n",
      "           Conv2d-60            [-1, 512, 1, 1]       2,359,296\n",
      "      BatchNorm2d-61            [-1, 512, 1, 1]           1,024\n",
      "             ReLU-62            [-1, 512, 1, 1]               0\n",
      "           Conv2d-63            [-1, 512, 1, 1]       2,359,296\n",
      "      BatchNorm2d-64            [-1, 512, 1, 1]           1,024\n",
      "             ReLU-65            [-1, 512, 1, 1]               0\n",
      "       BasicBlock-66            [-1, 512, 1, 1]               0\n",
      "AdaptiveAvgPool2d-67            [-1, 512, 1, 1]               0\n",
      "           Linear-68                 [-1, 1000]         513,000\n",
      "           ResNet-69                 [-1, 1000]               0\n",
      "             ReLU-70                 [-1, 1000]               0\n",
      "           Linear-71                  [-1, 100]         100,100\n",
      "       LogSoftmax-72                  [-1, 100]               0\n",
      "================================================================\n",
      "Total params: 11,789,612\n",
      "Trainable params: 11,789,612\n",
      "Non-trainable params: 0\n",
      "----------------------------------------------------------------\n",
      "Input size (MB): 0.01\n",
      "Forward/backward pass size (MB): 1.31\n",
      "Params size (MB): 44.97\n",
      "Estimated Total Size (MB): 46.30\n",
      "----------------------------------------------------------------\n"
     ]
    }
   ],
   "source": [
    "model = nn.Sequential(models.resnet18(), \n",
    "                      nn.ReLU(), \n",
    "                      nn.Linear(1000, 100),\n",
    "                      nn.LogSoftmax(dim=1)\n",
    "                      )\n",
    "model.to(device)\n",
    "summary(model, image_shape)"
   ]
  },
  {
   "cell_type": "markdown",
   "id": "ecc6c13a-6d85-4f39-a848-1e3d0e92cf9d",
   "metadata": {},
   "source": [
    "More proper way to create model(s):"
   ]
  },
  {
   "cell_type": "code",
   "execution_count": null,
   "id": "0d947d9f-e666-41e3-97c7-317d285964d5",
   "metadata": {},
   "outputs": [],
   "source": [
    "# class MyModel(nn.Module):\n",
    "#     def __init__(self):\n",
    "#         super(MyModel, self).__init__()\n",
    "#         self.backbone = models.resnet50(pretrained=True)  # Using ResNet50 as backbone\n",
    "#         self.top_layers = nn.Sequential(\n",
    "#             nn.Linear(1000, 512),\n",
    "#             nn.ReLU(),\n",
    "#             nn.Linear(512, 10)\n",
    "#         )\n",
    "    \n",
    "#     def forward(self, x):\n",
    "#         x = self.backbone(x)\n",
    "#         x = self.top_layers(x)\n",
    "#         return x\n"
   ]
  },
  {
   "cell_type": "code",
   "execution_count": 17,
   "id": "40f2f1b7-c20e-4e82-9615-90b8b5fe0772",
   "metadata": {},
   "outputs": [
    {
     "name": "stdout",
     "output_type": "stream",
     "text": [
      "tensor([[-4.5480, -4.9181, -4.6904,  ..., -4.9407, -4.9526, -4.7065],\n",
      "        [-4.4706, -4.7872, -4.6963,  ..., -4.6993, -4.7989, -4.4542],\n",
      "        [-3.8471, -4.7066, -4.7608,  ..., -4.9528, -5.0971, -4.8272],\n",
      "        ...,\n",
      "        [-4.7883, -4.3619, -4.5407,  ..., -5.3517, -5.5016, -4.7085],\n",
      "        [-4.5607, -4.6098, -4.7121,  ..., -5.1807, -5.1489, -5.0597],\n",
      "        [-4.5164, -4.6936, -4.5415,  ..., -4.9056, -4.6557, -4.1627]],\n",
      "       device='cuda:0', grad_fn=<LogSoftmaxBackward0>)\n"
     ]
    }
   ],
   "source": [
    "for data, target in train_loaders[0]:\n",
    "    print(model(data.to(device)))\n",
    "    break"
   ]
  },
  {
   "cell_type": "markdown",
   "id": "c52ae398-9f5c-4ae2-86ba-aa2a67e4b92b",
   "metadata": {},
   "source": [
    "I select loss and optimizer:"
   ]
  },
  {
   "cell_type": "code",
   "execution_count": 114,
   "id": "73e099dd-5bc8-477b-bf0d-2821db0877d4",
   "metadata": {},
   "outputs": [],
   "source": [
    "optimizer = optim.SGD(model.parameters(), lr=1e-3, weight_decay=0)\n",
    "# optimizer = optim.SGD(model.parameters(), lr=5e-5)\n",
    "loss_fn = nn.NLLLoss()"
   ]
  },
  {
   "cell_type": "code",
   "execution_count": 55,
   "id": "8635fe80-4e5d-44b7-a1a1-a25e2cb55ccc",
   "metadata": {},
   "outputs": [],
   "source": [
    "def evaluate(model, test_loader):\n",
    "    model.eval()\n",
    "    scores = 0.\n",
    "    for data, target in test_loader:\n",
    "        pred = model(data.to(device)).argmax(dim=1)\n",
    "        scores += (pred == target.to(device)).float().mean(dim=0)\n",
    "    return scores / len(test_loader) "
   ]
  },
  {
   "cell_type": "code",
   "execution_count": 101,
   "id": "834b49f9-093e-41b3-95dc-1e1197b06698",
   "metadata": {
    "scrolled": true
   },
   "outputs": [
    {
     "name": "stdout",
     "output_type": "stream",
     "text": [
      "0.0019841270986944437\n",
      "0.0\n",
      "0.01686508022248745\n",
      "0.006944444961845875\n",
      "0.004960317630320787\n",
      "0.0019841270986944437\n",
      "0.0545634962618351\n",
      "0.0238095261156559\n",
      "0.01190476305782795\n",
      "0.0029761907644569874\n"
     ]
    }
   ],
   "source": [
    "for i in range(set_num):\n",
    "    print(evaluate(model, test_loaders[i]).item())"
   ]
  },
  {
   "cell_type": "code",
   "execution_count": 21,
   "id": "46f6c0c7-182a-4608-9d42-eedbd21ad9b7",
   "metadata": {},
   "outputs": [
    {
     "data": {
      "text/plain": [
       "63"
      ]
     },
     "execution_count": 21,
     "metadata": {},
     "output_type": "execute_result"
    }
   ],
   "source": [
    "len(test_loaders[0])"
   ]
  },
  {
   "cell_type": "markdown",
   "id": "965816e8-f260-4ade-bb96-e495f6cced19",
   "metadata": {},
   "source": [
    "FIX: make test_loader a keyword argument in train function"
   ]
  },
  {
   "cell_type": "code",
   "execution_count": 115,
   "id": "b14f89e4-ed44-4b1c-9f39-a4017b6cbde5",
   "metadata": {},
   "outputs": [],
   "source": [
    "def train(model, optimizer, criterion, train_loader, test_loader, num_epochs=30):\n",
    "    losses = torch.zeros(num_epochs)\n",
    "    acc_scores = torch.empty((2, num_epochs)) \n",
    "    \n",
    "    for i in tqdm(range(num_epochs)):\n",
    "        model.train()\n",
    "        \n",
    "        for data, target in train_loader:    \n",
    "            optimizer.zero_grad()\n",
    "            output = model(data.to(device))            \n",
    "            loss = criterion(output, target.to(device))\n",
    "            losses[i] += loss.data.to(\"cpu\") / len(train_loader)\n",
    "\n",
    "            loss.backward()\n",
    "            optimizer.step()\n",
    "\n",
    "        model.eval()\n",
    "        acc_scores[0][i] = evaluate(model, train_loader)\n",
    "        acc_scores[1][i] = evaluate(model, test_loader)\n",
    "\n",
    "    return losses, acc_scores"
   ]
  },
  {
   "cell_type": "code",
   "execution_count": 116,
   "id": "a74ba174-aba5-4169-9002-7fc1c64f34a2",
   "metadata": {},
   "outputs": [
    {
     "name": "stderr",
     "output_type": "stream",
     "text": [
      "100%|██████████| 20/20 [02:03<00:00,  6.20s/it]\n"
     ]
    }
   ],
   "source": [
    "losses, acc_scores = train(model, optimizer, loss_fn, train_loaders[0], test_loaders[0], 20)"
   ]
  },
  {
   "cell_type": "code",
   "execution_count": 117,
   "id": "77f96d98-fcb5-437e-98cc-999c05f60a04",
   "metadata": {
    "scrolled": true
   },
   "outputs": [],
   "source": [
    "def visualize(losses, acc_scores):\n",
    "        \n",
    "    fig, axs = plt.subplots(2, 1, figsize=(5,5), layout=\"tight\")\n",
    "    axs[0].plot(losses)\n",
    "    axs[0].title.set_text(\"Loss\")\n",
    "    axs[1].plot(acc_scores[0], label=\"train\")\n",
    "    axs[1].plot(acc_scores[1], label=\"test\")\n",
    "    axs[1].title.set_text(\"Accuracy\")\n",
    "    axs[1].set_xlabel(\"Epoch\")\n",
    "    axs[1].legend()\n",
    "\n",
    "    plt.savefig(\"plots/resnet18_30ep\")"
   ]
  },
  {
   "cell_type": "code",
   "execution_count": 118,
   "id": "64ddadea-956a-43ba-b87b-5054a1eb266a",
   "metadata": {},
   "outputs": [
    {
     "data": {
      "image/png": "[encoded data removed]",
      "text/plain": [
       "<Figure size 500x500 with 2 Axes>"
      ]
     },
     "metadata": {},
     "output_type": "display_data"
    }
   ],
   "source": [
    "visualize(losses, acc_scores)"
   ]
  },
  {
   "cell_type": "code",
   "execution_count": 119,
   "id": "cdbcdf57-76b3-42b2-9452-47a91a7773e9",
   "metadata": {},
   "outputs": [
    {
     "name": "stderr",
     "output_type": "stream",
     "text": [
      "100%|██████████| 10/10 [01:03<00:00,  6.32s/it]\n"
     ]
    },
    {
     "data": {
      "image/png": "[encoded data removed]",
      "text/plain": [
       "<Figure size 500x500 with 2 Axes>"
      ]
     },
     "metadata": {},
     "output_type": "display_data"
    }
   ],
   "source": [
    "for i in range(10):\n",
    "    l, a = train(model, optimizer, loss_fn, train_loaders[1], test_loaders[1], 1)\n",
    "    \n",
    "visualize(l, a)"
   ]
  },
  {
   "cell_type": "code",
   "execution_count": 90,
   "id": "f150ba16-ee63-4e6d-96d8-3cf1a4498421",
   "metadata": {},
   "outputs": [
    {
     "data": {
      "text/plain": [
       "tensor(0., device='cuda:0')"
      ]
     },
     "execution_count": 90,
     "metadata": {},
     "output_type": "execute_result"
    }
   ],
   "source": [
    "evaluate(model, test_loaders[0])"
   ]
  },
  {
   "cell_type": "markdown",
   "id": "d534acff-2ba7-4f50-9c40-158b4e6d3249",
   "metadata": {},
   "source": []
  },
  {
   "cell_type": "code",
   "execution_count": 71,
   "id": "a738cbf3-f0ed-407f-babe-930bca019933",
   "metadata": {},
   "outputs": [],
   "source": [
    "def train_class_incremental(model, optimizer, criterion, num_tasks, num_epochs_per_task=10):\n",
    "    acc_on_task_0 = torch.empty(num_tasks)\n",
    "    acc_on_last_task = torch.empty(num_tasks)\n",
    "    \n",
    "    for i in range(num_tasks):\n",
    "        _, acc = train(model, optimizer, criterion, train_loaders[i], test_loaders[i], num_epochs_per_task)\n",
    "\n",
    "        acc_on_last_task[i] = acc[1][-1]\n",
    "        acc_on_task_0[i] = evaluate(model, test_loaders[0])\n",
    "\n",
    "        print(\"Task \", i)\n",
    "        print(\"Accuracy on task \", i, \": \", acc_on_last_task[i])\n",
    "        print(\"Accuracy on task \", 0, \": \",acc_on_task_0[i])\n",
    "        \n",
    "    return acc_on_last_task, acc_on_task_0"
   ]
  },
  {
   "cell_type": "code",
   "execution_count": 110,
   "id": "3624e534-f4a1-41b1-aa83-1edb36d77dce",
   "metadata": {},
   "outputs": [
    {
     "name": "stderr",
     "output_type": "stream",
     "text": [
      "100%|██████████| 2/2 [00:12<00:00,  6.42s/it]\n"
     ]
    },
    {
     "name": "stdout",
     "output_type": "stream",
     "text": [
      "Task  0\n",
      "Accuracy on task  0 :  tensor(0.6200)\n",
      "Accuracy on task  0 :  tensor(0.6190)\n"
     ]
    },
    {
     "name": "stderr",
     "output_type": "stream",
     "text": [
      "100%|██████████| 2/2 [00:12<00:00,  6.48s/it]\n"
     ]
    },
    {
     "name": "stdout",
     "output_type": "stream",
     "text": [
      "Task  1\n",
      "Accuracy on task  1 :  tensor(0.6171)\n",
      "Accuracy on task  0 :  tensor(0.)\n"
     ]
    },
    {
     "name": "stderr",
     "output_type": "stream",
     "text": [
      "100%|██████████| 2/2 [00:12<00:00,  6.41s/it]\n"
     ]
    },
    {
     "name": "stdout",
     "output_type": "stream",
     "text": [
      "Task  2\n",
      "Accuracy on task  2 :  tensor(0.6984)\n",
      "Accuracy on task  0 :  tensor(0.)\n"
     ]
    },
    {
     "name": "stderr",
     "output_type": "stream",
     "text": [
      "100%|██████████| 2/2 [00:12<00:00,  6.49s/it]\n"
     ]
    },
    {
     "name": "stdout",
     "output_type": "stream",
     "text": [
      "Task  3\n",
      "Accuracy on task  3 :  tensor(0.6369)\n",
      "Accuracy on task  0 :  tensor(0.)\n"
     ]
    },
    {
     "name": "stderr",
     "output_type": "stream",
     "text": [
      "100%|██████████| 2/2 [00:12<00:00,  6.47s/it]\n"
     ]
    },
    {
     "name": "stdout",
     "output_type": "stream",
     "text": [
      "Task  4\n",
      "Accuracy on task  4 :  tensor(0.7014)\n",
      "Accuracy on task  0 :  tensor(0.)\n"
     ]
    },
    {
     "name": "stderr",
     "output_type": "stream",
     "text": [
      "100%|██████████| 2/2 [00:12<00:00,  6.45s/it]\n"
     ]
    },
    {
     "name": "stdout",
     "output_type": "stream",
     "text": [
      "Task  5\n",
      "Accuracy on task  5 :  tensor(0.6984)\n",
      "Accuracy on task  0 :  tensor(0.)\n"
     ]
    },
    {
     "name": "stderr",
     "output_type": "stream",
     "text": [
      "100%|██████████| 2/2 [00:13<00:00,  6.50s/it]\n"
     ]
    },
    {
     "name": "stdout",
     "output_type": "stream",
     "text": [
      "Task  6\n",
      "Accuracy on task  6 :  tensor(0.7113)\n",
      "Accuracy on task  0 :  tensor(0.)\n"
     ]
    },
    {
     "name": "stderr",
     "output_type": "stream",
     "text": [
      "100%|██████████| 2/2 [00:12<00:00,  6.24s/it]\n"
     ]
    },
    {
     "name": "stdout",
     "output_type": "stream",
     "text": [
      "Task  7\n",
      "Accuracy on task  7 :  tensor(0.6776)\n",
      "Accuracy on task  0 :  tensor(0.)\n"
     ]
    },
    {
     "name": "stderr",
     "output_type": "stream",
     "text": [
      "100%|██████████| 2/2 [00:12<00:00,  6.29s/it]\n"
     ]
    },
    {
     "name": "stdout",
     "output_type": "stream",
     "text": [
      "Task  8\n",
      "Accuracy on task  8 :  tensor(0.6677)\n",
      "Accuracy on task  0 :  tensor(0.)\n"
     ]
    },
    {
     "name": "stderr",
     "output_type": "stream",
     "text": [
      "100%|██████████| 2/2 [00:12<00:00,  6.35s/it]\n"
     ]
    },
    {
     "name": "stdout",
     "output_type": "stream",
     "text": [
      "Task  9\n",
      "Accuracy on task  9 :  tensor(0.7679)\n",
      "Accuracy on task  0 :  tensor(0.)\n"
     ]
    }
   ],
   "source": [
    "acc_last, acc_0 = train_class_incremental(model, optimizer, loss_fn, set_num, num_epochs_per_task=2)"
   ]
  },
  {
   "cell_type": "markdown",
   "id": "2214edc0-398f-47ee-8c87-4aa6ad51e9b8",
   "metadata": {},
   "source": [
    "TODO: heatmap (acc on task - task elapsed)"
   ]
  },
  {
   "cell_type": "code",
   "execution_count": 111,
   "id": "21ff840c-f1a9-41bb-8270-de957488595b",
   "metadata": {},
   "outputs": [],
   "source": [
    "def visualize_class_incremental(acc_last, acc_0):\n",
    "    plt.figure(figsize=(5,3))\n",
    "    plt.plot(range(1, len(acc_last)+1), acc_last, label=\"last task\")\n",
    "    plt.plot(range(1, len(acc_0)+1), acc_0, label=\"task 0\")\n",
    "    plt.xlabel(\"Task\")\n",
    "    plt.title(\"Accuracy\")\n",
    "    plt.legend()\n",
    "    plt.show()\n",
    "    plt.savefig(\"plots/class_incremental\")"
   ]
  },
  {
   "cell_type": "code",
   "execution_count": 112,
   "id": "78e5d1dc-4ea9-4d95-ad25-5375c1c0545e",
   "metadata": {},
   "outputs": [
    {
     "data": {
      "image/png": "[encoded data removed]",
      "text/plain": [
       "<Figure size 500x300 with 1 Axes>"
      ]
     },
     "metadata": {},
     "output_type": "display_data"
    },
    {
     "data": {
      "text/plain": [
       "<Figure size 640x480 with 0 Axes>"
      ]
     },
     "metadata": {},
     "output_type": "display_data"
    }
   ],
   "source": [
    "visualize_class_incremental(acc_last, acc_0)"
   ]
  },
  {
   "cell_type": "code",
   "execution_count": null,
   "id": "25559ad4-5f87-495f-97d0-359069ee03c9",
   "metadata": {},
   "outputs": [],
   "source": [
    "model_2 = models.vit_b_16()"
   ]
  },
  {
   "cell_type": "code",
   "execution_count": null,
   "id": "124b237e-bd81-4373-b005-75f657806431",
   "metadata": {},
   "outputs": [],
   "source": []
  },
  {
   "cell_type": "code",
   "execution_count": null,
   "id": "9dab6373-ff5e-4687-8dbd-a177b70f9b30",
   "metadata": {},
   "outputs": [],
   "source": []
  }
 ],
 "metadata": {
  "kernelspec": {
   "display_name": "PyTorch for rotation 1",
   "language": "python",
   "name": "torchenv"
  },
  "language_info": {
   "codemirror_mode": {
    "name": "ipython",
    "version": 3
   },
   "file_extension": ".py",
   "mimetype": "text/x-python",
   "name": "python",
   "nbconvert_exporter": "python",
   "pygments_lexer": "ipython3",
   "version": "3.12.6"
  }
 },
 "nbformat": 4,
 "nbformat_minor": 5
}
