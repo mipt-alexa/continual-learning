{
 "cells": [
  {
   "cell_type": "code",
   "execution_count": 1,
   "id": "8c5a378a-3589-4d09-9918-e3a2b4990973",
   "metadata": {},
   "outputs": [],
   "source": [
    "import torch\n",
    "from torch import optim, nn\n",
    "from functools import partial\n",
    "from tqdm import tqdm\n",
    "from torchinfo import summary\n",
    "from torch.utils.data import Dataset, DataLoader\n",
    "import wandb \n",
    "from collections import defaultdict\n",
    "import numpy as np"
   ]
  },
  {
   "cell_type": "code",
   "execution_count": 2,
   "id": "529e63b7-15a7-42e7-b400-1b942f2aa6eb",
   "metadata": {},
   "outputs": [],
   "source": [
    "import sys\n",
    "from pathlib import Path\n",
    "\n",
    "# Add the 'src' folder to sys.path\n",
    "sys.path.append(str(Path().resolve().parent / \"src\"))\n",
    "\n",
    "from initialize import *\n",
    "from classes import *\n",
    "from train import *\n",
    "from data_proc import *"
   ]
  },
  {
   "cell_type": "code",
   "execution_count": 3,
   "id": "b9f1c026-035b-4cbc-929d-e607f7fbfd5c",
   "metadata": {},
   "outputs": [
    {
     "data": {
      "text/plain": [
       "'/nfs/scistore23/chlgrp/avolkova/rotation1/pipeline/src'"
      ]
     },
     "execution_count": 3,
     "metadata": {},
     "output_type": "execute_result"
    }
   ],
   "source": [
    "str(Path().resolve().parent / \"src\")"
   ]
  },
  {
   "cell_type": "code",
   "execution_count": 16,
   "id": "b392e760-d8fc-4cbf-b9da-a0f3a08432d7",
   "metadata": {},
   "outputs": [
    {
     "name": "stderr",
     "output_type": "stream",
     "text": [
      "100%|██████████| 10/10 [00:06<00:00,  1.54it/s]\n",
      "100%|██████████| 10/10 [00:01<00:00,  7.35it/s]\n",
      "100%|██████████| 10/10 [00:33<00:00,  3.40s/it]\n",
      "100%|██████████| 10/10 [00:00<00:00, 607.08it/s]\n"
     ]
    }
   ],
   "source": [
    "loaders = create_loaders(buffer_size=1000)"
   ]
  },
  {
   "cell_type": "code",
   "execution_count": 17,
   "id": "d1a1a39e",
   "metadata": {},
   "outputs": [
    {
     "name": "stdout",
     "output_type": "stream",
     "text": [
      "4\n",
      "36\n",
      "4\n",
      "43\n",
      "4\n",
      "43\n",
      "4\n",
      "43\n",
      "4\n",
      "43\n",
      "4\n",
      "43\n",
      "4\n",
      "43\n",
      "4\n",
      "43\n",
      "4\n",
      "43\n",
      "4\n",
      "43\n"
     ]
    }
   ],
   "source": [
    "for task_id in range(10):\n",
    "    print(len(loaders[\"val\"][task_id]))\n",
    "    print(len(loaders[\"train\"][task_id]))"
   ]
  },
  {
   "cell_type": "code",
   "execution_count": 18,
   "id": "f3053cf4-8f42-4d16-8342-b806c1e6fb37",
   "metadata": {},
   "outputs": [
    {
     "name": "stdout",
     "output_type": "stream",
     "text": [
      "0 (array([0, 1, 2, 3, 4, 5, 6, 7, 8, 9]),)\n",
      "0 [450 450 450 450 450 450 450 450 450 450   0   0   0   0   0   0   0   0\n",
      "   0   0   0   0   0   0   0   0   0   0   0   0   0   0   0   0   0   0\n",
      "   0   0   0   0   0   0   0   0   0   0   0   0   0   0   0   0   0   0\n",
      "   0   0   0   0   0   0   0   0   0   0   0   0   0   0   0   0   0   0\n",
      "   0   0   0   0   0   0   0   0   0   0   0   0   0   0   0   0   0   0\n",
      "   0   0   0   0   0   0   0   0   0   0]\n",
      "1 (array([10, 11, 12, 13, 14, 15, 16, 17, 18, 19]),)\n",
      "1000 [100 100 100 100 100 100 100 100 100 100 450 450 450 450 450 450 450 450\n",
      " 450 450   0   0   0   0   0   0   0   0   0   0   0   0   0   0   0   0\n",
      "   0   0   0   0   0   0   0   0   0   0   0   0   0   0   0   0   0   0\n",
      "   0   0   0   0   0   0   0   0   0   0   0   0   0   0   0   0   0   0\n",
      "   0   0   0   0   0   0   0   0   0   0   0   0   0   0   0   0   0   0\n",
      "   0   0   0   0   0   0   0   0   0   0]\n",
      "2 (array([20, 21, 22, 23, 24, 25, 26, 27, 28, 29]),)\n",
      "1000 [ 50  50  50  50  50  50  50  50  50  50  50  50  50  50  50  50  50  50\n",
      "  50  50 450 450 450 450 450 450 450 450 450 450   0   0   0   0   0   0\n",
      "   0   0   0   0   0   0   0   0   0   0   0   0   0   0   0   0   0   0\n",
      "   0   0   0   0   0   0   0   0   0   0   0   0   0   0   0   0   0   0\n",
      "   0   0   0   0   0   0   0   0   0   0   0   0   0   0   0   0   0   0\n",
      "   0   0   0   0   0   0   0   0   0   0]\n",
      "3 (array([30, 31, 32, 33, 34, 35, 36, 37, 38, 39]),)\n",
      "990 [ 33  33  33  33  33  33  33  33  33  33  33  33  33  33  33  33  33  33\n",
      "  33  33  33  33  33  33  33  33  33  33  33  33 450 450 450 450 450 450\n",
      " 450 450 450 450   0   0   0   0   0   0   0   0   0   0   0   0   0   0\n",
      "   0   0   0   0   0   0   0   0   0   0   0   0   0   0   0   0   0   0\n",
      "   0   0   0   0   0   0   0   0   0   0   0   0   0   0   0   0   0   0\n",
      "   0   0   0   0   0   0   0   0   0   0]\n",
      "4 (array([40, 41, 42, 43, 44, 45, 46, 47, 48, 49]),)\n",
      "1000 [ 25  25  25  25  25  25  25  25  25  25  25  25  25  25  25  25  25  25\n",
      "  25  25  25  25  25  25  25  25  25  25  25  25  25  25  25  25  25  25\n",
      "  25  25  25  25 450 450 450 450 450 450 450 450 450 450   0   0   0   0\n",
      "   0   0   0   0   0   0   0   0   0   0   0   0   0   0   0   0   0   0\n",
      "   0   0   0   0   0   0   0   0   0   0   0   0   0   0   0   0   0   0\n",
      "   0   0   0   0   0   0   0   0   0   0]\n",
      "5 (array([50, 51, 52, 53, 54, 55, 56, 57, 58, 59]),)\n",
      "1000 [ 20  20  20  20  20  20  20  20  20  20  20  20  20  20  20  20  20  20\n",
      "  20  20  20  20  20  20  20  20  20  20  20  20  20  20  20  20  20  20\n",
      "  20  20  20  20  20  20  20  20  20  20  20  20  20  20 450 450 450 450\n",
      " 450 450 450 450 450 450   0   0   0   0   0   0   0   0   0   0   0   0\n",
      "   0   0   0   0   0   0   0   0   0   0   0   0   0   0   0   0   0   0\n",
      "   0   0   0   0   0   0   0   0   0   0]\n",
      "6 (array([60, 61, 62, 63, 64, 65, 66, 67, 68, 69]),)\n",
      "960 [ 16  16  16  16  16  16  16  16  16  16  16  16  16  16  16  16  16  16\n",
      "  16  16  16  16  16  16  16  16  16  16  16  16  16  16  16  16  16  16\n",
      "  16  16  16  16  16  16  16  16  16  16  16  16  16  16  16  16  16  16\n",
      "  16  16  16  16  16  16 450 450 450 450 450 450 450 450 450 450   0   0\n",
      "   0   0   0   0   0   0   0   0   0   0   0   0   0   0   0   0   0   0\n",
      "   0   0   0   0   0   0   0   0   0   0]\n",
      "7 (array([70, 71, 72, 73, 74, 75, 76, 77, 78, 79]),)\n",
      "980 [ 14  14  14  14  14  14  14  14  14  14  14  14  14  14  14  14  14  14\n",
      "  14  14  14  14  14  14  14  14  14  14  14  14  14  14  14  14  14  14\n",
      "  14  14  14  14  14  14  14  14  14  14  14  14  14  14  14  14  14  14\n",
      "  14  14  14  14  14  14  14  14  14  14  14  14  14  14  14  14 450 450\n",
      " 450 450 450 450 450 450 450 450   0   0   0   0   0   0   0   0   0   0\n",
      "   0   0   0   0   0   0   0   0   0   0]\n",
      "8 (array([80, 81, 82, 83, 84, 85, 86, 87, 88, 89]),)\n",
      "960 [ 12  12  12  12  12  12  12  12  12  12  12  12  12  12  12  12  12  12\n",
      "  12  12  12  12  12  12  12  12  12  12  12  12  12  12  12  12  12  12\n",
      "  12  12  12  12  12  12  12  12  12  12  12  12  12  12  12  12  12  12\n",
      "  12  12  12  12  12  12  12  12  12  12  12  12  12  12  12  12  12  12\n",
      "  12  12  12  12  12  12  12  12 450 450 450 450 450 450 450 450 450 450\n",
      "   0   0   0   0   0   0   0   0   0   0]\n",
      "9 (array([90, 91, 92, 93, 94, 95, 96, 97, 98, 99]),)\n",
      "990 [ 11  11  11  11  11  11  11  11  11  11  11  11  11  11  11  11  11  11\n",
      "  11  11  11  11  11  11  11  11  11  11  11  11  11  11  11  11  11  11\n",
      "  11  11  11  11  11  11  11  11  11  11  11  11  11  11  11  11  11  11\n",
      "  11  11  11  11  11  11  11  11  11  11  11  11  11  11  11  11  11  11\n",
      "  11  11  11  11  11  11  11  11  11  11  11  11  11  11  11  11  11  11\n",
      " 450 450 450 450 450 450 450 450 450 450]\n"
     ]
    }
   ],
   "source": [
    "\n",
    "for task_id in range(10):\n",
    "    val_label_num = np.zeros(100, dtype=int)\n",
    "    train_label_num = np.zeros(100, dtype=int)\n",
    "    \n",
    "    for data, label in loaders[\"val\"][task_id]:\n",
    "        for l in label:\n",
    "            val_label_num[l] += 1    \n",
    "            \n",
    "    for data, label in loaders[\"train\"][task_id]:\n",
    "        for l in label:\n",
    "            train_label_num[l] += 1\n",
    "\n",
    "    print(task_id, val_label_num.nonzero())\n",
    "    print(train_label_num[:10*task_id].sum(), train_label_num)"
   ]
  },
  {
   "cell_type": "code",
   "execution_count": 14,
   "id": "a91d9be3-4941-4877-b428-2eecb1567275",
   "metadata": {},
   "outputs": [
    {
     "name": "stdout",
     "output_type": "stream",
     "text": [
      "0 (array([0, 1, 2, 3, 4, 5, 6, 7, 8, 9]),)\n",
      "1 (array([10, 11, 12, 13, 14, 15, 16, 17, 18, 19]),)\n",
      "2 (array([20, 21, 22, 23, 24, 25, 26, 27, 28, 29]),)\n",
      "3 (array([30, 31, 32, 33, 34, 35, 36, 37, 38, 39]),)\n",
      "4 (array([40, 41, 42, 43, 44, 45, 46, 47, 48, 49]),)\n",
      "5 (array([50, 51, 52, 53, 54, 55, 56, 57, 58, 59]),)\n",
      "6 (array([60, 61, 62, 63, 64, 65, 66, 67, 68, 69]),)\n",
      "7 (array([70, 71, 72, 73, 74, 75, 76, 77, 78, 79]),)\n",
      "8 (array([80, 81, 82, 83, 84, 85, 86, 87, 88, 89]),)\n",
      "9 (array([90, 91, 92, 93, 94, 95, 96, 97, 98, 99]),)\n"
     ]
    }
   ],
   "source": [
    "for task_id in range(10):\n",
    "    test_label_num = np.zeros(100, dtype=int)\n",
    "    \n",
    "    for data, label in loaders[\"test\"][task_id]:\n",
    "        for l in label:\n",
    "            test_label_num[l] += 1    \n",
    "            \n",
    "    print(task_id, test_label_num.nonzero())"
   ]
  },
  {
   "cell_type": "code",
   "execution_count": 8,
   "id": "75c681a0-369d-4afb-afc6-36adb84260bc",
   "metadata": {},
   "outputs": [
    {
     "data": {
      "text/plain": [
       "tensor([96, 78, 95, 77, 28, 97, 69, 64, 14, 12, 88, 86, 65, 43, 84, 70, 31, 98,\n",
       "        52, 24, 38, 66, 21, 23, 40, 62, 60, 33,  8, 17, 67, 20, 11, 91, 48, 63,\n",
       "        93, 99, 10, 45, 73, 59, 82, 34, 49,  2, 90,  7,  3, 46, 87, 76, 26, 56,\n",
       "        89, 54, 35, 94, 55, 58,  0, 25, 29, 61, 27, 85, 16, 71, 22, 19, 41, 42,\n",
       "        30, 57, 13, 37, 74,  1, 50, 18, 39, 44, 53, 47, 36, 51, 79, 83, 68, 72,\n",
       "        75,  6, 81,  5, 92, 32, 80,  4,  9, 15])"
      ]
     },
     "execution_count": 8,
     "metadata": {},
     "output_type": "execute_result"
    }
   ],
   "source": [
    "torch.randperm(100)"
   ]
  },
  {
   "cell_type": "code",
   "execution_count": 9,
   "id": "79948c5b-a81f-42b4-b0c3-17e4b18f5560",
   "metadata": {},
   "outputs": [
    {
     "data": {
      "text/plain": [
       "1e-06"
      ]
     },
     "execution_count": 9,
     "metadata": {},
     "output_type": "execute_result"
    }
   ],
   "source": [
    "optimizer = optim.AdamW(nn.Linear(1, 1).parameters(), lr=1e-6)\n",
    "\n",
    "optimizer.param_groups[0][\"lr\"] "
   ]
  },
  {
   "cell_type": "code",
   "execution_count": 10,
   "id": "af2855bf-4ec8-4704-b0e6-9ff0839f72f8",
   "metadata": {},
   "outputs": [
    {
     "data": {
      "text/plain": [
       "array([2, 4, 6])"
      ]
     },
     "execution_count": 10,
     "metadata": {},
     "output_type": "execute_result"
    }
   ],
   "source": [
    "np.array([1, 2, 3]) * 2"
   ]
  },
  {
   "cell_type": "code",
   "execution_count": 11,
   "id": "a1344c8b-3552-4ef1-bbde-4ec7f2446e2f",
   "metadata": {},
   "outputs": [
    {
     "data": {
      "text/plain": [
       "tensor([ 30,  60,  90, 120, 150])"
      ]
     },
     "execution_count": 11,
     "metadata": {},
     "output_type": "execute_result"
    }
   ],
   "source": [
    "torch.tensor(range(1, 6), dtype=int) * 3 * 10\n"
   ]
  },
  {
   "cell_type": "code",
   "execution_count": 12,
   "id": "7889e66e-7b21-468b-81a1-d1b891500971",
   "metadata": {},
   "outputs": [
    {
     "data": {
      "text/plain": [
       "range(0, 7)"
      ]
     },
     "execution_count": 12,
     "metadata": {},
     "output_type": "execute_result"
    }
   ],
   "source": [
    "range(7)"
   ]
  },
  {
   "cell_type": "code",
   "execution_count": 13,
   "id": "cba1ae99",
   "metadata": {},
   "outputs": [
    {
     "data": {
      "text/plain": [
       "[4, 5, 4]"
      ]
     },
     "execution_count": 13,
     "metadata": {},
     "output_type": "execute_result"
    }
   ],
   "source": [
    "a = [4,5]\n",
    "a.append(4)\n",
    "a"
   ]
  },
  {
   "cell_type": "code",
   "execution_count": null,
   "id": "d2128ba9",
   "metadata": {},
   "outputs": [],
   "source": []
  }
 ],
 "metadata": {
  "kernelspec": {
   "display_name": "Python 3 (ipykernel)",
   "language": "python",
   "name": "python3"
  },
  "language_info": {
   "codemirror_mode": {
    "name": "ipython",
    "version": 3
   },
   "file_extension": ".py",
   "mimetype": "text/x-python",
   "name": "python",
   "nbconvert_exporter": "python",
   "pygments_lexer": "ipython3",
   "version": "3.11.8"
  }
 },
 "nbformat": 4,
 "nbformat_minor": 5
}
