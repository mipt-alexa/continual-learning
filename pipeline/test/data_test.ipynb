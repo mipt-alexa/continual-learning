{
 "cells": [
  {
   "cell_type": "code",
   "execution_count": 1,
   "id": "8c5a378a-3589-4d09-9918-e3a2b4990973",
   "metadata": {},
   "outputs": [],
   "source": [
    "import torch\n",
    "from torch import optim, nn\n",
    "from functools import partial\n",
    "from tqdm import tqdm\n",
    "from torchinfo import summary\n",
    "from torch.utils.data import Dataset, DataLoader\n",
    "import wandb \n",
    "from collections import defaultdict\n",
    "import numpy as np"
   ]
  },
  {
   "cell_type": "code",
   "execution_count": 2,
   "id": "529e63b7-15a7-42e7-b400-1b942f2aa6eb",
   "metadata": {},
   "outputs": [],
   "source": [
    "import sys\n",
    "from pathlib import Path\n",
    "\n",
    "# Add the 'src' folder to sys.path\n",
    "sys.path.append(str(Path().resolve().parent / \"src\"))\n",
    "\n",
    "from initialize import *\n",
    "from classes import *\n",
    "from train import *\n",
    "from data_proc import *"
   ]
  },
  {
   "cell_type": "code",
   "execution_count": 3,
   "id": "b9f1c026-035b-4cbc-929d-e607f7fbfd5c",
   "metadata": {},
   "outputs": [
    {
     "data": {
      "text/plain": [
       "'/nfs/scistore23/chlgrp/avolkova/rotation1/pipeline/src'"
      ]
     },
     "execution_count": 3,
     "metadata": {},
     "output_type": "execute_result"
    }
   ],
   "source": [
    "str(Path().resolve().parent / \"src\")"
   ]
  },
  {
   "cell_type": "code",
   "execution_count": 4,
   "id": "b392e760-d8fc-4cbf-b9da-a0f3a08432d7",
   "metadata": {},
   "outputs": [
    {
     "name": "stderr",
     "output_type": "stream",
     "text": [
      "  0%|          | 0/10 [00:00<?, ?it/s]"
     ]
    },
    {
     "name": "stderr",
     "output_type": "stream",
     "text": [
      "100%|██████████| 10/10 [00:08<00:00,  1.21it/s]\n",
      "100%|██████████| 10/10 [00:01<00:00,  5.96it/s]\n",
      "100%|██████████| 10/10 [00:00<00:00, 4001.82it/s]\n"
     ]
    }
   ],
   "source": [
    "loaders = create_loaders(buffer_size=1000)"
   ]
  },
  {
   "cell_type": "code",
   "execution_count": 5,
   "id": "d1a1a39e",
   "metadata": {},
   "outputs": [
    {
     "name": "stdout",
     "output_type": "stream",
     "text": [
      "4\n",
      "36\n",
      "4\n",
      "36\n",
      "4\n",
      "37\n",
      "4\n",
      "38\n",
      "4\n",
      "39\n",
      "4\n",
      "40\n",
      "4\n",
      "40\n",
      "4\n",
      "41\n",
      "4\n",
      "42\n",
      "4\n",
      "43\n"
     ]
    }
   ],
   "source": [
    "for task_id in range(10):\n",
    "    print(len(loaders[\"val\"][task_id]))\n",
    "    print(len(loaders[\"train\"][task_id]))"
   ]
  },
  {
   "cell_type": "code",
   "execution_count": 6,
   "id": "f3053cf4-8f42-4d16-8342-b806c1e6fb37",
   "metadata": {},
   "outputs": [
    {
     "name": "stdout",
     "output_type": "stream",
     "text": [
      "0 [450 450 450 450 450 450 450 450 450 450   0   0   0   0   0   0   0   0\n",
      "   0   0   0   0   0   0   0   0   0   0   0   0   0   0   0   0   0   0\n",
      "   0   0   0   0   0   0   0   0   0   0   0   0   0   0   0   0   0   0\n",
      "   0   0   0   0   0   0   0   0   0   0   0   0   0   0   0   0   0   0\n",
      "   0   0   0   0   0   0   0   0   0   0   0   0   0   0   0   0   0   0\n",
      "   0   0   0   0   0   0   0   0   0   0]\n",
      "1 [  9  10  13  10   9   7  13   7  14   8 450 450 450 450 450 450 450 450\n",
      " 450 450   0   0   0   0   0   0   0   0   0   0   0   0   0   0   0   0\n",
      "   0   0   0   0   0   0   0   0   0   0   0   0   0   0   0   0   0   0\n",
      "   0   0   0   0   0   0   0   0   0   0   0   0   0   0   0   0   0   0\n",
      "   0   0   0   0   0   0   0   0   0   0   0   0   0   0   0   0   0   0\n",
      "   0   0   0   0   0   0   0   0   0   0]\n",
      "2 [  8   5  14   9  15  12  11   9   9   8  10   7  10  11  10  14   8   7\n",
      "  14   9 450 450 450 450 450 450 450 450 450 450   0   0   0   0   0   0\n",
      "   0   0   0   0   0   0   0   0   0   0   0   0   0   0   0   0   0   0\n",
      "   0   0   0   0   0   0   0   0   0   0   0   0   0   0   0   0   0   0\n",
      "   0   0   0   0   0   0   0   0   0   0   0   0   0   0   0   0   0   0\n",
      "   0   0   0   0   0   0   0   0   0   0]\n",
      "3 [ 15   4  15   9   9  17   9   9   3  10   9  11   7  11  12  11   8   9\n",
      "  13   9   8   5   9  11  12  16   8   6  14  11 450 450 450 450 450 450\n",
      " 450 450 450 450   0   0   0   0   0   0   0   0   0   0   0   0   0   0\n",
      "   0   0   0   0   0   0   0   0   0   0   0   0   0   0   0   0   0   0\n",
      "   0   0   0   0   0   0   0   0   0   0   0   0   0   0   0   0   0   0\n",
      "   0   0   0   0   0   0   0   0   0   0]\n",
      "4 [  5  12  10   9   7   7  12  11  14  13  10  12   8  14  13   9   8   9\n",
      "  10   7   2  14  10  10   7  12  13  12   8  12  16   9  12   6   7  11\n",
      "  12  11   9   7 450 450 450 450 450 450 450 450 450 450   0   0   0   0\n",
      "   0   0   0   0   0   0   0   0   0   0   0   0   0   0   0   0   0   0\n",
      "   0   0   0   0   0   0   0   0   0   0   0   0   0   0   0   0   0   0\n",
      "   0   0   0   0   0   0   0   0   0   0]\n",
      "5 [ 13  11   9   5   7  18   8  12   8   9  10   5  10  11  13   4   9  13\n",
      "   9  16  12   8   9   8  14   8  12  12   7  10   9  12   9   9  11   9\n",
      "  10  11   7  13  10   9   9  15  10   7   9  12  11   8 450 450 450 450\n",
      " 450 450 450 450 450 450   0   0   0   0   0   0   0   0   0   0   0   0\n",
      "   0   0   0   0   0   0   0   0   0   0   0   0   0   0   0   0   0   0\n",
      "   0   0   0   0   0   0   0   0   0   0]\n",
      "6 [  9  12  10   9   7  11  12  13  11   6   6  11   6  12   8  17  11   9\n",
      "   9  11   5  11   8  12  13   8  15   8  10  10  14  15   9   9   8   9\n",
      "   7  10  10   9   9  10   6   7  15  11  11  11  13   7  11   7  10  10\n",
      "  10   9   8  11  11  13 450 450 450 450 450 450 450 450 450 450   0   0\n",
      "   0   0   0   0   0   0   0   0   0   0   0   0   0   0   0   0   0   0\n",
      "   0   0   0   0   0   0   0   0   0   0]\n",
      "7 [  7   6  11  14  11  11  11   7  12  10   9   9   9   8   9  12   7  18\n",
      "  10   9  13  10  12   9   7  10  12   6  12   9  12  10   5  12  11  11\n",
      "  12  10   8   9  13  11  12  12   9  11  11   7   4  10   7  10  12   9\n",
      "  12  10  11  10  10   9   8  11  11   8  13  12  12   9   6  10 450 450\n",
      " 450 450 450 450 450 450 450 450   0   0   0   0   0   0   0   0   0   0\n",
      "   0   0   0   0   0   0   0   0   0   0]\n",
      "8 [ 13  16   7  14   1   6  11  12   9  11   8  13  11   9   9   5  12   9\n",
      "  10  14   8  10  15   8  11   8  11   7  13   9  11  12  11   8   6  14\n",
      "   9  10   9  10  11   8  11  11  11   7  12  11  10   8  11  14  12  11\n",
      "  11   6   9   9   6  11  12   9  10  10   9  11  10  12   8   9  12  10\n",
      "   9  12   7  12   9  10  10   9 450 450 450 450 450 450 450 450 450 450\n",
      "   0   0   0   0   0   0   0   0   0   0]\n",
      "9 [ 11  12  11  13   6   6   7  11  10  13   9  10   8   8   8  10  13  11\n",
      "   9  14  11   8   4  11   9  13  11  11  12  10  12  12  13   7   5  12\n",
      "   9  12  12   6  12  10   8  10   8  12   9  11   9  11  13  11   5  11\n",
      "  11  12   8   8  10  11  11  12  11  10   6   9  10  11  10  10  10   9\n",
      "   9   9  12  11  10  11   9  10   9  11  10  11   8  10  11  10  10  10\n",
      " 450 450 450 450 450 450 450 450 450 450]\n"
     ]
    }
   ],
   "source": [
    "\n",
    "for task_id in range(10):\n",
    "    val_label_num = np.zeros(100, dtype=int)\n",
    "    train_label_num = np.zeros(100, dtype=int)\n",
    "    \n",
    "    # for data, label in loaders[\"val\"][task_id]:\n",
    "    #     for l in label:\n",
    "    #         val_label_num[l] += 1    \n",
    "            \n",
    "    for data, label in loaders[\"train\"][task_id]:\n",
    "        for l in label:\n",
    "            train_label_num[l] += 1\n",
    "\n",
    "    print(task_id, train_label_num)"
   ]
  },
  {
   "cell_type": "code",
   "execution_count": 8,
   "id": "a91d9be3-4941-4877-b428-2eecb1567275",
   "metadata": {},
   "outputs": [
    {
     "name": "stdout",
     "output_type": "stream",
     "text": [
      "0 [100 100 100 100 100 100 100 100 100 100   0   0   0   0   0   0   0   0\n",
      "   0   0   0   0   0   0   0   0   0   0   0   0   0   0   0   0   0   0\n",
      "   0   0   0   0   0   0   0   0   0   0   0   0   0   0   0   0   0   0\n",
      "   0   0   0   0   0   0   0   0   0   0   0   0   0   0   0   0   0   0\n",
      "   0   0   0   0   0   0   0   0   0   0   0   0   0   0   0   0   0   0\n",
      "   0   0   0   0   0   0   0   0   0   0]\n",
      "1 [  0   0   0   0   0   0   0   0   0   0 100 100 100 100 100 100 100 100\n",
      " 100 100   0   0   0   0   0   0   0   0   0   0   0   0   0   0   0   0\n",
      "   0   0   0   0   0   0   0   0   0   0   0   0   0   0   0   0   0   0\n",
      "   0   0   0   0   0   0   0   0   0   0   0   0   0   0   0   0   0   0\n",
      "   0   0   0   0   0   0   0   0   0   0   0   0   0   0   0   0   0   0\n",
      "   0   0   0   0   0   0   0   0   0   0]\n",
      "2 [  0   0   0   0   0   0   0   0   0   0   0   0   0   0   0   0   0   0\n",
      "   0   0 100 100 100 100 100 100 100 100 100 100   0   0   0   0   0   0\n",
      "   0   0   0   0   0   0   0   0   0   0   0   0   0   0   0   0   0   0\n",
      "   0   0   0   0   0   0   0   0   0   0   0   0   0   0   0   0   0   0\n",
      "   0   0   0   0   0   0   0   0   0   0   0   0   0   0   0   0   0   0\n",
      "   0   0   0   0   0   0   0   0   0   0]\n",
      "3 [  0   0   0   0   0   0   0   0   0   0   0   0   0   0   0   0   0   0\n",
      "   0   0   0   0   0   0   0   0   0   0   0   0 100 100 100 100 100 100\n",
      " 100 100 100 100   0   0   0   0   0   0   0   0   0   0   0   0   0   0\n",
      "   0   0   0   0   0   0   0   0   0   0   0   0   0   0   0   0   0   0\n",
      "   0   0   0   0   0   0   0   0   0   0   0   0   0   0   0   0   0   0\n",
      "   0   0   0   0   0   0   0   0   0   0]\n",
      "4 [  0   0   0   0   0   0   0   0   0   0   0   0   0   0   0   0   0   0\n",
      "   0   0   0   0   0   0   0   0   0   0   0   0   0   0   0   0   0   0\n",
      "   0   0   0   0 100 100 100 100 100 100 100 100 100 100   0   0   0   0\n",
      "   0   0   0   0   0   0   0   0   0   0   0   0   0   0   0   0   0   0\n",
      "   0   0   0   0   0   0   0   0   0   0   0   0   0   0   0   0   0   0\n",
      "   0   0   0   0   0   0   0   0   0   0]\n",
      "5 [  0   0   0   0   0   0   0   0   0   0   0   0   0   0   0   0   0   0\n",
      "   0   0   0   0   0   0   0   0   0   0   0   0   0   0   0   0   0   0\n",
      "   0   0   0   0   0   0   0   0   0   0   0   0   0   0 100 100 100 100\n",
      " 100 100 100 100 100 100   0   0   0   0   0   0   0   0   0   0   0   0\n",
      "   0   0   0   0   0   0   0   0   0   0   0   0   0   0   0   0   0   0\n",
      "   0   0   0   0   0   0   0   0   0   0]\n",
      "6 [  0   0   0   0   0   0   0   0   0   0   0   0   0   0   0   0   0   0\n",
      "   0   0   0   0   0   0   0   0   0   0   0   0   0   0   0   0   0   0\n",
      "   0   0   0   0   0   0   0   0   0   0   0   0   0   0   0   0   0   0\n",
      "   0   0   0   0   0   0 100 100 100 100 100 100 100 100 100 100   0   0\n",
      "   0   0   0   0   0   0   0   0   0   0   0   0   0   0   0   0   0   0\n",
      "   0   0   0   0   0   0   0   0   0   0]\n",
      "7 [  0   0   0   0   0   0   0   0   0   0   0   0   0   0   0   0   0   0\n",
      "   0   0   0   0   0   0   0   0   0   0   0   0   0   0   0   0   0   0\n",
      "   0   0   0   0   0   0   0   0   0   0   0   0   0   0   0   0   0   0\n",
      "   0   0   0   0   0   0   0   0   0   0   0   0   0   0   0   0 100 100\n",
      " 100 100 100 100 100 100 100 100   0   0   0   0   0   0   0   0   0   0\n",
      "   0   0   0   0   0   0   0   0   0   0]\n",
      "8 [  0   0   0   0   0   0   0   0   0   0   0   0   0   0   0   0   0   0\n",
      "   0   0   0   0   0   0   0   0   0   0   0   0   0   0   0   0   0   0\n",
      "   0   0   0   0   0   0   0   0   0   0   0   0   0   0   0   0   0   0\n",
      "   0   0   0   0   0   0   0   0   0   0   0   0   0   0   0   0   0   0\n",
      "   0   0   0   0   0   0   0   0 100 100 100 100 100 100 100 100 100 100\n",
      "   0   0   0   0   0   0   0   0   0   0]\n",
      "9 [  0   0   0   0   0   0   0   0   0   0   0   0   0   0   0   0   0   0\n",
      "   0   0   0   0   0   0   0   0   0   0   0   0   0   0   0   0   0   0\n",
      "   0   0   0   0   0   0   0   0   0   0   0   0   0   0   0   0   0   0\n",
      "   0   0   0   0   0   0   0   0   0   0   0   0   0   0   0   0   0   0\n",
      "   0   0   0   0   0   0   0   0   0   0   0   0   0   0   0   0   0   0\n",
      " 100 100 100 100 100 100 100 100 100 100]\n"
     ]
    }
   ],
   "source": [
    "for task_id in range(10):\n",
    "    test_label_num = np.zeros(100, dtype=int)\n",
    "    \n",
    "    for data, label in loaders[\"test\"][task_id]:\n",
    "        for l in label:\n",
    "            test_label_num[l] += 1    \n",
    "            \n",
    "    print(task_id, test_label_num)"
   ]
  },
  {
   "cell_type": "code",
   "execution_count": 8,
   "id": "75c681a0-369d-4afb-afc6-36adb84260bc",
   "metadata": {},
   "outputs": [
    {
     "data": {
      "text/plain": [
       "tensor([72, 13, 22, 27, 92, 87, 26, 99, 16, 86, 65,  5, 97, 49, 17, 95, 42, 82,\n",
       "        36, 40, 93, 98, 84, 96, 61, 55, 11, 75,  7, 74, 30, 35, 70, 44, 15, 41,\n",
       "         9, 57, 12, 69, 78, 34, 67, 20, 43,  3, 37, 85, 66, 45, 32, 94, 83, 89,\n",
       "        77, 51, 18, 60, 50, 88, 58, 56, 46, 73, 33, 91,  1, 63, 21, 47, 64, 10,\n",
       "        71, 62,  2,  6, 38, 59, 25, 14, 52, 79,  0, 28, 29,  4, 48, 76, 31, 68,\n",
       "        24, 90, 80,  8, 19, 23, 39, 81, 54, 53])"
      ]
     },
     "execution_count": 8,
     "metadata": {},
     "output_type": "execute_result"
    }
   ],
   "source": [
    "torch.randperm(100)"
   ]
  },
  {
   "cell_type": "code",
   "execution_count": 19,
   "id": "79948c5b-a81f-42b4-b0c3-17e4b18f5560",
   "metadata": {},
   "outputs": [
    {
     "data": {
      "text/plain": [
       "1e-06"
      ]
     },
     "execution_count": 19,
     "metadata": {},
     "output_type": "execute_result"
    }
   ],
   "source": [
    "optimizer = optim.AdamW(nn.Linear(1, 1).parameters(), lr=1e-6)\n",
    "\n",
    "optimizer.param_groups[0][\"lr\"] "
   ]
  },
  {
   "cell_type": "code",
   "execution_count": 23,
   "id": "af2855bf-4ec8-4704-b0e6-9ff0839f72f8",
   "metadata": {},
   "outputs": [
    {
     "data": {
      "text/plain": [
       "array([2, 4, 6])"
      ]
     },
     "execution_count": 23,
     "metadata": {},
     "output_type": "execute_result"
    }
   ],
   "source": [
    "np.array([1, 2, 3]) * 2"
   ]
  },
  {
   "cell_type": "code",
   "execution_count": 24,
   "id": "a1344c8b-3552-4ef1-bbde-4ec7f2446e2f",
   "metadata": {},
   "outputs": [
    {
     "data": {
      "text/plain": [
       "tensor([ 30,  60,  90, 120, 150])"
      ]
     },
     "execution_count": 24,
     "metadata": {},
     "output_type": "execute_result"
    }
   ],
   "source": [
    "torch.tensor(range(1, 6), dtype=int) * 3 * 10\n"
   ]
  },
  {
   "cell_type": "code",
   "execution_count": null,
   "id": "7889e66e-7b21-468b-81a1-d1b891500971",
   "metadata": {},
   "outputs": [],
   "source": []
  }
 ],
 "metadata": {
  "kernelspec": {
   "display_name": "Python 3",
   "language": "python",
   "name": "python3"
  },
  "language_info": {
   "codemirror_mode": {
    "name": "ipython",
    "version": 3
   },
   "file_extension": ".py",
   "mimetype": "text/x-python",
   "name": "python",
   "nbconvert_exporter": "python",
   "pygments_lexer": "ipython3",
   "version": "3.12.6"
  }
 },
 "nbformat": 4,
 "nbformat_minor": 5
}
