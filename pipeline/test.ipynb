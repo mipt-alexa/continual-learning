{
 "cells": [
  {
   "cell_type": "code",
   "execution_count": 190,
   "id": "d76d9d00-d647-494f-b4e9-da776777c7a9",
   "metadata": {},
   "outputs": [],
   "source": [
    "import torch\n",
    "from torch import optim, nn\n",
    "from functools import partial\n"
   ]
  },
  {
   "cell_type": "code",
   "execution_count": 157,
   "id": "a991dea0-4858-4211-995f-66dc919af39c",
   "metadata": {},
   "outputs": [],
   "source": [
    "from initialize import *"
   ]
  },
  {
   "cell_type": "code",
   "execution_count": 252,
   "id": "12d0c1e1-7555-4eb7-bdca-6ad9a9f1ba38",
   "metadata": {},
   "outputs": [],
   "source": [
    "model = nn.Linear(10, 5)\n",
    "\n",
    "optimizer = optim.SGD(model.parameters(), lr=1)\n",
    "criterion = nn.CrossEntropyLoss()"
   ]
  },
  {
   "cell_type": "code",
   "execution_count": 253,
   "id": "00833c0a-0063-40b6-8d80-80d2e53b67bd",
   "metadata": {},
   "outputs": [
    {
     "data": {
      "text/plain": [
       "tensor([[-0.1922, -0.0244,  0.1427, -0.1275, -0.1680, -0.1448,  0.3027, -0.0618,\n",
       "          0.0321,  0.2736],\n",
       "        [-0.2548,  0.1016,  0.1874,  0.1151,  0.0753, -0.1704, -0.1242, -0.0014,\n",
       "         -0.0504,  0.2900],\n",
       "        [-0.2566,  0.2901,  0.2249, -0.0976, -0.2419, -0.1379, -0.0907, -0.2692,\n",
       "          0.2005, -0.2647],\n",
       "        [-0.2032, -0.1043,  0.0273, -0.2816, -0.3070, -0.0194,  0.1192, -0.2898,\n",
       "         -0.0006,  0.1752],\n",
       "        [ 0.3029,  0.2622,  0.1841, -0.1187,  0.0830,  0.1624, -0.2479, -0.1528,\n",
       "          0.2537,  0.0968]])"
      ]
     },
     "execution_count": 253,
     "metadata": {},
     "output_type": "execute_result"
    }
   ],
   "source": [
    "old = model.weight.detach().clone()\n",
    "old"
   ]
  },
  {
   "cell_type": "code",
   "execution_count": 254,
   "id": "d3517e96-af94-45ec-abed-0429e931c2be",
   "metadata": {},
   "outputs": [],
   "source": [
    "model.weight.grad"
   ]
  },
  {
   "cell_type": "code",
   "execution_count": 255,
   "id": "0d4b5fc7-a56e-4cca-bddf-d71fc76d4652",
   "metadata": {},
   "outputs": [],
   "source": [
    "def hook(grad, cond):\n",
    "    print(\"hook\")\n",
    "    grad[:cond[0]] = 0\n",
    "    grad[cond[1]:] = 0\n",
    "    return grad\n",
    "\n",
    "\n",
    "target_sep = [(0,1), (2,3)]\n",
    "\n",
    "h = model.weight.register_hook(partial(hook, cond=target_sep[0]))"
   ]
  },
  {
   "cell_type": "code",
   "execution_count": 256,
   "id": "bc9a6a7b-bed4-486a-8db0-ae751394b923",
   "metadata": {},
   "outputs": [
    {
     "name": "stdout",
     "output_type": "stream",
     "text": [
      "hook\n"
     ]
    }
   ],
   "source": [
    "optimizer.zero_grad()\n",
    "loss = criterion(model(torch.rand((1, 10))), torch.tensor([2], dtype=int))\n",
    "model.train()\n",
    "loss.backward()\n",
    "optimizer.step()"
   ]
  },
  {
   "cell_type": "code",
   "execution_count": 257,
   "id": "1fcc8856-7b97-4a95-acc1-bbb2955456cf",
   "metadata": {},
   "outputs": [
    {
     "data": {
      "text/plain": [
       "tensor([-0.1003,  0.0000,  0.0000,  0.0000,  0.0000], grad_fn=<MeanBackward1>)"
      ]
     },
     "execution_count": 257,
     "metadata": {},
     "output_type": "execute_result"
    }
   ],
   "source": [
    "(model.weight - old).mean(axis=-1)"
   ]
  },
  {
   "cell_type": "code",
   "execution_count": 258,
   "id": "ea5d92e5-4a6c-4888-bc81-448754947710",
   "metadata": {},
   "outputs": [
    {
     "data": {
      "text/plain": [
       "tensor([[0.1053, 0.0097, 0.1441, 0.0339, 0.1870, 0.1779, 0.1774, 0.0491, 0.0293,\n",
       "         0.0894],\n",
       "        [0.0000, 0.0000, 0.0000, 0.0000, 0.0000, 0.0000, 0.0000, 0.0000, 0.0000,\n",
       "         0.0000],\n",
       "        [0.0000, 0.0000, 0.0000, 0.0000, 0.0000, 0.0000, 0.0000, 0.0000, 0.0000,\n",
       "         0.0000],\n",
       "        [0.0000, 0.0000, 0.0000, 0.0000, 0.0000, 0.0000, 0.0000, 0.0000, 0.0000,\n",
       "         0.0000],\n",
       "        [0.0000, 0.0000, 0.0000, 0.0000, 0.0000, 0.0000, 0.0000, 0.0000, 0.0000,\n",
       "         0.0000]])"
      ]
     },
     "execution_count": 258,
     "metadata": {},
     "output_type": "execute_result"
    }
   ],
   "source": [
    "model.weight.grad"
   ]
  },
  {
   "cell_type": "code",
   "execution_count": 259,
   "id": "fd486883-0d50-4728-9c41-299adbe43bdf",
   "metadata": {},
   "outputs": [
    {
     "data": {
      "text/plain": [
       "Parameter containing:\n",
       "tensor([[-0.2975, -0.0341, -0.0014, -0.1613, -0.3550, -0.3228,  0.1253, -0.1109,\n",
       "          0.0028,  0.1842],\n",
       "        [-0.2548,  0.1016,  0.1874,  0.1151,  0.0753, -0.1704, -0.1242, -0.0014,\n",
       "         -0.0504,  0.2900],\n",
       "        [-0.2566,  0.2901,  0.2249, -0.0976, -0.2419, -0.1379, -0.0907, -0.2692,\n",
       "          0.2005, -0.2647],\n",
       "        [-0.2032, -0.1043,  0.0273, -0.2816, -0.3070, -0.0194,  0.1192, -0.2898,\n",
       "         -0.0006,  0.1752],\n",
       "        [ 0.3029,  0.2622,  0.1841, -0.1187,  0.0830,  0.1624, -0.2479, -0.1528,\n",
       "          0.2537,  0.0968]], requires_grad=True)"
      ]
     },
     "execution_count": 259,
     "metadata": {},
     "output_type": "execute_result"
    }
   ],
   "source": [
    "model.weight"
   ]
  },
  {
   "cell_type": "code",
   "execution_count": 260,
   "id": "c7e96e94-9774-47b3-b61a-b2e72934c322",
   "metadata": {},
   "outputs": [
    {
     "data": {
      "text/plain": [
       "tensor([[-0.1922, -0.0244,  0.1427, -0.1275, -0.1680, -0.1448,  0.3027, -0.0618,\n",
       "          0.0321,  0.2736],\n",
       "        [-0.2548,  0.1016,  0.1874,  0.1151,  0.0753, -0.1704, -0.1242, -0.0014,\n",
       "         -0.0504,  0.2900],\n",
       "        [-0.2566,  0.2901,  0.2249, -0.0976, -0.2419, -0.1379, -0.0907, -0.2692,\n",
       "          0.2005, -0.2647],\n",
       "        [-0.2032, -0.1043,  0.0273, -0.2816, -0.3070, -0.0194,  0.1192, -0.2898,\n",
       "         -0.0006,  0.1752],\n",
       "        [ 0.3029,  0.2622,  0.1841, -0.1187,  0.0830,  0.1624, -0.2479, -0.1528,\n",
       "          0.2537,  0.0968]])"
      ]
     },
     "execution_count": 260,
     "metadata": {},
     "output_type": "execute_result"
    }
   ],
   "source": [
    "old"
   ]
  },
  {
   "cell_type": "code",
   "execution_count": 236,
   "id": "362b04af-a9ac-4357-9517-898eb0464d3e",
   "metadata": {},
   "outputs": [],
   "source": [
    "num_tasks = 10\n",
    "set_size = 100 // num_tasks\n",
    "target_sep = [(i*set_size, (i+1)*set_size) for i in range(num_tasks)]\n",
    "target_sep[-1] = (target_sep[-1][0], 100)"
   ]
  },
  {
   "cell_type": "code",
   "execution_count": 237,
   "id": "601b8a9d-aac7-4ed8-a62d-4642fed7106c",
   "metadata": {},
   "outputs": [
    {
     "data": {
      "text/plain": [
       "[(0, 10),\n",
       " (10, 20),\n",
       " (20, 30),\n",
       " (30, 40),\n",
       " (40, 50),\n",
       " (50, 60),\n",
       " (60, 70),\n",
       " (70, 80),\n",
       " (80, 90),\n",
       " (90, 100)]"
      ]
     },
     "execution_count": 237,
     "metadata": {},
     "output_type": "execute_result"
    }
   ],
   "source": [
    "target_sep"
   ]
  },
  {
   "cell_type": "code",
   "execution_count": 240,
   "id": "3f64058b-d45e-4cd9-a9dd-2f8556372a65",
   "metadata": {},
   "outputs": [
    {
     "data": {
      "text/plain": [
       "tensor([[0.2727, 0.9049, 0.7966, 0.5810, 0.3650],\n",
       "        [0.7375, 0.4366, 0.7186, 0.0105, 0.7604],\n",
       "        [0.7147, 0.4369, 0.4764, 0.1091, 0.3966],\n",
       "        [0.7021, 0.5749, 0.9472, 0.8856, 0.3974]])"
      ]
     },
     "execution_count": 240,
     "metadata": {},
     "output_type": "execute_result"
    }
   ],
   "source": [
    "a = torch.rand((4, 5))\n",
    "a"
   ]
  },
  {
   "cell_type": "code",
   "execution_count": 244,
   "id": "52018f9f-db80-4336-b0fd-c1256f2cb49c",
   "metadata": {},
   "outputs": [
    {
     "data": {
      "text/plain": [
       "tensor([[0.3650]])"
      ]
     },
     "execution_count": 244,
     "metadata": {},
     "output_type": "execute_result"
    }
   ],
   "source": [
    "a[0:1, 4:5]"
   ]
  },
  {
   "cell_type": "code",
   "execution_count": 265,
   "id": "ceec0751-d009-419d-a837-1e8a81ac16d3",
   "metadata": {},
   "outputs": [
    {
     "data": {
      "text/plain": [
       "0.12851215656510312"
      ]
     },
     "execution_count": 265,
     "metadata": {},
     "output_type": "execute_result"
    }
   ],
   "source": [
    "import numpy as np\n",
    "\n",
    "0.95**40"
   ]
  },
  {
   "cell_type": "code",
   "execution_count": null,
   "id": "fe8991e5-46ff-4ff4-8351-687074f88010",
   "metadata": {},
   "outputs": [],
   "source": []
  }
 ],
 "metadata": {
  "kernelspec": {
   "display_name": "New Torch Env",
   "language": "python",
   "name": "torchenv1"
  },
  "language_info": {
   "codemirror_mode": {
    "name": "ipython",
    "version": 3
   },
   "file_extension": ".py",
   "mimetype": "text/x-python",
   "name": "python",
   "nbconvert_exporter": "python",
   "pygments_lexer": "ipython3",
   "version": "3.12.6"
  }
 },
 "nbformat": 4,
 "nbformat_minor": 5
}
