{
 "cells": [
  {
   "cell_type": "code",
   "execution_count": 1,
   "id": "fd2f86e7-879a-4ebd-bd66-7a25a4476867",
   "metadata": {},
   "outputs": [],
   "source": [
    "import torch\n",
    "from torch import optim, nn\n",
    "from functools import partial\n",
    "from initialize import *\n",
    "from classes import *\n",
    "from train import *\n",
    "from data_proc import *\n",
    "from tqdm import tqdm\n",
    "from torchinfo import summary\n",
    "from torch.utils.data import Dataset, DataLoader\n",
    "import wandb \n",
    "\n",
    "\n",
    "if torch.cuda.is_available():\n",
    "    device = torch.device(\"cuda\")\n",
    "else:\n",
    "    device = \"cpu\""
   ]
  },
  {
   "cell_type": "code",
   "execution_count": 2,
   "id": "364f8ccc-1351-43e9-9b79-1841873735e4",
   "metadata": {},
   "outputs": [
    {
     "name": "stderr",
     "output_type": "stream",
     "text": [
      "  0%|          | 0/10 [00:00<?, ?it/s]/nfs/scistore23/chlgrp/avolkova/.conda/envs/TorchEnv/lib/python3.12/site-packages/torch/utils/data/dataloader.py:617: UserWarning: This DataLoader will create 8 worker processes in total. Our suggested max number of worker in current system is 4, which is smaller than what this DataLoader is going to create. Please be aware that excessive worker creation might get DataLoader running slow or even freeze, lower the worker number to avoid potential slowness/freeze if necessary.\n",
      "  warnings.warn(\n",
      "100%|██████████| 10/10 [00:08<00:00,  1.22it/s]\n",
      "100%|██████████| 10/10 [00:07<00:00,  1.35it/s]\n",
      "100%|██████████| 10/10 [00:01<00:00,  6.16it/s]\n"
     ]
    }
   ],
   "source": [
    "loaders = create_loaders()"
   ]
  },
  {
   "cell_type": "code",
   "execution_count": 15,
   "id": "1fac4584-706f-448d-8173-fa245741194b",
   "metadata": {},
   "outputs": [
    {
     "data": {
      "text/plain": [
       "defaultdict(<function __main__.<lambda>()>,\n",
       "            {50: 49,\n",
       "             54: 58,\n",
       "             53: 54,\n",
       "             55: 38,\n",
       "             58: 50,\n",
       "             57: 47,\n",
       "             56: 44,\n",
       "             51: 50,\n",
       "             59: 45,\n",
       "             52: 43})"
      ]
     },
     "execution_count": 15,
     "metadata": {},
     "output_type": "execute_result"
    }
   ],
   "source": [
    "from collections import defaultdict\n",
    "\n",
    "counts = defaultdict(lambda: -1, {})\n",
    "for data, label in loaders[\"val\"][5]:\n",
    "    label = label \n",
    "    for l in label:\n",
    "        counts[int(l)] += 1\n",
    "\n",
    "counts"
   ]
  },
  {
   "cell_type": "code",
   "execution_count": 72,
   "id": "6d17eb15-f5fa-4f06-a64c-c4d7548e86d1",
   "metadata": {},
   "outputs": [
    {
     "data": {
      "text/plain": [
       "defaultdict(<function __main__.<lambda>()>,\n",
       "            {4: tensor([5695, 7217, 6072, 5192, 8202, 9786, 8807, 3267, 4160,  990,   14, 9569,\n",
       "                      302, 6323, 7612, 8558, 3967,  794, 3850, 3794, 6448, 1433,   66, 4711,\n",
       "                     9314, 8905, 4266, 7263, 8545, 5979, 1210, 2126, 6743, 5899, 4047, 7058,\n",
       "                     8371, 2142, 4903, 9776, 6401, 4677, 4278, 3346, 5472, 8774, 1324, 1843,\n",
       "                     2570, 6061, 1608, 5620, 2722, 9320, 6708, 5919, 1497, 4089, 8408, 6174,\n",
       "                     2705,  346, 9408, 4852, 5903, 9576, 6058, 1848, 5602, 2755, 8577, 1079,\n",
       "                     5546, 8237, 3619, 2605, 7732, 9875, 5382, 8485, 5759, 3883, 3047, 7094,\n",
       "                     3505, 2852, 1772, 5589, 5330, 1697, 9654, 2033, 3240, 3054, 1404, 4028,\n",
       "                     6954, 6382, 3732, 1023]),\n",
       "             3: tensor([3944, 6444, 1817, 6308, 4712,  863, 5052, 9702, 1306,  617, 9421, 8453,\n",
       "                     3693, 5577, 2023, 5505, 4809, 5740, 2562, 6218,  480, 1282, 6961,   98,\n",
       "                      993, 4639, 4134,  528, 5124, 5682, 9402, 6885,   55, 5847, 2773, 9699,\n",
       "                      236, 5334,  176, 6665, 3160, 7240, 6883, 2641, 6002, 9640, 3315, 9151,\n",
       "                     5183, 8396, 7716, 1203,  820, 8239,  496, 6935, 2743, 5376, 1918, 9719,\n",
       "                     7351, 4643, 3158, 7265, 9090, 5255, 6385, 9121, 4776, 9461, 9511, 8429,\n",
       "                      833, 3812, 5794, 6567, 7587, 5615, 7783, 8681, 8100, 8185, 2544, 5945,\n",
       "                     4341, 7564, 4991, 3605, 6693, 5619, 1788, 1234, 9777, 9176, 1179, 1334,\n",
       "                     1708, 6982, 8304, 5012]),\n",
       "             7: tensor([4267, 6489, 7196, 9325, 7715, 6016,  392, 3194, 2732, 5984, 8541,  837,\n",
       "                     5301, 1638, 6315,   10, 6283, 5232, 3911, 9049, 6796, 8321, 6396, 4242,\n",
       "                     6723, 5125, 4364,  481, 5079, 7250, 6047, 3217, 7120, 3776, 9865, 3626,\n",
       "                     2371, 8508,  776, 3512, 3495, 3147, 9258, 1986, 9890, 9623, 6287, 2772,\n",
       "                     9879, 2976, 2279,  223,  917,  980, 8240, 9292, 5366, 6817, 3010, 3711,\n",
       "                     2847, 8042, 1347, 4974, 5956, 3540, 2047, 7516, 2728, 1984,  227, 4093,\n",
       "                      536, 1364,  882, 6952, 3797, 8600, 3167, 7886, 4430, 9477, 9267, 8385,\n",
       "                      494,  960,  394, 8647, 9567, 3161, 3212, 4713, 1644, 5653, 7525, 8000,\n",
       "                     9779, 8142, 1869, 5929]),\n",
       "             5: tensor([2384, 5646, 6681, 5638, 2200, 2620, 7632, 5820, 5219, 9826, 1457, 1485,\n",
       "                     7518, 8903, 3531, 9968, 4221, 2017, 4767, 9482, 3773, 4599, 3303, 9157,\n",
       "                     5837, 7493, 5470, 1922, 2699, 9950, 5317,  256, 1327, 7658, 2882, 9368,\n",
       "                     9880, 9676, 5893, 4515, 8841, 9862, 1426, 3451, 9016, 3460, 1204, 8939,\n",
       "                     7418, 8861, 6362, 5868, 1803, 1830, 6612, 1144, 2150, 5661, 1565, 5846,\n",
       "                     7942, 7361, 2192, 8053, 7598,  878, 6604, 5616, 9041, 8919,  254, 7326,\n",
       "                     2599, 8246, 4523, 2883, 5873, 2959, 4295, 9218, 4726, 7031, 9101, 1737,\n",
       "                     6768, 9900,  153, 2402, 3084, 2584, 7294, 6189, 7348, 5503, 6580, 1118,\n",
       "                     4413, 6242, 1615, 3807]),\n",
       "             9: tensor([1663, 5709, 7940, 8204, 8365, 7139, 1637, 3037, 2814, 4589, 6528, 7125,\n",
       "                     2835, 4283, 7308, 7561, 6561, 5291, 9317, 6447, 1263, 6676, 3587,  209,\n",
       "                     5605, 4721, 3265, 6435, 1093, 5462, 7239, 4630, 3727, 8571,  977,  502,\n",
       "                      732,  838,  213, 3330, 3249,  265, 4938, 9312, 7879, 9915, 7001, 5097,\n",
       "                     9166,  403, 3649, 5554,  103, 5335, 2326, 4169, 1844, 3530, 6727,  526,\n",
       "                     8862, 5228, 9935, 9436, 1288, 2921, 3312, 5724, 5676,  857, 1250, 5174,\n",
       "                     3879, 2034, 7713, 4648, 8948, 9018,  855, 5545, 6783, 5387, 5215, 5082,\n",
       "                     3015, 5565, 7437, 6237, 9307,  328, 9643, 9025, 6974, 7349, 1369, 6367,\n",
       "                      579, 1596, 1357, 3582]),\n",
       "             1: tensor([2315, 7200, 3153, 9142,   62, 5253, 8598,  902, 1423, 5664,  789, 4070,\n",
       "                     7238, 5507, 5770, 8448, 5474, 1209, 7073, 2079, 6457, 9992, 3946,  835,\n",
       "                     5884, 3238, 2632, 4994, 2866, 9268, 9635, 1758, 7260, 1541, 7346, 7487,\n",
       "                     6606, 4324, 3816, 8235, 1552, 6246, 6172, 7026, 5857, 7992, 8523, 6406,\n",
       "                     1639, 6725, 6033, 2109, 5127, 1865,  806, 8656, 6327,  865,  349, 2797,\n",
       "                     6001, 5674, 8256, 1177, 3274, 8104, 9328, 5206, 5290, 6554, 1271, 5201,\n",
       "                     1427, 6116, 3868, 3701,  822, 1478, 9930, 1489,  937, 5461, 4276, 8445,\n",
       "                     3468, 2895, 5128, 8224, 6130, 7220, 9530, 5989,  324, 5778, 7995, 1361,\n",
       "                     2299, 2630, 8248, 9500]),\n",
       "             2: tensor([3205, 2500, 3159,    8, 8466, 1086,  139, 6781, 6107, 8007, 1013, 3369,\n",
       "                     1090,  386, 7377, 9885, 6822, 8017,   23, 7381, 9818, 1619, 6932, 4187,\n",
       "                      989, 6639,   95,  716,  849,  126, 4444, 4722,  125, 7535, 2108, 5926,\n",
       "                     9087, 6943, 4186, 2470, 6159, 7907, 2582, 3629, 5195, 2529,  753, 3235,\n",
       "                       38, 6582, 9497, 5677, 4781, 6336, 2445,  595, 9735, 4237, 3105, 2163,\n",
       "                       90, 7626, 1982,  182, 5319, 2463, 5845, 7362, 9594, 4779, 7205, 2635,\n",
       "                     2128, 1020, 2860, 8934,  290, 8083, 8750, 9979, 5881, 8610, 6622, 4899,\n",
       "                     2708, 1646, 7271,  100, 2763, 3943, 5836, 6093, 3670, 1857, 8368, 9550,\n",
       "                     8668, 1866, 6597, 1992]),\n",
       "             0: tensor([7981, 2271,  779, 9387, 1373, 2988, 7365,    9, 7655, 3712, 6226,  532,\n",
       "                     7266, 1469,  476, 2499,  319, 6210, 3591, 7385, 5733, 1105, 6726, 3143,\n",
       "                     9966, 9945,  140, 3745,  754, 5640, 2751, 5558, 5711, 4835, 4101, 5943,\n",
       "                      964, 4732, 8399, 8289, 7077, 3350, 4848, 5810, 1562, 3888, 4708, 3122,\n",
       "                     7850, 1318, 5769, 6875, 6374,  414,  463, 1152,  325, 2996, 7955, 9226,\n",
       "                     9257, 9874, 3981, 8044, 7927, 9652,  198, 4569, 1080, 4941, 6272, 8471,\n",
       "                      572, 3190,  661, 5506, 6842, 4459,  884, 8649, 3753, 6289, 2558, 5101,\n",
       "                     4024, 3925, 7794, 7681, 1272, 4829, 9004, 9745, 3023, 2919, 9419, 4218,\n",
       "                     2464, 9054, 2702, 7717]),\n",
       "             8: tensor([7851, 6066, 2297, 7662, 6920, 2744, 2609, 1056, 4680, 2025, 7616, 8616,\n",
       "                      238, 4746, 4851, 3402, 3770, 3559, 8581, 6928, 5314, 9019, 7660, 7146,\n",
       "                     1181, 6807, 6930, 8906, 6866, 9039, 7644, 1193, 7843, 1959, 7540,  738,\n",
       "                     9132,  672, 2559, 9371, 9247, 7121, 8916, 2602, 3100, 9495, 2105, 4864,\n",
       "                     4883, 1538, 8901, 5227, 9173, 8393, 8565,  487, 6191, 4014,  581, 9191,\n",
       "                     6284, 6991, 7615, 3621, 9590, 6286, 1779, 7841, 1102,  246, 7102, 6964,\n",
       "                     2816, 6994, 9028, 2217, 6921, 8716, 1449, 2254, 7550, 1475, 9671,  375,\n",
       "                     8139, 9547, 3783, 7976, 7883, 5687, 8551, 2580, 5833, 8975,  691, 2925,\n",
       "                     1215, 3006, 2909, 7873]),\n",
       "             6: tensor([1534, 8461, 9242, 8959, 3082, 9404, 5600, 3851,   59, 6867, 8361, 8267,\n",
       "                     9592, 2387, 7034, 4204, 9489, 5346, 4331, 1127, 3086, 6609, 7432, 1183,\n",
       "                     4714, 1067, 2962, 1149, 7449, 4197, 9414, 4119, 5688, 4184, 1942, 1543,\n",
       "                     1795, 8091, 4458, 7183, 7926, 5310, 6228, 1523, 7667, 9458,  415,  155,\n",
       "                     6610,  663, 1815, 3611, 5447,   72, 8998, 1667, 5591,  758,  217, 4301,\n",
       "                     3263, 9160, 3541, 7824, 9006, 6661, 9271, 3244, 3436, 1213, 1591, 6348,\n",
       "                     7809, 8635, 6766, 1502, 8787, 1230, 3157, 2583, 5743,  253, 2298,  424,\n",
       "                     4651, 8514, 3909, 4343, 9923, 6410, 9794, 9563, 8838, 2274, 4132, 5390,\n",
       "                     5967, 7642, 5784, 9071])})"
      ]
     },
     "execution_count": 72,
     "metadata": {},
     "output_type": "execute_result"
    }
   ],
   "source": [
    "data_path = \"/nfs/scistore23/chlgrp/avolkova/rotation1/pipeline/data/\"\n",
    "\n",
    "train_data = datasets.CIFAR100(\n",
    "    root=data_path,\n",
    "    train=False,\n",
    "    download=False,\n",
    "    transform=nn.Sequential(T.ToImage())\n",
    "    )\n",
    "\n",
    "\n",
    "label_to_indices = defaultdict(lambda: torch.empty(0, dtype=int), {})\n",
    "for idx, (_, label) in enumerate(train_data):\n",
    "    label_to_indices[label] = torch.cat((label_to_indices[label], torch.tensor([idx], dtype=int)))\n",
    "\n",
    "\n",
    "val_per_label = len(train_data) // 10 // 100\n",
    "label_to_indx_val = defaultdict(lambda: torch.empty(0, dtype=int), {})\n",
    "label_to_indx_train = defaultdict(lambda: torch.empty(0, dtype=int), {})\n",
    "\n",
    "for label, indx in label_to_indices.items():\n",
    "    perm = torch.randperm(len(indx))\n",
    "    label_to_indx_val[label] = torch.cat((label_to_indx_val[label], indx[perm[:val_per_label]]))\n",
    "    label_to_indx_train[label] = torch.cat((label_to_indx_train[label], indx[perm[val_per_label:]]))\n",
    "\n",
    "label_to_indx_val[0].shape, label_to_indx_train[0].shape\n",
    "\n",
    "task_to_indx = defaultdict(lambda: torch.empty(0, dtype=int), {})\n",
    "\n",
    "for label, ind in label_to_indx_val.items():\n",
    "    task_id = label // 10\n",
    "    task_to_indx[task_id] = torch.cat((task_to_indx[task_id], ind))\n",
    "\n",
    "task_to_indx"
   ]
  },
  {
   "cell_type": "code",
   "execution_count": 33,
   "id": "55c78be0-c40b-4905-96c6-3748d201b77b",
   "metadata": {
    "scrolled": true
   },
   "outputs": [
    {
     "data": {
      "text/plain": [
       "[9,\n",
       " 113,\n",
       " 226,\n",
       " 235,\n",
       " 377,\n",
       " 469,\n",
       " 484,\n",
       " 614,\n",
       " 623,\n",
       " 655,\n",
       " 715,\n",
       " 779,\n",
       " 1014,\n",
       " 1027,\n",
       " 1136,\n",
       " 1304,\n",
       " 1308,\n",
       " 1373,\n",
       " 1738,\n",
       " 1925,\n",
       " 2077,\n",
       " 2239,\n",
       " 2271,\n",
       " 2375,\n",
       " 2426,\n",
       " 2488,\n",
       " 2512,\n",
       " 2648,\n",
       " 2865,\n",
       " 2960,\n",
       " 2988,\n",
       " 3005,\n",
       " 3066,\n",
       " 3413,\n",
       " 3492,\n",
       " 3510,\n",
       " 3518,\n",
       " 3697,\n",
       " 3712,\n",
       " 3725,\n",
       " 3751,\n",
       " 3752,\n",
       " 3775,\n",
       " 4100,\n",
       " 4144,\n",
       " 4289,\n",
       " 4340,\n",
       " 4346,\n",
       " 4433,\n",
       " 4640,\n",
       " 4666,\n",
       " 4676,\n",
       " 4760,\n",
       " 4923,\n",
       " 4965,\n",
       " 5170,\n",
       " 5306,\n",
       " 5370,\n",
       " 5496,\n",
       " 5675,\n",
       " 5679,\n",
       " 5731,\n",
       " 5807,\n",
       " 5885,\n",
       " 5900,\n",
       " 5913,\n",
       " 5998,\n",
       " 6099,\n",
       " 6212,\n",
       " 6253,\n",
       " 6415,\n",
       " 6806,\n",
       " 6827,\n",
       " 6872,\n",
       " 6922,\n",
       " 7219,\n",
       " 7365,\n",
       " 7638,\n",
       " 7655,\n",
       " 7981,\n",
       " 8019,\n",
       " 8045,\n",
       " 8131,\n",
       " 8211,\n",
       " 8250,\n",
       " 8302,\n",
       " 8314,\n",
       " 8327,\n",
       " 8341,\n",
       " 8537,\n",
       " 8578,\n",
       " 8767,\n",
       " 9082,\n",
       " 9097,\n",
       " 9200,\n",
       " 9221,\n",
       " 9387,\n",
       " 9849,\n",
       " 9872,\n",
       " 9904]"
      ]
     },
     "execution_count": 33,
     "metadata": {},
     "output_type": "execute_result"
    }
   ],
   "source": [
    "label_to_indices[0]"
   ]
  },
  {
   "cell_type": "code",
   "execution_count": 36,
   "id": "d039b5db-83ac-4e9c-85fc-fd9232e2a5e9",
   "metadata": {},
   "outputs": [
    {
     "ename": "TypeError",
     "evalue": "only integer tensors of a single element can be converted to an index",
     "output_type": "error",
     "traceback": [
      "\u001b[0;31m---------------------------------------------------------------------------\u001b[0m",
      "\u001b[0;31mTypeError\u001b[0m                                 Traceback (most recent call last)",
      "Cell \u001b[0;32mIn[36], line 3\u001b[0m\n\u001b[1;32m      1\u001b[0m perm \u001b[38;5;241m=\u001b[39m torch\u001b[38;5;241m.\u001b[39mrandperm(\u001b[38;5;28mlen\u001b[39m(label_to_indices[\u001b[38;5;241m0\u001b[39m]))\n\u001b[1;32m      2\u001b[0m idx \u001b[38;5;241m=\u001b[39m perm[:\u001b[38;5;241m5\u001b[39m]\n\u001b[0;32m----> 3\u001b[0m samples \u001b[38;5;241m=\u001b[39m \u001b[43mlabel_to_indices\u001b[49m\u001b[43m[\u001b[49m\u001b[38;5;241;43m0\u001b[39;49m\u001b[43m]\u001b[49m\u001b[43m[\u001b[49m\u001b[43midx\u001b[49m\u001b[43m]\u001b[49m\n",
      "\u001b[0;31mTypeError\u001b[0m: only integer tensors of a single element can be converted to an index"
     ]
    }
   ],
   "source": [
    "perm = torch.randperm(len(label_to_indices[0]))\n",
    "idx = perm[:5]\n",
    "samples = label_to_indices[0][idx]"
   ]
  },
  {
   "cell_type": "code",
   "execution_count": 21,
   "id": "5fbe84d5-ab8a-4945-9182-8280b27714cd",
   "metadata": {},
   "outputs": [
    {
     "data": {
      "text/plain": [
       "49"
      ]
     },
     "execution_count": 21,
     "metadata": {},
     "output_type": "execute_result"
    }
   ],
   "source": [
    "train_data[0][1]"
   ]
  },
  {
   "cell_type": "code",
   "execution_count": 3,
   "id": "8509c82d-5b2e-41fa-868e-0b38bcc958ad",
   "metadata": {},
   "outputs": [],
   "source": [
    "resnet = create_model(\"resnet\").to(device)"
   ]
  },
  {
   "cell_type": "code",
   "execution_count": 6,
   "id": "2383e1ed-5deb-4dd2-8453-83aedd2d7efe",
   "metadata": {},
   "outputs": [],
   "source": [
    "optimizer = setup_optimizer(resnet.parameters(), lr=1e-3)\n",
    "scheduler = setup_scheduler(optimizer)\n",
    "\n",
    "trainer = ExperimentTrainer(loaders,\n",
    "                            resnet, \n",
    "                            optimizer,\n",
    "                            scheduler,\n",
    "                            nn.NLLLoss(),\n",
    "                            device,\n",
    "                            1\n",
    "                               )"
   ]
  },
  {
   "cell_type": "code",
   "execution_count": 7,
   "id": "df0b0347-7d44-4a93-93f9-1529ac1ae368",
   "metadata": {},
   "outputs": [
    {
     "data": {
      "text/html": [
       "Finishing last run (ID:lmtrut5u) before initializing another..."
      ],
      "text/plain": [
       "<IPython.core.display.HTML object>"
      ]
     },
     "metadata": {},
     "output_type": "display_data"
    },
    {
     "data": {
      "text/html": [
       "\n",
       "    <style>\n",
       "        .wandb-row {\n",
       "            display: flex;\n",
       "            flex-direction: row;\n",
       "            flex-wrap: wrap;\n",
       "            justify-content: flex-start;\n",
       "            width: 100%;\n",
       "        }\n",
       "        .wandb-col {\n",
       "            display: flex;\n",
       "            flex-direction: column;\n",
       "            flex-basis: 100%;\n",
       "            flex: 1;\n",
       "            padding: 10px;\n",
       "        }\n",
       "    </style>\n",
       "<div class=\"wandb-row\"><div class=\"wandb-col\"><h3>Run history:</h3><br/><table class=\"wandb\"><tr><td>loss</td><td>▁</td></tr><tr><td>train_acc_0</td><td>▁</td></tr><tr><td>val_acc_0</td><td>▁</td></tr></table><br/></div><div class=\"wandb-col\"><h3>Run summary:</h3><br/><table class=\"wandb\"><tr><td>loss</td><td>2.66437</td></tr><tr><td>train_acc_0</td><td>0.10352</td></tr><tr><td>val_acc_0</td><td>0.09854</td></tr></table><br/></div></div>"
      ],
      "text/plain": [
       "<IPython.core.display.HTML object>"
      ]
     },
     "metadata": {},
     "output_type": "display_data"
    },
    {
     "data": {
      "text/html": [
       " View run <strong style=\"color:#cdcd00\">fresh-dust-2</strong> at: <a href='https://wandb.ai/alexa_-ista/test/runs/lmtrut5u' target=\"_blank\">https://wandb.ai/alexa_-ista/test/runs/lmtrut5u</a><br/> View project at: <a href='https://wandb.ai/alexa_-ista/test' target=\"_blank\">https://wandb.ai/alexa_-ista/test</a><br/>Synced 5 W&B file(s), 0 media file(s), 0 artifact file(s) and 0 other file(s)"
      ],
      "text/plain": [
       "<IPython.core.display.HTML object>"
      ]
     },
     "metadata": {},
     "output_type": "display_data"
    },
    {
     "data": {
      "text/html": [
       "Find logs at: <code>./wandb/run-20241124_204615-lmtrut5u/logs</code>"
      ],
      "text/plain": [
       "<IPython.core.display.HTML object>"
      ]
     },
     "metadata": {},
     "output_type": "display_data"
    },
    {
     "data": {
      "text/html": [
       "Successfully finished last run (ID:lmtrut5u). Initializing new run:<br/>"
      ],
      "text/plain": [
       "<IPython.core.display.HTML object>"
      ]
     },
     "metadata": {},
     "output_type": "display_data"
    },
    {
     "data": {
      "text/html": [
       "Tracking run with wandb version 0.18.7"
      ],
      "text/plain": [
       "<IPython.core.display.HTML object>"
      ]
     },
     "metadata": {},
     "output_type": "display_data"
    },
    {
     "data": {
      "text/html": [
       "Run data is saved locally in <code>/nfs/scistore23/chlgrp/avolkova/rotation1/pipeline/src/wandb/run-20241124_204703-m0hu428w</code>"
      ],
      "text/plain": [
       "<IPython.core.display.HTML object>"
      ]
     },
     "metadata": {},
     "output_type": "display_data"
    },
    {
     "data": {
      "text/html": [
       "Syncing run <strong><a href='https://wandb.ai/alexa_-ista/test/runs/m0hu428w' target=\"_blank\">eternal-durian-3</a></strong> to <a href='https://wandb.ai/alexa_-ista/test' target=\"_blank\">Weights & Biases</a> (<a href='https://wandb.me/developer-guide' target=\"_blank\">docs</a>)<br/>"
      ],
      "text/plain": [
       "<IPython.core.display.HTML object>"
      ]
     },
     "metadata": {},
     "output_type": "display_data"
    },
    {
     "data": {
      "text/html": [
       " View project at <a href='https://wandb.ai/alexa_-ista/test' target=\"_blank\">https://wandb.ai/alexa_-ista/test</a>"
      ],
      "text/plain": [
       "<IPython.core.display.HTML object>"
      ]
     },
     "metadata": {},
     "output_type": "display_data"
    },
    {
     "data": {
      "text/html": [
       " View run at <a href='https://wandb.ai/alexa_-ista/test/runs/m0hu428w' target=\"_blank\">https://wandb.ai/alexa_-ista/test/runs/m0hu428w</a>"
      ],
      "text/plain": [
       "<IPython.core.display.HTML object>"
      ]
     },
     "metadata": {},
     "output_type": "display_data"
    },
    {
     "name": "stderr",
     "output_type": "stream",
     "text": [
      "  0%|          | 0/1 [00:00<?, ?it/s]/nfs/scistore23/chlgrp/avolkova/.conda/envs/TorchEnv/lib/python3.12/site-packages/torch/utils/data/dataloader.py:617: UserWarning: This DataLoader will create 8 worker processes in total. Our suggested max number of worker in current system is 4, which is smaller than what this DataLoader is going to create. Please be aware that excessive worker creation might get DataLoader running slow or even freeze, lower the worker number to avoid potential slowness/freeze if necessary.\n",
      "  warnings.warn(\n",
      "100%|██████████| 1/1 [00:05<00:00,  5.77s/it]"
     ]
    },
    {
     "name": "stdout",
     "output_type": "stream",
     "text": [
      "Epoch 0: loss =  2.37, train_acc = 0.14, val_acc = 0.15\n",
      "torch.Size([0, 1]) torch.Size([1, 1])\n",
      "Finished training on task 0... val_accuracy on task 0 = 0.150\n"
     ]
    },
    {
     "name": "stderr",
     "output_type": "stream",
     "text": [
      "\n"
     ]
    },
    {
     "data": {
      "text/plain": [
       "(tensor([2.3750], device='cuda:0'),\n",
       " tensor([[0.1424]], device='cuda:0'),\n",
       " tensor([[0.1496]], device='cuda:0'))"
      ]
     },
     "execution_count": 7,
     "metadata": {},
     "output_type": "execute_result"
    }
   ],
   "source": [
    "wandb.init(project=\"test\")\n",
    "trainer.train([0], 1)"
   ]
  },
  {
   "cell_type": "code",
   "execution_count": null,
   "id": "d719f80e-402f-4f12-9319-dfb7fe521d8f",
   "metadata": {},
   "outputs": [],
   "source": []
  }
 ],
 "metadata": {
  "kernelspec": {
   "display_name": "New Torch Env",
   "language": "python",
   "name": "torchenv1"
  },
  "language_info": {
   "codemirror_mode": {
    "name": "ipython",
    "version": 3
   },
   "file_extension": ".py",
   "mimetype": "text/x-python",
   "name": "python",
   "nbconvert_exporter": "python",
   "pygments_lexer": "ipython3",
   "version": "3.12.6"
  }
 },
 "nbformat": 4,
 "nbformat_minor": 5
}
