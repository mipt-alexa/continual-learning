{
 "cells": [
  {
   "cell_type": "code",
   "execution_count": 1,
   "id": "d76d9d00-d647-494f-b4e9-da776777c7a9",
   "metadata": {},
   "outputs": [],
   "source": [
    "import torch\n",
    "from torch import optim, nn\n",
    "from functools import partial\n",
    "from initialize import *\n",
    "from classes import *\n",
    "from train import *\n",
    "from data_proc import *\n",
    "from tqdm import tqdm\n",
    "from torchinfo import summary\n",
    "from torch.utils.data import Dataset, DataLoader"
   ]
  },
  {
   "cell_type": "code",
   "execution_count": 2,
   "id": "a991dea0-4858-4211-995f-66dc919af39c",
   "metadata": {},
   "outputs": [],
   "source": []
  },
  {
   "cell_type": "code",
   "execution_count": 252,
   "id": "12d0c1e1-7555-4eb7-bdca-6ad9a9f1ba38",
   "metadata": {},
   "outputs": [],
   "source": [
    "model = nn.Linear(10, 5)\n",
    "\n",
    "optimizer = optim.SGD(model.parameters(), lr=1)\n",
    "criterion = nn.CrossEntropyLoss()"
   ]
  },
  {
   "cell_type": "code",
   "execution_count": 253,
   "id": "00833c0a-0063-40b6-8d80-80d2e53b67bd",
   "metadata": {},
   "outputs": [
    {
     "data": {
      "text/plain": [
       "tensor([[-0.1922, -0.0244,  0.1427, -0.1275, -0.1680, -0.1448,  0.3027, -0.0618,\n",
       "          0.0321,  0.2736],\n",
       "        [-0.2548,  0.1016,  0.1874,  0.1151,  0.0753, -0.1704, -0.1242, -0.0014,\n",
       "         -0.0504,  0.2900],\n",
       "        [-0.2566,  0.2901,  0.2249, -0.0976, -0.2419, -0.1379, -0.0907, -0.2692,\n",
       "          0.2005, -0.2647],\n",
       "        [-0.2032, -0.1043,  0.0273, -0.2816, -0.3070, -0.0194,  0.1192, -0.2898,\n",
       "         -0.0006,  0.1752],\n",
       "        [ 0.3029,  0.2622,  0.1841, -0.1187,  0.0830,  0.1624, -0.2479, -0.1528,\n",
       "          0.2537,  0.0968]])"
      ]
     },
     "execution_count": 253,
     "metadata": {},
     "output_type": "execute_result"
    }
   ],
   "source": [
    "old = model.weight.detach().clone()\n",
    "old"
   ]
  },
  {
   "cell_type": "code",
   "execution_count": 254,
   "id": "d3517e96-af94-45ec-abed-0429e931c2be",
   "metadata": {},
   "outputs": [],
   "source": [
    "model.weight.grad"
   ]
  },
  {
   "cell_type": "code",
   "execution_count": 255,
   "id": "0d4b5fc7-a56e-4cca-bddf-d71fc76d4652",
   "metadata": {},
   "outputs": [],
   "source": [
    "def hook(grad, cond):\n",
    "    print(\"hook\")\n",
    "    grad[:cond[0]] = 0\n",
    "    grad[cond[1]:] = 0\n",
    "    return grad\n",
    "\n",
    "\n",
    "target_sep = [(0,1), (2,3)]\n",
    "\n",
    "h = model.weight.register_hook(partial(hook, cond=target_sep[0]))"
   ]
  },
  {
   "cell_type": "code",
   "execution_count": 256,
   "id": "bc9a6a7b-bed4-486a-8db0-ae751394b923",
   "metadata": {},
   "outputs": [
    {
     "name": "stdout",
     "output_type": "stream",
     "text": [
      "hook\n"
     ]
    }
   ],
   "source": [
    "optimizer.zero_grad()\n",
    "loss = criterion(model(torch.rand((1, 10))), torch.tensor([2], dtype=int))\n",
    "model.train()\n",
    "loss.backward()\n",
    "optimizer.step()"
   ]
  },
  {
   "cell_type": "code",
   "execution_count": 257,
   "id": "1fcc8856-7b97-4a95-acc1-bbb2955456cf",
   "metadata": {},
   "outputs": [
    {
     "data": {
      "text/plain": [
       "tensor([-0.1003,  0.0000,  0.0000,  0.0000,  0.0000], grad_fn=<MeanBackward1>)"
      ]
     },
     "execution_count": 257,
     "metadata": {},
     "output_type": "execute_result"
    }
   ],
   "source": [
    "(model.weight - old).mean(axis=-1)"
   ]
  },
  {
   "cell_type": "code",
   "execution_count": 258,
   "id": "ea5d92e5-4a6c-4888-bc81-448754947710",
   "metadata": {},
   "outputs": [
    {
     "data": {
      "text/plain": [
       "tensor([[0.1053, 0.0097, 0.1441, 0.0339, 0.1870, 0.1779, 0.1774, 0.0491, 0.0293,\n",
       "         0.0894],\n",
       "        [0.0000, 0.0000, 0.0000, 0.0000, 0.0000, 0.0000, 0.0000, 0.0000, 0.0000,\n",
       "         0.0000],\n",
       "        [0.0000, 0.0000, 0.0000, 0.0000, 0.0000, 0.0000, 0.0000, 0.0000, 0.0000,\n",
       "         0.0000],\n",
       "        [0.0000, 0.0000, 0.0000, 0.0000, 0.0000, 0.0000, 0.0000, 0.0000, 0.0000,\n",
       "         0.0000],\n",
       "        [0.0000, 0.0000, 0.0000, 0.0000, 0.0000, 0.0000, 0.0000, 0.0000, 0.0000,\n",
       "         0.0000]])"
      ]
     },
     "execution_count": 258,
     "metadata": {},
     "output_type": "execute_result"
    }
   ],
   "source": [
    "model.weight.grad"
   ]
  },
  {
   "cell_type": "code",
   "execution_count": 259,
   "id": "fd486883-0d50-4728-9c41-299adbe43bdf",
   "metadata": {},
   "outputs": [
    {
     "data": {
      "text/plain": [
       "Parameter containing:\n",
       "tensor([[-0.2975, -0.0341, -0.0014, -0.1613, -0.3550, -0.3228,  0.1253, -0.1109,\n",
       "          0.0028,  0.1842],\n",
       "        [-0.2548,  0.1016,  0.1874,  0.1151,  0.0753, -0.1704, -0.1242, -0.0014,\n",
       "         -0.0504,  0.2900],\n",
       "        [-0.2566,  0.2901,  0.2249, -0.0976, -0.2419, -0.1379, -0.0907, -0.2692,\n",
       "          0.2005, -0.2647],\n",
       "        [-0.2032, -0.1043,  0.0273, -0.2816, -0.3070, -0.0194,  0.1192, -0.2898,\n",
       "         -0.0006,  0.1752],\n",
       "        [ 0.3029,  0.2622,  0.1841, -0.1187,  0.0830,  0.1624, -0.2479, -0.1528,\n",
       "          0.2537,  0.0968]], requires_grad=True)"
      ]
     },
     "execution_count": 259,
     "metadata": {},
     "output_type": "execute_result"
    }
   ],
   "source": [
    "model.weight"
   ]
  },
  {
   "cell_type": "code",
   "execution_count": 260,
   "id": "c7e96e94-9774-47b3-b61a-b2e72934c322",
   "metadata": {},
   "outputs": [
    {
     "data": {
      "text/plain": [
       "tensor([[-0.1922, -0.0244,  0.1427, -0.1275, -0.1680, -0.1448,  0.3027, -0.0618,\n",
       "          0.0321,  0.2736],\n",
       "        [-0.2548,  0.1016,  0.1874,  0.1151,  0.0753, -0.1704, -0.1242, -0.0014,\n",
       "         -0.0504,  0.2900],\n",
       "        [-0.2566,  0.2901,  0.2249, -0.0976, -0.2419, -0.1379, -0.0907, -0.2692,\n",
       "          0.2005, -0.2647],\n",
       "        [-0.2032, -0.1043,  0.0273, -0.2816, -0.3070, -0.0194,  0.1192, -0.2898,\n",
       "         -0.0006,  0.1752],\n",
       "        [ 0.3029,  0.2622,  0.1841, -0.1187,  0.0830,  0.1624, -0.2479, -0.1528,\n",
       "          0.2537,  0.0968]])"
      ]
     },
     "execution_count": 260,
     "metadata": {},
     "output_type": "execute_result"
    }
   ],
   "source": [
    "old"
   ]
  },
  {
   "cell_type": "code",
   "execution_count": 236,
   "id": "362b04af-a9ac-4357-9517-898eb0464d3e",
   "metadata": {},
   "outputs": [],
   "source": [
    "num_tasks = 10\n",
    "set_size = 100 // num_tasks\n",
    "target_sep = [(i*set_size, (i+1)*set_size) for i in range(num_tasks)]\n",
    "target_sep[-1] = (target_sep[-1][0], 100)"
   ]
  },
  {
   "cell_type": "code",
   "execution_count": 237,
   "id": "601b8a9d-aac7-4ed8-a62d-4642fed7106c",
   "metadata": {},
   "outputs": [
    {
     "data": {
      "text/plain": [
       "[(0, 10),\n",
       " (10, 20),\n",
       " (20, 30),\n",
       " (30, 40),\n",
       " (40, 50),\n",
       " (50, 60),\n",
       " (60, 70),\n",
       " (70, 80),\n",
       " (80, 90),\n",
       " (90, 100)]"
      ]
     },
     "execution_count": 237,
     "metadata": {},
     "output_type": "execute_result"
    }
   ],
   "source": [
    "target_sep"
   ]
  },
  {
   "cell_type": "code",
   "execution_count": 240,
   "id": "3f64058b-d45e-4cd9-a9dd-2f8556372a65",
   "metadata": {},
   "outputs": [
    {
     "data": {
      "text/plain": [
       "tensor([[0.2727, 0.9049, 0.7966, 0.5810, 0.3650],\n",
       "        [0.7375, 0.4366, 0.7186, 0.0105, 0.7604],\n",
       "        [0.7147, 0.4369, 0.4764, 0.1091, 0.3966],\n",
       "        [0.7021, 0.5749, 0.9472, 0.8856, 0.3974]])"
      ]
     },
     "execution_count": 240,
     "metadata": {},
     "output_type": "execute_result"
    }
   ],
   "source": [
    "a = torch.rand((4, 5))\n",
    "a"
   ]
  },
  {
   "cell_type": "code",
   "execution_count": 244,
   "id": "52018f9f-db80-4336-b0fd-c1256f2cb49c",
   "metadata": {},
   "outputs": [
    {
     "data": {
      "text/plain": [
       "tensor([[0.3650]])"
      ]
     },
     "execution_count": 244,
     "metadata": {},
     "output_type": "execute_result"
    }
   ],
   "source": [
    "a[0:1, 4:5]"
   ]
  },
  {
   "cell_type": "code",
   "execution_count": 265,
   "id": "ceec0751-d009-419d-a837-1e8a81ac16d3",
   "metadata": {},
   "outputs": [
    {
     "data": {
      "text/plain": [
       "0.12851215656510312"
      ]
     },
     "execution_count": 265,
     "metadata": {},
     "output_type": "execute_result"
    }
   ],
   "source": [
    "import numpy as np\n",
    "\n",
    "0.95**40"
   ]
  },
  {
   "cell_type": "code",
   "execution_count": null,
   "id": "fe8991e5-46ff-4ff4-8351-687074f88010",
   "metadata": {},
   "outputs": [],
   "source": []
  },
  {
   "cell_type": "markdown",
   "id": "7aaf9fd4-97b8-45a8-90d9-2a4492ba0017",
   "metadata": {},
   "source": [
    "# Test new evaluation"
   ]
  },
  {
   "cell_type": "code",
   "execution_count": 6,
   "id": "714bd893-a3d5-4e72-8109-806699221efe",
   "metadata": {},
   "outputs": [],
   "source": [
    "from data_proc import *\n",
    "from train import *"
   ]
  },
  {
   "cell_type": "code",
   "execution_count": 3,
   "id": "2175713b-6a49-4b5e-aa17-30b13b089ca7",
   "metadata": {},
   "outputs": [],
   "source": [
    "model = create_model(\"resnet\")"
   ]
  },
  {
   "cell_type": "code",
   "execution_count": 4,
   "id": "3b33263d-f14b-4385-8a08-43eb3bb3d467",
   "metadata": {},
   "outputs": [
    {
     "name": "stderr",
     "output_type": "stream",
     "text": [
      "100%|██████████| 10/10 [00:24<00:00,  2.41s/it]\n",
      "100%|██████████| 10/10 [00:04<00:00,  2.08it/s]\n",
      "100%|██████████| 10/10 [00:04<00:00,  2.03it/s]\n"
     ]
    }
   ],
   "source": [
    "loaders = create_loaders()"
   ]
  },
  {
   "cell_type": "code",
   "execution_count": 5,
   "id": "9099a5d8-8f00-4072-b2cb-952d22c4b410",
   "metadata": {},
   "outputs": [
    {
     "data": {
      "text/plain": [
       "tensor([0.])"
      ]
     },
     "execution_count": 5,
     "metadata": {},
     "output_type": "execute_result"
    }
   ],
   "source": [
    "evaluate(model, \"cpu\", loaders[\"val\"][0])"
   ]
  },
  {
   "cell_type": "code",
   "execution_count": 6,
   "id": "2619ab19-d7ad-46dc-8920-f0430d8053cf",
   "metadata": {},
   "outputs": [
    {
     "data": {
      "text/plain": [
       "tensor([0.0000, 0.0000, 0.0676, 0.0000, 0.0000, 0.0000, 0.0060, 0.0000, 0.0000,\n",
       "        0.0147])"
      ]
     },
     "execution_count": 6,
     "metadata": {},
     "output_type": "execute_result"
    }
   ],
   "source": [
    "evaluate_all_tasks(model, \"cpu\", loaders[\"val\"])"
   ]
  },
  {
   "cell_type": "code",
   "execution_count": 13,
   "id": "238fe8fb-e72b-4f2b-88a9-905e1b126002",
   "metadata": {},
   "outputs": [
    {
     "ename": "TypeError",
     "evalue": "'NoneType' object is not subscriptable",
     "output_type": "error",
     "traceback": [
      "\u001b[0;31m---------------------------------------------------------------------------\u001b[0m",
      "\u001b[0;31mTypeError\u001b[0m                                 Traceback (most recent call last)",
      "Cell \u001b[0;32mIn[13], line 1\u001b[0m\n\u001b[0;32m----> 1\u001b[0m \u001b[38;5;28mprint\u001b[39m(\u001b[43mmodel\u001b[49m\u001b[38;5;241;43m.\u001b[39;49m\u001b[43mtop_layers\u001b[49m\u001b[43m[\u001b[49m\u001b[38;5;241;43m1\u001b[39;49m\u001b[43m]\u001b[49m\u001b[38;5;241;43m.\u001b[39;49m\u001b[43mweight\u001b[49m\u001b[38;5;241;43m.\u001b[39;49m\u001b[43mgrad\u001b[49m\u001b[43m[\u001b[49m\u001b[38;5;241;43m0\u001b[39;49m\u001b[43m]\u001b[49m\u001b[38;5;241m.\u001b[39mmean(axis\u001b[38;5;241m=\u001b[39m\u001b[38;5;241m-\u001b[39m\u001b[38;5;241m1\u001b[39m))\n",
      "\u001b[0;31mTypeError\u001b[0m: 'NoneType' object is not subscriptable"
     ]
    }
   ],
   "source": [
    "print(model.top_layers[1].weight.grad[0].mean(axis=-1))\n"
   ]
  },
  {
   "cell_type": "code",
   "execution_count": 20,
   "id": "8be1bfff-9f27-4a5d-a292-c11b6331b38f",
   "metadata": {},
   "outputs": [
    {
     "data": {
      "text/plain": [
       "torch.Size([100, 1000])"
      ]
     },
     "execution_count": 20,
     "metadata": {},
     "output_type": "execute_result"
    }
   ],
   "source": [
    "model.top_layers[1].weight.shape"
   ]
  },
  {
   "cell_type": "markdown",
   "id": "c641671b-2a79-44b1-aaaa-ac190107dc28",
   "metadata": {},
   "source": [
    "## Type of train return values?"
   ]
  },
  {
   "cell_type": "code",
   "execution_count": 7,
   "id": "7269e921-e53a-4c19-adb6-56bf6407c12a",
   "metadata": {},
   "outputs": [
    {
     "name": "stderr",
     "output_type": "stream",
     "text": [
      "100%|██████████| 10/10 [00:11<00:00,  1.15s/it]\n",
      "100%|██████████| 10/10 [00:01<00:00,  5.65it/s]\n",
      "100%|██████████| 10/10 [00:02<00:00,  4.93it/s]\n"
     ]
    }
   ],
   "source": [
    "dataloaders = create_loaders()\n"
   ]
  },
  {
   "cell_type": "code",
   "execution_count": 8,
   "id": "8d649612-b65b-4c8d-9cfc-c656d633cc9c",
   "metadata": {},
   "outputs": [],
   "source": [
    "model = create_model(\"resnet\")\n",
    "\n",
    "optimizer = optim.SGD(model.parameters(), lr=1)\n",
    "scheduler = setup_scheduler(optimizer, mode=\"cil\")\n",
    "\n",
    "criterion = nn.CrossEntropyLoss()"
   ]
  },
  {
   "cell_type": "code",
   "execution_count": 9,
   "id": "a4f2077a-837c-4a3f-babe-19fa7abdb5b8",
   "metadata": {},
   "outputs": [],
   "source": [
    "trainer = ExperimentTrainer(dataloaders, model, optimizer, scheduler, criterion, \"cpu\", 1)"
   ]
  },
  {
   "cell_type": "code",
   "execution_count": 10,
   "id": "a8567e1c-b30d-4a11-b2eb-de9cd8fdabb2",
   "metadata": {},
   "outputs": [
    {
     "name": "stderr",
     "output_type": "stream",
     "text": [
      "100%|██████████| 1/1 [03:53<00:00, 233.26s/it]\n"
     ]
    },
    {
     "name": "stdout",
     "output_type": "stream",
     "text": [
      "Epoch 0: loss =  2.88, train_acc = 0.10, val_acc = 0.11\n",
      "Finished training on task 0... val_accuracy on task 0 = 0.108\n"
     ]
    },
    {
     "name": "stderr",
     "output_type": "stream",
     "text": [
      "100%|██████████| 1/1 [03:43<00:00, 223.37s/it]\n"
     ]
    },
    {
     "name": "stdout",
     "output_type": "stream",
     "text": [
      "Epoch 0: loss =  2.56, train_acc = 0.10, val_acc = 0.08\n",
      "Finished training on task 1... val_accuracy on task 0 = 0.000\n"
     ]
    },
    {
     "name": "stderr",
     "output_type": "stream",
     "text": [
      "100%|██████████| 1/1 [03:53<00:00, 233.70s/it]\n"
     ]
    },
    {
     "name": "stdout",
     "output_type": "stream",
     "text": [
      "Epoch 0: loss =  4.12, train_acc = 0.10, val_acc = 0.10\n",
      "Finished training on task 2... val_accuracy on task 0 = 0.000\n"
     ]
    },
    {
     "name": "stderr",
     "output_type": "stream",
     "text": [
      "100%|██████████| 1/1 [03:47<00:00, 227.76s/it]\n"
     ]
    },
    {
     "name": "stdout",
     "output_type": "stream",
     "text": [
      "Epoch 0: loss = 12.03, train_acc = 0.10, val_acc = 0.10\n",
      "Finished training on task 3... val_accuracy on task 0 = 0.004\n"
     ]
    },
    {
     "name": "stderr",
     "output_type": "stream",
     "text": [
      "100%|██████████| 1/1 [03:47<00:00, 227.64s/it]\n"
     ]
    },
    {
     "name": "stdout",
     "output_type": "stream",
     "text": [
      "Epoch 0: loss =  2.81, train_acc = 0.10, val_acc = 0.11\n",
      "Finished training on task 4... val_accuracy on task 0 = 0.000\n"
     ]
    },
    {
     "name": "stderr",
     "output_type": "stream",
     "text": [
      "100%|██████████| 1/1 [03:45<00:00, 225.28s/it]\n"
     ]
    },
    {
     "name": "stdout",
     "output_type": "stream",
     "text": [
      "Epoch 0: loss =  2.57, train_acc = 0.10, val_acc = 0.07\n",
      "Finished training on task 5... val_accuracy on task 0 = 0.000\n"
     ]
    },
    {
     "name": "stderr",
     "output_type": "stream",
     "text": [
      "100%|██████████| 1/1 [03:47<00:00, 227.13s/it]\n"
     ]
    },
    {
     "name": "stdout",
     "output_type": "stream",
     "text": [
      "Epoch 0: loss =  2.60, train_acc = 0.10, val_acc = 0.09\n",
      "Finished training on task 6... val_accuracy on task 0 = 0.000\n"
     ]
    },
    {
     "name": "stderr",
     "output_type": "stream",
     "text": [
      "100%|██████████| 1/1 [03:45<00:00, 225.87s/it]\n"
     ]
    },
    {
     "name": "stdout",
     "output_type": "stream",
     "text": [
      "Epoch 0: loss =  2.61, train_acc = 0.10, val_acc = 0.10\n",
      "Finished training on task 7... val_accuracy on task 0 = 0.000\n"
     ]
    },
    {
     "name": "stderr",
     "output_type": "stream",
     "text": [
      "100%|██████████| 1/1 [03:46<00:00, 226.49s/it]\n"
     ]
    },
    {
     "name": "stdout",
     "output_type": "stream",
     "text": [
      "Epoch 0: loss =  2.53, train_acc = 0.10, val_acc = 0.11\n",
      "Finished training on task 8... val_accuracy on task 0 = 0.000\n"
     ]
    },
    {
     "name": "stderr",
     "output_type": "stream",
     "text": [
      "100%|██████████| 1/1 [03:45<00:00, 225.25s/it]"
     ]
    },
    {
     "name": "stdout",
     "output_type": "stream",
     "text": [
      "Epoch 0: loss =  2.83, train_acc = 0.11, val_acc = 0.09\n",
      "Finished training on task 9... val_accuracy on task 0 = 0.000\n"
     ]
    },
    {
     "name": "stderr",
     "output_type": "stream",
     "text": [
      "\n"
     ]
    }
   ],
   "source": [
    "loss, train_acc, val_acc = trainer.train_class_inc(num_epochs_per_task=1)"
   ]
  },
  {
   "cell_type": "code",
   "execution_count": 11,
   "id": "5dc02bb9-3376-4205-8b29-698400fc9d95",
   "metadata": {},
   "outputs": [
    {
     "name": "stdout",
     "output_type": "stream",
     "text": [
      "tensor([[0.1083, 0.0000, 0.0000, 0.0000, 0.0000, 0.0000, 0.0000, 0.0000, 0.0000,\n",
      "         0.0000],\n",
      "        [0.0000, 0.0781, 0.0000, 0.0000, 0.0000, 0.0000, 0.0000, 0.0000, 0.0000,\n",
      "         0.0000],\n",
      "        [0.0000, 0.0000, 0.0999, 0.0000, 0.0000, 0.0000, 0.0000, 0.0000, 0.0000,\n",
      "         0.0000],\n",
      "        [0.0040, 0.0000, 0.0000, 0.0954, 0.0000, 0.0000, 0.0000, 0.0000, 0.0000,\n",
      "         0.0000],\n",
      "        [0.0000, 0.0000, 0.0000, 0.0000, 0.1139, 0.0000, 0.0000, 0.0000, 0.0000,\n",
      "         0.0000],\n",
      "        [0.0000, 0.0000, 0.0000, 0.0000, 0.0144, 0.0746, 0.0000, 0.0000, 0.0000,\n",
      "         0.0000],\n",
      "        [0.0000, 0.0000, 0.0000, 0.0000, 0.0000, 0.0000, 0.0895, 0.0000, 0.0000,\n",
      "         0.0000],\n",
      "        [0.0000, 0.0000, 0.0000, 0.0000, 0.0000, 0.0000, 0.0000, 0.1027, 0.0000,\n",
      "         0.0000],\n",
      "        [0.0000, 0.0000, 0.0000, 0.0000, 0.0000, 0.0000, 0.0000, 0.0000, 0.1089,\n",
      "         0.0000],\n",
      "        [0.0000, 0.0000, 0.0000, 0.0000, 0.0000, 0.0000, 0.0000, 0.0000, 0.0000,\n",
      "         0.0943]])\n"
     ]
    }
   ],
   "source": [
    "print(val_acc)"
   ]
  },
  {
   "cell_type": "code",
   "execution_count": null,
   "id": "9e35e2a2-9dfa-428b-afbe-b2ed0697e516",
   "metadata": {},
   "outputs": [],
   "source": []
  },
  {
   "cell_type": "code",
   "execution_count": null,
   "id": "f2977b71-159c-4b06-91b4-8d9be367689f",
   "metadata": {},
   "outputs": [],
   "source": []
  },
  {
   "cell_type": "code",
   "execution_count": 4,
   "id": "29deac8c-61b8-41e6-ae99-df7fa2b20f63",
   "metadata": {},
   "outputs": [
    {
     "ename": "TypeError",
     "evalue": "create_replay_loaders() missing 2 required positional arguments: 'dataset' and 'name'",
     "output_type": "error",
     "traceback": [
      "\u001b[0;31m---------------------------------------------------------------------------\u001b[0m",
      "\u001b[0;31mTypeError\u001b[0m                                 Traceback (most recent call last)",
      "Cell \u001b[0;32mIn[4], line 1\u001b[0m\n\u001b[0;32m----> 1\u001b[0m replay_loaders \u001b[38;5;241m=\u001b[39m \u001b[43mcreate_replay_loaders\u001b[49m\u001b[43m(\u001b[49m\u001b[43m)\u001b[49m\n",
      "\u001b[0;31mTypeError\u001b[0m: create_replay_loaders() missing 2 required positional arguments: 'dataset' and 'name'"
     ]
    }
   ],
   "source": [
    "replay_loaders = create_replay_loaders()"
   ]
  },
  {
   "cell_type": "code",
   "execution_count": 9,
   "id": "e13c210f-4ec9-4937-b0c4-6239c8f60906",
   "metadata": {},
   "outputs": [
    {
     "name": "stderr",
     "output_type": "stream",
     "text": [
      "100%|██████████| 10/10 [00:05<00:00,  1.76it/s]\n",
      "100%|██████████| 10/10 [00:01<00:00,  6.88it/s]\n",
      "100%|██████████| 10/10 [00:01<00:00,  6.23it/s]\n"
     ]
    }
   ],
   "source": [
    "dataloaders = create_loaders()\n"
   ]
  },
  {
   "cell_type": "code",
   "execution_count": 10,
   "id": "e5bb02fe-1b8b-4752-8ade-8d87a11f213e",
   "metadata": {},
   "outputs": [
    {
     "name": "stderr",
     "output_type": "stream",
     "text": [
      " 10%|█         | 1/10 [00:01<00:10,  1.20s/it]"
     ]
    },
    {
     "name": "stdout",
     "output_type": "stream",
     "text": [
      "{0, 1, 2, 3, 4, 5, 6, 7, 8, 9}\n"
     ]
    },
    {
     "name": "stderr",
     "output_type": "stream",
     "text": [
      " 20%|██        | 2/10 [00:01<00:04,  1.67it/s]"
     ]
    },
    {
     "name": "stdout",
     "output_type": "stream",
     "text": [
      "{10, 11, 12, 13, 14, 15, 16, 17, 18, 19}\n"
     ]
    },
    {
     "name": "stderr",
     "output_type": "stream",
     "text": [
      " 30%|███       | 3/10 [00:01<00:02,  2.47it/s]"
     ]
    },
    {
     "name": "stdout",
     "output_type": "stream",
     "text": [
      "{20, 21, 22, 23, 24, 25, 26, 27, 28, 29}\n"
     ]
    },
    {
     "name": "stderr",
     "output_type": "stream",
     "text": [
      " 40%|████      | 4/10 [00:01<00:01,  3.17it/s]"
     ]
    },
    {
     "name": "stdout",
     "output_type": "stream",
     "text": [
      "{32, 33, 34, 35, 36, 37, 38, 39, 30, 31}\n"
     ]
    },
    {
     "name": "stderr",
     "output_type": "stream",
     "text": [
      " 50%|█████     | 5/10 [00:01<00:01,  3.84it/s]"
     ]
    },
    {
     "name": "stdout",
     "output_type": "stream",
     "text": [
      "{40, 41, 42, 43, 44, 45, 46, 47, 48, 49}\n"
     ]
    },
    {
     "name": "stderr",
     "output_type": "stream",
     "text": [
      " 60%|██████    | 6/10 [00:02<00:00,  4.38it/s]"
     ]
    },
    {
     "name": "stdout",
     "output_type": "stream",
     "text": [
      "{50, 51, 52, 53, 54, 55, 56, 57, 58, 59}\n"
     ]
    },
    {
     "name": "stderr",
     "output_type": "stream",
     "text": [
      " 70%|███████   | 7/10 [00:02<00:00,  4.77it/s]"
     ]
    },
    {
     "name": "stdout",
     "output_type": "stream",
     "text": [
      "{64, 65, 66, 67, 68, 69, 60, 61, 62, 63}\n"
     ]
    },
    {
     "name": "stderr",
     "output_type": "stream",
     "text": [
      " 80%|████████  | 8/10 [00:02<00:00,  5.03it/s]"
     ]
    },
    {
     "name": "stdout",
     "output_type": "stream",
     "text": [
      "{70, 71, 72, 73, 74, 75, 76, 77, 78, 79}\n"
     ]
    },
    {
     "name": "stderr",
     "output_type": "stream",
     "text": [
      " 90%|█████████ | 9/10 [00:02<00:00,  5.18it/s]"
     ]
    },
    {
     "name": "stdout",
     "output_type": "stream",
     "text": [
      "{80, 81, 82, 83, 84, 85, 86, 87, 88, 89}\n"
     ]
    },
    {
     "name": "stderr",
     "output_type": "stream",
     "text": [
      "100%|██████████| 10/10 [00:02<00:00,  3.63it/s]"
     ]
    },
    {
     "name": "stdout",
     "output_type": "stream",
     "text": [
      "{96, 97, 98, 99, 90, 91, 92, 93, 94, 95}\n"
     ]
    },
    {
     "name": "stderr",
     "output_type": "stream",
     "text": [
      "\n"
     ]
    }
   ],
   "source": [
    "for d in tqdm(dataloaders[\"val\"]):\n",
    "    all_labels = set()\n",
    "    for _, labels in d:\n",
    "        all_labels.update(labels.tolist() if isinstance(labels, torch.Tensor) else labels)\n",
    "    print(all_labels)"
   ]
  },
  {
   "cell_type": "code",
   "execution_count": 18,
   "id": "cb571f1a-2f25-4266-8c7c-4c241b603b17",
   "metadata": {},
   "outputs": [
    {
     "name": "stderr",
     "output_type": "stream",
     "text": [
      "100%|██████████| 10/10 [00:07<00:00,  1.34it/s]\n",
      "100%|██████████| 10/10 [00:01<00:00,  5.97it/s]\n",
      "100%|██████████| 10/10 [00:01<00:00,  5.52it/s]\n",
      " 10%|█         | 1/10 [00:02<00:19,  2.12s/it]"
     ]
    },
    {
     "name": "stdout",
     "output_type": "stream",
     "text": [
      "{0, 1, 2, 3, 4, 5, 6, 7, 8, 9}\n",
      "True\n"
     ]
    },
    {
     "name": "stderr",
     "output_type": "stream",
     "text": [
      " 20%|██        | 2/10 [00:04<00:20,  2.53s/it]"
     ]
    },
    {
     "name": "stdout",
     "output_type": "stream",
     "text": [
      "{0, 1, 2, 3, 4, 5, 6, 7, 8, 9, 10, 11, 12, 13, 14, 15, 16, 17, 18, 19}\n",
      "True\n"
     ]
    },
    {
     "name": "stderr",
     "output_type": "stream",
     "text": [
      " 30%|███       | 3/10 [00:08<00:21,  3.02s/it]"
     ]
    },
    {
     "name": "stdout",
     "output_type": "stream",
     "text": [
      "{0, 1, 2, 3, 4, 5, 6, 7, 8, 9, 10, 11, 12, 13, 14, 15, 16, 17, 18, 19, 20, 21, 22, 23, 24, 25, 26, 27, 28, 29}\n",
      "True\n"
     ]
    },
    {
     "name": "stderr",
     "output_type": "stream",
     "text": [
      " 40%|████      | 4/10 [00:13<00:22,  3.71s/it]"
     ]
    },
    {
     "name": "stdout",
     "output_type": "stream",
     "text": [
      "{0, 1, 2, 3, 4, 5, 6, 7, 8, 9, 10, 11, 12, 13, 14, 15, 16, 17, 18, 19, 20, 21, 22, 23, 24, 25, 26, 27, 28, 29, 30, 31, 32, 33, 34, 35, 36, 37, 38, 39}\n",
      "True\n"
     ]
    },
    {
     "name": "stderr",
     "output_type": "stream",
     "text": [
      " 50%|█████     | 5/10 [00:19<00:22,  4.51s/it]"
     ]
    },
    {
     "name": "stdout",
     "output_type": "stream",
     "text": [
      "{0, 1, 2, 3, 4, 5, 6, 7, 8, 9, 10, 11, 12, 13, 14, 15, 16, 17, 18, 19, 20, 21, 22, 23, 24, 25, 26, 27, 28, 29, 30, 31, 32, 33, 34, 35, 36, 37, 38, 39, 40, 41, 42, 43, 44, 45, 46, 47, 48, 49}\n",
      "True\n"
     ]
    },
    {
     "name": "stderr",
     "output_type": "stream",
     "text": [
      " 60%|██████    | 6/10 [00:26<00:21,  5.38s/it]"
     ]
    },
    {
     "name": "stdout",
     "output_type": "stream",
     "text": [
      "{0, 1, 2, 3, 4, 5, 6, 7, 8, 9, 10, 11, 12, 13, 14, 15, 16, 17, 18, 19, 20, 21, 22, 23, 24, 25, 26, 27, 28, 29, 30, 31, 32, 33, 34, 35, 36, 37, 38, 39, 40, 41, 42, 43, 44, 45, 46, 47, 48, 49, 50, 51, 52, 53, 54, 55, 56, 57, 58, 59}\n",
      "True\n"
     ]
    },
    {
     "name": "stderr",
     "output_type": "stream",
     "text": [
      " 70%|███████   | 7/10 [00:34<00:19,  6.34s/it]"
     ]
    },
    {
     "name": "stdout",
     "output_type": "stream",
     "text": [
      "{0, 1, 2, 3, 4, 5, 6, 7, 8, 9, 10, 11, 12, 13, 14, 15, 16, 17, 18, 19, 20, 21, 22, 23, 24, 25, 26, 27, 28, 29, 30, 31, 32, 33, 34, 35, 36, 37, 38, 39, 40, 41, 42, 43, 44, 45, 46, 47, 48, 49, 50, 51, 52, 53, 54, 55, 56, 57, 58, 59, 60, 61, 62, 63, 64, 65, 66, 67, 68, 69}\n",
      "True\n"
     ]
    },
    {
     "name": "stderr",
     "output_type": "stream",
     "text": [
      " 80%|████████  | 8/10 [00:44<00:14,  7.37s/it]"
     ]
    },
    {
     "name": "stdout",
     "output_type": "stream",
     "text": [
      "{0, 1, 2, 3, 4, 5, 6, 7, 8, 9, 10, 11, 12, 13, 14, 15, 16, 17, 18, 19, 20, 21, 22, 23, 24, 25, 26, 27, 28, 29, 30, 31, 32, 33, 34, 35, 36, 37, 38, 39, 40, 41, 42, 43, 44, 45, 46, 47, 48, 49, 50, 51, 52, 53, 54, 55, 56, 57, 58, 59, 60, 61, 62, 63, 64, 65, 66, 67, 68, 69, 70, 71, 72, 73, 74, 75, 76, 77, 78, 79}\n",
      "True\n"
     ]
    },
    {
     "name": "stderr",
     "output_type": "stream",
     "text": [
      " 90%|█████████ | 9/10 [00:54<00:08,  8.39s/it]"
     ]
    },
    {
     "name": "stdout",
     "output_type": "stream",
     "text": [
      "{0, 1, 2, 3, 4, 5, 6, 7, 8, 9, 10, 11, 12, 13, 14, 15, 16, 17, 18, 19, 20, 21, 22, 23, 24, 25, 26, 27, 28, 29, 30, 31, 32, 33, 34, 35, 36, 37, 38, 39, 40, 41, 42, 43, 44, 45, 46, 47, 48, 49, 50, 51, 52, 53, 54, 55, 56, 57, 58, 59, 60, 61, 62, 63, 64, 65, 66, 67, 68, 69, 70, 71, 72, 73, 74, 75, 76, 77, 78, 79, 80, 81, 82, 83, 84, 85, 86, 87, 88, 89}\n",
      "True\n"
     ]
    },
    {
     "name": "stderr",
     "output_type": "stream",
     "text": [
      "100%|██████████| 10/10 [01:06<00:00,  6.66s/it]"
     ]
    },
    {
     "name": "stdout",
     "output_type": "stream",
     "text": [
      "{0, 1, 2, 3, 4, 5, 6, 7, 8, 9, 10, 11, 12, 13, 14, 15, 16, 17, 18, 19, 20, 21, 22, 23, 24, 25, 26, 27, 28, 29, 30, 31, 32, 33, 34, 35, 36, 37, 38, 39, 40, 41, 42, 43, 44, 45, 46, 47, 48, 49, 50, 51, 52, 53, 54, 55, 56, 57, 58, 59, 60, 61, 62, 63, 64, 65, 66, 67, 68, 69, 70, 71, 72, 73, 74, 75, 76, 77, 78, 79, 80, 81, 82, 83, 84, 85, 86, 87, 88, 89, 90, 91, 92, 93, 94, 95, 96, 97, 98, 99}\n",
      "True\n"
     ]
    },
    {
     "name": "stderr",
     "output_type": "stream",
     "text": [
      "\n"
     ]
    }
   ],
   "source": [
    "i = 10 \n",
    "for d in tqdm(create_loaders(replay=True)[\"train\"]):\n",
    "    all_labels = set()\n",
    "    for _, labels in d:\n",
    "        all_labels.update(labels.tolist() if isinstance(labels, torch.Tensor) else labels)\n",
    "    print(all_labels)\n",
    "    print(all_labels == set(range(0, i)))\n",
    "    i += 10"
   ]
  },
  {
   "cell_type": "code",
   "execution_count": 17,
   "id": "9ebafcc9-cd48-4461-b93c-0566b80cc080",
   "metadata": {},
   "outputs": [
    {
     "name": "stderr",
     "output_type": "stream",
     "text": [
      "100%|██████████| 10/10 [00:06<00:00,  1.49it/s]\n",
      "100%|██████████| 10/10 [00:01<00:00,  7.42it/s]\n",
      "100%|██████████| 10/10 [00:01<00:00,  6.84it/s]\n"
     ]
    },
    {
     "name": "stdout",
     "output_type": "stream",
     "text": [
      "torch.Size([32, 3, 32, 32])\n"
     ]
    }
   ],
   "source": [
    "for d, _ in create_loaders(replay=True)[\"val\"][1]:\n",
    "    print(d.shape)\n",
    "    break"
   ]
  },
  {
   "cell_type": "code",
   "execution_count": 5,
   "id": "e2633b30-cc90-41e4-ac21-1b1cfaeee9fb",
   "metadata": {
    "scrolled": true
   },
   "outputs": [],
   "source": [
    "import torch\n",
    "from torch import optim, nn\n",
    "from functools import partial\n",
    "from initialize import *\n",
    "from classes import *\n",
    "from data_proc import *\n",
    "import numpy as np\n",
    "import matplotlib.pyplot as plt"
   ]
  },
  {
   "cell_type": "code",
   "execution_count": 9,
   "id": "052ce097-d9a9-46c9-bc03-5b68aa08cc51",
   "metadata": {},
   "outputs": [
    {
     "data": {
      "text/plain": [
       "[<matplotlib.lines.Line2D at 0x152bc9917e60>]"
      ]
     },
     "execution_count": 9,
     "metadata": {},
     "output_type": "execute_result"
    },
    {
     "data": {
      "image/png": "[encoded data removed]",
      "text/plain": [
       "<Figure size 640x480 with 1 Axes>"
      ]
     },
     "metadata": {},
     "output_type": "display_data"
    }
   ],
   "source": [
    "model = torch.nn.Linear(10, 1)\n",
    "optimizer = optim.Adam(model.parameters(), lr=1e-3)\n",
    "\n",
    "n = 60\n",
    "lr_vals = np.zeros(150)\n",
    "\n",
    "sheduler = setup_scheduler(optimizer)\n",
    "\n",
    "for i in range(150):\n",
    "    lr_vals[i] = optimizer.param_groups[0][\"lr\"]    \n",
    "    optimizer.step()\n",
    "    sheduler.step()\n",
    "\n",
    "\n",
    "plt.plot(lr_vals)"
   ]
  },
  {
   "cell_type": "code",
   "execution_count": 4,
   "id": "2afc58dd-b87a-494c-93af-9ee575aef94b",
   "metadata": {},
   "outputs": [
    {
     "name": "stderr",
     "output_type": "stream",
     "text": [
      "100%|██████████| 10/10 [00:00<00:00, 1133.29it/s]\n",
      "100%|██████████| 10/10 [00:00<00:00, 1746.46it/s]\n",
      "100%|██████████| 10/10 [00:00<00:00, 1601.98it/s]\n"
     ]
    }
   ],
   "source": [
    "import torch\n",
    "from torch import optim, nn\n",
    "from functools import partial\n",
    "from initialize import *\n",
    "from classes import *\n",
    "from data_proc import *\n",
    "import numpy as np\n",
    "import matplotlib.pyplot as plt\n",
    "\n",
    "\n",
    "if torch.cuda.is_available():\n",
    "    device = torch.device(\"cuda\")\n",
    "else:\n",
    "    device = \"cpu\"\n",
    "\n",
    "dataloaders = create_loaders(replay=True)\n",
    "\n",
    "model = create_model(\"resnet\")\n",
    "\n",
    "optim = setup_optimizer(model.parameters(), lr=1e-3)\n",
    "scheduler = setup_scheduler(optim, mode=\"cil\")\n",
    "\n",
    "trainer = ExperimentTrainer(dataloaders,\n",
    "                            model.to(device), \n",
    "                            optim,\n",
    "                            scheduler,\n",
    "                            nn.NLLLoss(),\n",
    "                            device,\n",
    "                            1\n",
    "                           )"
   ]
  },
  {
   "cell_type": "code",
   "execution_count": null,
   "id": "9fd0e468-e737-407e-92bb-f9751dbe7000",
   "metadata": {},
   "outputs": [
    {
     "name": "stderr",
     "output_type": "stream",
     "text": [
      "100%|██████████| 1/1 [07:47<00:00, 467.54s/it]"
     ]
    },
    {
     "name": "stdout",
     "output_type": "stream",
     "text": [
      "Epoch 0: loss =  2.63, train_acc = 0.16, val_acc = 0.19\n"
     ]
    },
    {
     "name": "stderr",
     "output_type": "stream",
     "text": [
      "\n"
     ]
    },
    {
     "name": "stdout",
     "output_type": "stream",
     "text": [
      "weight [0.00935885775834322, 0.0016997578786686063, 0.001813769107684493, 0.0025209845043718815, 0.00200445344671607, 0.0016068790573626757, 0.001717822509817779, 0.0018687855917960405, 0.0020108502358198166, 0.0016985138645395637]\n",
      "weight_grad [0.3033718466758728, 0.0, 0.0, 0.0, 0.0, 0.0, 0.0, 0.0, 0.0, 0.0]\n",
      "bias [0.06424297392368317, 0.0401483029127121, 0.05465194955468178, 0.06939250230789185, 0.054118309170007706, 0.06487385928630829, 0.07133140414953232, 0.04942026734352112, 0.05537419393658638, 0.04644381254911423]\n",
      "bias_grad [0.36816704273223877, 0.0, 0.0, 0.0, 0.0, 0.0, 0.0, 0.0, 0.0, 0.0]\n",
      "Finished training on task 0... val_accuracy on task 0 = 0.190\n"
     ]
    },
    {
     "name": "stderr",
     "output_type": "stream",
     "text": [
      "100%|██████████| 1/1 [08:05<00:00, 485.14s/it]\n"
     ]
    },
    {
     "name": "stdout",
     "output_type": "stream",
     "text": [
      "Epoch 0: loss =  3.08, train_acc = 0.10, val_acc = 0.13\n",
      "weight [0.00968204066157341, 0.011954601854085922, 0.001813769107684493, 0.0025209845043718815, 0.00200445344671607, 0.0016068790573626757, 0.001717822509817779, 0.0018687855917960405, 0.0020108502358198166, 0.0016985138645395637]\n",
      "weight_grad [0.0, 0.060717977583408356, 0.0, 0.0, 0.0, 0.0, 0.0, 0.0, 0.0, 0.0]\n",
      "bias [0.06591961532831192, 0.06557057052850723, 0.05465194955468178, 0.06939250230789185, 0.054118309170007706, 0.06487385928630829, 0.07133140414953232, 0.04942026734352112, 0.05537419393658638, 0.04644381254911423]\n",
      "bias_grad [0.0, 0.12462624907493591, 0.0, 0.0, 0.0, 0.0, 0.0, 0.0, 0.0, 0.0]\n",
      "Finished training on task 1... val_accuracy on task 0 = 0.104\n"
     ]
    },
    {
     "name": "stderr",
     "output_type": "stream",
     "text": [
      "100%|██████████| 1/1 [08:24<00:00, 504.26s/it]\n"
     ]
    },
    {
     "name": "stdout",
     "output_type": "stream",
     "text": [
      "Epoch 0: loss =  3.11, train_acc = 0.09, val_acc = 0.15\n",
      "weight [0.00968204066157341, 0.012071567587554455, 0.0036029485054314137, 0.0025209845043718815, 0.00200445344671607, 0.0016068790573626757, 0.001717822509817779, 0.0018687855917960405, 0.0020108502358198166, 0.0016985138645395637]\n",
      "weight_grad [0.0, 0.0, 0.046907927840948105, 0.0, 0.0, 0.0, 0.0, 0.0, 0.0, 0.0]\n",
      "bias [0.06591961532831192, 0.06520400941371918, 0.0788298100233078, 0.06939250230789185, 0.054118309170007706, 0.06487385928630829, 0.07133140414953232, 0.04942026734352112, 0.05537419393658638, 0.04644381254911423]\n",
      "bias_grad [0.0, 0.0, 0.12292660772800446, 0.0, 0.0, 0.0, 0.0, 0.0, 0.0, 0.0]\n",
      "Finished training on task 2... val_accuracy on task 0 = 0.092\n"
     ]
    },
    {
     "name": "stderr",
     "output_type": "stream",
     "text": [
      "100%|██████████| 1/1 [08:42<00:00, 522.59s/it]\n"
     ]
    },
    {
     "name": "stdout",
     "output_type": "stream",
     "text": [
      "Epoch 0: loss =  3.28, train_acc = 0.09, val_acc = 0.13\n",
      "weight [0.00968204066157341, 0.012071567587554455, 0.00368257868103683, 0.005548589397221804, 0.00200445344671607, 0.0016068790573626757, 0.001717822509817779, 0.0018687855917960405, 0.0020108502358198166, 0.0016985138645395637]\n",
      "weight_grad [0.0, 0.0, 0.0, 0.02967817150056362, 0.0, 0.0, 0.0, 0.0, 0.0, 0.0]\n",
      "bias [0.06591961532831192, 0.06520400941371918, 0.07897179573774338, 0.09204164892435074, 0.054118309170007706, 0.06487385928630829, 0.07133140414953232, 0.04942026734352112, 0.05537419393658638, 0.04644381254911423]\n",
      "bias_grad [0.0, 0.0, 0.0, 0.08548986911773682, 0.0, 0.0, 0.0, 0.0, 0.0, 0.0]\n",
      "Finished training on task 3... val_accuracy on task 0 = 0.075\n"
     ]
    },
    {
     "name": "stderr",
     "output_type": "stream",
     "text": [
      "100%|██████████| 1/1 [09:03<00:00, 543.21s/it]\n"
     ]
    },
    {
     "name": "stdout",
     "output_type": "stream",
     "text": [
      "Epoch 0: loss =  3.77, train_acc = 0.07, val_acc = 0.10\n",
      "weight [0.00968204066157341, 0.012071567587554455, 0.00368257868103683, 0.005416464991867542, 0.005250024609267712, 0.0016068790573626757, 0.001717822509817779, 0.0018687855917960405, 0.0020108502358198166, 0.0016985138645395637]\n",
      "weight_grad [0.0, 0.0, 0.0, 0.0, 0.017462559044361115, 0.0, 0.0, 0.0, 0.0, 0.0]\n",
      "bias [0.06591961532831192, 0.06520400941371918, 0.07897179573774338, 0.0914885550737381, 0.0729016438126564, 0.06487385928630829, 0.07133140414953232, 0.04942026734352112, 0.05537419393658638, 0.04644381254911423]\n",
      "bias_grad [0.0, 0.0, 0.0, 0.0, 0.052772168070077896, 0.0, 0.0, 0.0, 0.0, 0.0]\n",
      "Finished training on task 4... val_accuracy on task 0 = 0.149\n"
     ]
    },
    {
     "name": "stderr",
     "output_type": "stream",
     "text": [
      "100%|██████████| 1/1 [09:21<00:00, 561.55s/it]\n"
     ]
    },
    {
     "name": "stdout",
     "output_type": "stream",
     "text": [
      "Epoch 0: loss =  3.77, train_acc = 0.09, val_acc = 0.13\n",
      "weight [0.00968204066157341, 0.012071567587554455, 0.00368257868103683, 0.005416464991867542, 0.005241538863629103, 0.006572357844561338, 0.001717822509817779, 0.0018687855917960405, 0.0020108502358198166, 0.0016985138645395637]\n",
      "weight_grad [0.0, 0.0, 0.0, 0.0, 0.0, 0.019730418920516968, 0.0, 0.0, 0.0, 0.0]\n",
      "bias [0.06591961532831192, 0.06520400941371918, 0.07897179573774338, 0.0914885550737381, 0.07633239775896072, 0.0888744443655014, 0.07133140414953232, 0.04942026734352112, 0.05537419393658638, 0.04644381254911423]\n",
      "bias_grad [0.0, 0.0, 0.0, 0.0, 0.0, 0.0748891606926918, 0.0, 0.0, 0.0, 0.0]\n",
      "Finished training on task 5... val_accuracy on task 0 = 0.088\n"
     ]
    },
    {
     "name": "stderr",
     "output_type": "stream",
     "text": [
      "100%|██████████| 1/1 [09:41<00:00, 581.43s/it]\n"
     ]
    },
    {
     "name": "stdout",
     "output_type": "stream",
     "text": [
      "Epoch 0: loss =  3.64, train_acc = 0.09, val_acc = 0.14\n",
      "weight [0.00968204066157341, 0.012071567587554455, 0.00368257868103683, 0.005416464991867542, 0.005241538863629103, 0.0066057173535227776, 0.004691882524639368, 0.0018687855917960405, 0.0020108502358198166, 0.0016985138645395637]\n",
      "weight_grad [0.0, 0.0, 0.0, 0.0, 0.0, 0.0, 0.016300031915307045, 0.0, 0.0, 0.0]\n",
      "bias [0.06591961532831192, 0.06520400941371918, 0.07897179573774338, 0.0914885550737381, 0.07633239775896072, 0.09263142943382263, 0.08691031485795975, 0.04942026734352112, 0.05537419393658638, 0.04644381254911423]\n",
      "bias_grad [0.0, 0.0, 0.0, 0.0, 0.0, 0.0, 0.04982643574476242, 0.0, 0.0, 0.0]\n",
      "Finished training on task 6... val_accuracy on task 0 = 0.110\n"
     ]
    },
    {
     "name": "stderr",
     "output_type": "stream",
     "text": [
      "100%|██████████| 1/1 [09:59<00:00, 599.43s/it]\n"
     ]
    },
    {
     "name": "stdout",
     "output_type": "stream",
     "text": [
      "Epoch 0: loss =  3.49, train_acc = 0.12, val_acc = 0.18\n",
      "weight [0.00968204066157341, 0.012071567587554455, 0.00368257868103683, 0.005416464991867542, 0.005241538863629103, 0.0066057173535227776, 0.0045742071233689785, 0.005121118389070034, 0.0020108502358198166, 0.0016985138645395637]\n",
      "weight_grad [0.0, 0.0, 0.0, 0.0, 0.0, 0.0, 0.0, 0.011492238380014896, 0.0, 0.0]\n",
      "bias [0.06591961532831192, 0.06520400941371918, 0.07897179573774338, 0.0914885550737381, 0.07633239775896072, 0.09263142943382263, 0.08885946124792099, 0.10138239711523056, 0.05537419393658638, 0.04644381254911423]\n",
      "bias_grad [0.0, 0.0, 0.0, 0.0, 0.0, 0.0, 0.0, 0.04660345986485481, 0.0, 0.0]\n",
      "Finished training on task 7... val_accuracy on task 0 = 0.102\n"
     ]
    },
    {
     "name": "stderr",
     "output_type": "stream",
     "text": [
      "  0%|          | 0/1 [00:00<?, ?it/s]"
     ]
    }
   ],
   "source": [
    "loss, acc_train, acc_val = trainer.train_class_inc_hook(num_epochs_per_task=1)"
   ]
  },
  {
   "cell_type": "code",
   "execution_count": null,
   "id": "0f083066-2684-40ce-83b1-12b0a05ec5a1",
   "metadata": {},
   "outputs": [],
   "source": [
    "loss, acc_train, acc_val"
   ]
  },
  {
   "cell_type": "code",
   "execution_count": null,
   "id": "6ddaef29-6d26-44df-b104-5e2b2456afad",
   "metadata": {},
   "outputs": [],
   "source": []
  },
  {
   "cell_type": "code",
   "execution_count": 2,
   "id": "fff46eea-740c-4d29-ab98-fa6fd10ceab3",
   "metadata": {},
   "outputs": [
    {
     "name": "stderr",
     "output_type": "stream",
     "text": [
      "100%|██████████| 10/10 [00:17<00:00,  1.79s/it]\n",
      "100%|██████████| 10/10 [00:02<00:00,  4.94it/s]\n",
      "100%|██████████| 10/10 [00:02<00:00,  4.52it/s]\n",
      " 10%|█         | 1/10 [00:00<00:07,  1.27it/s]"
     ]
    },
    {
     "name": "stdout",
     "output_type": "stream",
     "text": [
      "{0, 1, 2, 3, 4, 5, 6, 7, 8, 9}\n"
     ]
    },
    {
     "name": "stderr",
     "output_type": "stream",
     "text": [
      " 20%|██        | 2/10 [00:01<00:06,  1.29it/s]"
     ]
    },
    {
     "name": "stdout",
     "output_type": "stream",
     "text": [
      "{10, 11, 12, 13, 14, 15, 16, 17, 18, 19}\n"
     ]
    },
    {
     "name": "stderr",
     "output_type": "stream",
     "text": [
      " 30%|███       | 3/10 [00:02<00:05,  1.31it/s]"
     ]
    },
    {
     "name": "stdout",
     "output_type": "stream",
     "text": [
      "{20, 21, 22, 23, 24, 25, 26, 27, 28, 29}\n"
     ]
    },
    {
     "name": "stderr",
     "output_type": "stream",
     "text": [
      " 40%|████      | 4/10 [00:03<00:04,  1.29it/s]"
     ]
    },
    {
     "name": "stdout",
     "output_type": "stream",
     "text": [
      "{32, 33, 34, 35, 36, 37, 38, 39, 30, 31}\n"
     ]
    },
    {
     "name": "stderr",
     "output_type": "stream",
     "text": [
      " 50%|█████     | 5/10 [00:03<00:03,  1.27it/s]"
     ]
    },
    {
     "name": "stdout",
     "output_type": "stream",
     "text": [
      "{40, 41, 42, 43, 44, 45, 46, 47, 48, 49}\n"
     ]
    },
    {
     "name": "stderr",
     "output_type": "stream",
     "text": [
      " 60%|██████    | 6/10 [00:04<00:03,  1.28it/s]"
     ]
    },
    {
     "name": "stdout",
     "output_type": "stream",
     "text": [
      "{50, 51, 52, 53, 54, 55, 56, 57, 58, 59}\n"
     ]
    },
    {
     "name": "stderr",
     "output_type": "stream",
     "text": [
      " 70%|███████   | 7/10 [00:05<00:02,  1.26it/s]"
     ]
    },
    {
     "name": "stdout",
     "output_type": "stream",
     "text": [
      "{64, 65, 66, 67, 68, 69, 60, 61, 62, 63}\n"
     ]
    },
    {
     "name": "stderr",
     "output_type": "stream",
     "text": [
      " 80%|████████  | 8/10 [00:06<00:01,  1.27it/s]"
     ]
    },
    {
     "name": "stdout",
     "output_type": "stream",
     "text": [
      "{70, 71, 72, 73, 74, 75, 76, 77, 78, 79}\n"
     ]
    },
    {
     "name": "stderr",
     "output_type": "stream",
     "text": [
      " 90%|█████████ | 9/10 [00:07<00:00,  1.25it/s]"
     ]
    },
    {
     "name": "stdout",
     "output_type": "stream",
     "text": [
      "{80, 81, 82, 83, 84, 85, 86, 87, 88, 89}\n"
     ]
    },
    {
     "name": "stderr",
     "output_type": "stream",
     "text": [
      "100%|██████████| 10/10 [00:07<00:00,  1.27it/s]"
     ]
    },
    {
     "name": "stdout",
     "output_type": "stream",
     "text": [
      "{96, 97, 98, 99, 90, 91, 92, 93, 94, 95}\n"
     ]
    },
    {
     "name": "stderr",
     "output_type": "stream",
     "text": [
      "\n"
     ]
    }
   ],
   "source": [
    "for d in tqdm(create_loaders()[\"val\"]):\n",
    "    all_labels = set()\n",
    "    for _, labels in d:\n",
    "        all_labels.update(labels.tolist() if isinstance(labels, torch.Tensor) else labels)\n",
    "    print(all_labels)"
   ]
  },
  {
   "cell_type": "code",
   "execution_count": 3,
   "id": "9f6fc60c-1ee8-40b0-9a6b-7e56c7a204cc",
   "metadata": {},
   "outputs": [
    {
     "name": "stderr",
     "output_type": "stream",
     "text": [
      "100%|██████████| 10/10 [00:15<00:00,  1.54s/it]\n",
      "100%|██████████| 10/10 [00:01<00:00,  5.73it/s]\n",
      "100%|██████████| 10/10 [00:02<00:00,  4.60it/s]\n",
      " 10%|█         | 1/10 [00:00<00:07,  1.26it/s]"
     ]
    },
    {
     "name": "stdout",
     "output_type": "stream",
     "text": [
      "{0, 1, 2, 3, 4, 5, 6, 7, 8, 9}\n"
     ]
    },
    {
     "name": "stderr",
     "output_type": "stream",
     "text": [
      " 20%|██        | 2/10 [00:01<00:07,  1.04it/s]"
     ]
    },
    {
     "name": "stdout",
     "output_type": "stream",
     "text": [
      "{0, 1, 2, 3, 4, 5, 6, 7, 8, 9, 10, 11, 12, 13, 14, 15, 16, 17, 18, 19}\n"
     ]
    },
    {
     "name": "stderr",
     "output_type": "stream",
     "text": [
      " 30%|███       | 3/10 [00:03<00:08,  1.17s/it]"
     ]
    },
    {
     "name": "stdout",
     "output_type": "stream",
     "text": [
      "{0, 1, 2, 3, 4, 5, 6, 7, 8, 9, 10, 11, 12, 13, 14, 15, 16, 17, 18, 19, 20, 21, 22, 23, 24, 25, 26, 27, 28, 29}\n"
     ]
    },
    {
     "name": "stderr",
     "output_type": "stream",
     "text": [
      " 40%|████      | 4/10 [00:04<00:08,  1.36s/it]"
     ]
    },
    {
     "name": "stdout",
     "output_type": "stream",
     "text": [
      "{0, 1, 2, 3, 4, 5, 6, 7, 8, 9, 10, 11, 12, 13, 14, 15, 16, 17, 18, 19, 20, 21, 22, 23, 24, 25, 26, 27, 28, 29, 30, 31, 32, 33, 34, 35, 36, 37, 38, 39}\n"
     ]
    },
    {
     "name": "stderr",
     "output_type": "stream",
     "text": [
      " 50%|█████     | 5/10 [00:06<00:07,  1.58s/it]"
     ]
    },
    {
     "name": "stdout",
     "output_type": "stream",
     "text": [
      "{0, 1, 2, 3, 4, 5, 6, 7, 8, 9, 10, 11, 12, 13, 14, 15, 16, 17, 18, 19, 20, 21, 22, 23, 24, 25, 26, 27, 28, 29, 30, 31, 32, 33, 34, 35, 36, 37, 38, 39, 40, 41, 42, 43, 44, 45, 46, 47, 48, 49}\n"
     ]
    },
    {
     "name": "stderr",
     "output_type": "stream",
     "text": [
      " 60%|██████    | 6/10 [00:09<00:07,  1.82s/it]"
     ]
    },
    {
     "name": "stdout",
     "output_type": "stream",
     "text": [
      "{0, 1, 2, 3, 4, 5, 6, 7, 8, 9, 10, 11, 12, 13, 14, 15, 16, 17, 18, 19, 20, 21, 22, 23, 24, 25, 26, 27, 28, 29, 30, 31, 32, 33, 34, 35, 36, 37, 38, 39, 40, 41, 42, 43, 44, 45, 46, 47, 48, 49, 50, 51, 52, 53, 54, 55, 56, 57, 58, 59}\n"
     ]
    },
    {
     "name": "stderr",
     "output_type": "stream",
     "text": [
      " 70%|███████   | 7/10 [00:11<00:06,  2.05s/it]"
     ]
    },
    {
     "name": "stdout",
     "output_type": "stream",
     "text": [
      "{0, 1, 2, 3, 4, 5, 6, 7, 8, 9, 10, 11, 12, 13, 14, 15, 16, 17, 18, 19, 20, 21, 22, 23, 24, 25, 26, 27, 28, 29, 30, 31, 32, 33, 34, 35, 36, 37, 38, 39, 40, 41, 42, 43, 44, 45, 46, 47, 48, 49, 50, 51, 52, 53, 54, 55, 56, 57, 58, 59, 60, 61, 62, 63, 64, 65, 66, 67, 68, 69}\n"
     ]
    },
    {
     "name": "stderr",
     "output_type": "stream",
     "text": [
      " 80%|████████  | 8/10 [00:14<00:04,  2.33s/it]"
     ]
    },
    {
     "name": "stdout",
     "output_type": "stream",
     "text": [
      "{0, 1, 2, 3, 4, 5, 6, 7, 8, 9, 10, 11, 12, 13, 14, 15, 16, 17, 18, 19, 20, 21, 22, 23, 24, 25, 26, 27, 28, 29, 30, 31, 32, 33, 34, 35, 36, 37, 38, 39, 40, 41, 42, 43, 44, 45, 46, 47, 48, 49, 50, 51, 52, 53, 54, 55, 56, 57, 58, 59, 60, 61, 62, 63, 64, 65, 66, 67, 68, 69, 70, 71, 72, 73, 74, 75, 76, 77, 78, 79}\n"
     ]
    },
    {
     "name": "stderr",
     "output_type": "stream",
     "text": [
      " 90%|█████████ | 9/10 [00:17<00:02,  2.59s/it]"
     ]
    },
    {
     "name": "stdout",
     "output_type": "stream",
     "text": [
      "{0, 1, 2, 3, 4, 5, 6, 7, 8, 9, 10, 11, 12, 13, 14, 15, 16, 17, 18, 19, 20, 21, 22, 23, 24, 25, 26, 27, 28, 29, 30, 31, 32, 33, 34, 35, 36, 37, 38, 39, 40, 41, 42, 43, 44, 45, 46, 47, 48, 49, 50, 51, 52, 53, 54, 55, 56, 57, 58, 59, 60, 61, 62, 63, 64, 65, 66, 67, 68, 69, 70, 71, 72, 73, 74, 75, 76, 77, 78, 79, 80, 81, 82, 83, 84, 85, 86, 87, 88, 89}\n"
     ]
    },
    {
     "name": "stderr",
     "output_type": "stream",
     "text": [
      "100%|██████████| 10/10 [00:21<00:00,  2.13s/it]"
     ]
    },
    {
     "name": "stdout",
     "output_type": "stream",
     "text": [
      "{0, 1, 2, 3, 4, 5, 6, 7, 8, 9, 10, 11, 12, 13, 14, 15, 16, 17, 18, 19, 20, 21, 22, 23, 24, 25, 26, 27, 28, 29, 30, 31, 32, 33, 34, 35, 36, 37, 38, 39, 40, 41, 42, 43, 44, 45, 46, 47, 48, 49, 50, 51, 52, 53, 54, 55, 56, 57, 58, 59, 60, 61, 62, 63, 64, 65, 66, 67, 68, 69, 70, 71, 72, 73, 74, 75, 76, 77, 78, 79, 80, 81, 82, 83, 84, 85, 86, 87, 88, 89, 90, 91, 92, 93, 94, 95, 96, 97, 98, 99}\n"
     ]
    },
    {
     "name": "stderr",
     "output_type": "stream",
     "text": [
      "\n"
     ]
    }
   ],
   "source": [
    "for d in tqdm(create_loaders(replay=True)[\"val\"]):\n",
    "    all_labels = set()\n",
    "    for _, labels in d:\n",
    "        all_labels.update(labels.tolist() if isinstance(labels, torch.Tensor) else labels)\n",
    "    print(all_labels)"
   ]
  },
  {
   "cell_type": "code",
   "execution_count": null,
   "id": "8b43f125-ebc1-41bc-9cfc-b4a0bff2fdbe",
   "metadata": {},
   "outputs": [],
   "source": []
  },
  {
   "cell_type": "markdown",
   "id": "84f9958d-add9-4b23-bb27-7d41047d3324",
   "metadata": {},
   "source": [
    "<details>\n",
    "<summary>Click to expand!</summary>\n",
    "\n",
    "### This is a collapsible section.\n",
    "You can include **text**, `code`, or any other markdown content here.\n",
    "\n",
    "- Item 1\n",
    "- Item 2\n",
    "- Item 3\n",
    "\n"
   ]
  },
  {
   "cell_type": "markdown",
   "id": "a078b6ab-1513-4633-8d2a-6f5e4f80a973",
   "metadata": {},
   "source": [
    "</details>"
   ]
  },
  {
   "cell_type": "markdown",
   "id": "ffbc392e-3a42-4f26-bbee-c1bfb4c00e16",
   "metadata": {},
   "source": [
    "# me"
   ]
  },
  {
   "cell_type": "code",
   "execution_count": 9,
   "id": "521b1fe9-5b77-407e-b6f4-13ffcf4c5db4",
   "metadata": {},
   "outputs": [
    {
     "ename": "NameError",
     "evalue": "name 'lknb' is not defined",
     "output_type": "error",
     "traceback": [
      "\u001b[0;31m---------------------------------------------------------------------------\u001b[0m",
      "\u001b[0;31mNameError\u001b[0m                                 Traceback (most recent call last)",
      "Cell \u001b[0;32mIn[9], line 1\u001b[0m\n\u001b[0;32m----> 1\u001b[0m \u001b[43mlknb\u001b[49m\n",
      "\u001b[0;31mNameError\u001b[0m: name 'lknb' is not defined"
     ]
    }
   ],
   "source": [
    "lknb"
   ]
  },
  {
   "cell_type": "code",
   "execution_count": 10,
   "id": "93c2105d-73d3-4e77-a8c8-40dda388fa9c",
   "metadata": {},
   "outputs": [
    {
     "ename": "NameError",
     "evalue": "name 'nvfd' is not defined",
     "output_type": "error",
     "traceback": [
      "\u001b[0;31m---------------------------------------------------------------------------\u001b[0m",
      "\u001b[0;31mNameError\u001b[0m                                 Traceback (most recent call last)",
      "Cell \u001b[0;32mIn[10], line 1\u001b[0m\n\u001b[0;32m----> 1\u001b[0m \u001b[43mnvfd\u001b[49m\n",
      "\u001b[0;31mNameError\u001b[0m: name 'nvfd' is not defined"
     ]
    }
   ],
   "source": [
    "nvfd"
   ]
  },
  {
   "cell_type": "markdown",
   "id": "f4c76c05-ee32-4ef4-8c9e-aba35fd5afd5",
   "metadata": {},
   "source": [
    "# not"
   ]
  },
  {
   "cell_type": "code",
   "execution_count": 12,
   "id": "73f79f2c-6d03-4928-8220-1051e37f9f46",
   "metadata": {},
   "outputs": [
    {
     "ename": "NameError",
     "evalue": "name 'train_data' is not defined",
     "output_type": "error",
     "traceback": [
      "\u001b[0;31m---------------------------------------------------------------------------\u001b[0m",
      "\u001b[0;31mNameError\u001b[0m                                 Traceback (most recent call last)",
      "Cell \u001b[0;32mIn[12], line 1\u001b[0m\n\u001b[0;32m----> 1\u001b[0m \u001b[43mget_image_shape\u001b[49m\u001b[43m(\u001b[49m\u001b[43m)\u001b[49m\n",
      "File \u001b[0;32m~/rotation1/pipeline/src/data_proc.py:26\u001b[0m, in \u001b[0;36mget_image_shape\u001b[0;34m()\u001b[0m\n\u001b[1;32m     25\u001b[0m \u001b[38;5;28;01mdef\u001b[39;00m \u001b[38;5;21mget_image_shape\u001b[39m():\n\u001b[0;32m---> 26\u001b[0m     \u001b[38;5;28;01mreturn\u001b[39;00m (\u001b[38;5;241m1\u001b[39m,) \u001b[38;5;241m+\u001b[39m \u001b[38;5;28mtuple\u001b[39m(\u001b[43mtrain_data\u001b[49m[\u001b[38;5;241m0\u001b[39m][\u001b[38;5;241m0\u001b[39m]\u001b[38;5;241m.\u001b[39mshape)\n",
      "\u001b[0;31mNameError\u001b[0m: name 'train_data' is not defined"
     ]
    }
   ],
   "source": [
    "get_image_shape()"
   ]
  },
  {
   "cell_type": "code",
   "execution_count": 18,
   "id": "c2f1842a-32b8-4bbf-bd33-05ea1751a7fc",
   "metadata": {},
   "outputs": [
    {
     "data": {
      "text/plain": [
       "torch.Size([3, 32, 32])"
      ]
     },
     "execution_count": 18,
     "metadata": {},
     "output_type": "execute_result"
    }
   ],
   "source": [
    "torch.load(\"/nfs/scistore23/chlgrp/avolkova/rotation1/pipeline/data/cil/test/6.pt\")[0][0].shape"
   ]
  },
  {
   "cell_type": "code",
   "execution_count": 25,
   "id": "6b49a28d-0f4f-46ee-b6f2-bdadb03a1f6e",
   "metadata": {},
   "outputs": [
    {
     "data": {
      "text/plain": [
       "=========================================================================================================\n",
       "Layer (type:depth-idx)                                  Output Shape              Param #\n",
       "=========================================================================================================\n",
       "MyModel                                                 [1, 100]                  --\n",
       "├─Identity: 1-1                                         [1, 3, 32, 32]            --\n",
       "├─TinyVit: 1-2                                          [1, 1000]                 --\n",
       "│    └─PatchEmbed: 2-1                                  [1, 96, 8, 8]             --\n",
       "│    │    └─ConvNorm: 3-1                               [1, 48, 16, 16]           1,392\n",
       "│    │    └─GELU: 3-2                                   [1, 48, 16, 16]           --\n",
       "│    │    └─ConvNorm: 3-3                               [1, 96, 8, 8]             41,664\n",
       "│    └─Sequential: 2-2                                  [1, 576, 1, 1]            --\n",
       "│    │    └─ConvLayer: 3-4                              [1, 96, 8, 8]             157,824\n",
       "│    │    └─TinyVitStage: 3-5                           [1, 192, 4, 4]            952,716\n",
       "│    │    └─TinyVitStage: 3-6                           [1, 384, 2, 2]            10,913,184\n",
       "│    │    └─TinyVitStage: 3-7                           [1, 576, 1, 1]            8,553,636\n",
       "│    └─NormMlpClassifierHead: 2-3                       [1, 1000]                 --\n",
       "│    │    └─SelectAdaptivePool2d: 3-8                   [1, 576, 1, 1]            --\n",
       "│    │    └─LayerNorm2d: 3-9                            [1, 576, 1, 1]            1,152\n",
       "│    │    └─Flatten: 3-10                               [1, 576]                  --\n",
       "│    │    └─Identity: 3-11                              [1, 576]                  --\n",
       "│    │    └─Dropout: 3-12                               [1, 576]                  --\n",
       "│    │    └─Linear: 3-13                                [1, 1000]                 577,000\n",
       "├─Sequential: 1-3                                       [1, 100]                  --\n",
       "│    └─ReLU: 2-4                                        [1, 1000]                 --\n",
       "│    └─Linear: 2-5                                      [1, 100]                  100,100\n",
       "│    └─LogSoftmax: 2-6                                  [1, 100]                  --\n",
       "=========================================================================================================\n",
       "Total params: 21,298,668\n",
       "Trainable params: 21,298,668\n",
       "Non-trainable params: 0\n",
       "Total mult-adds (Units.MEGABYTES): 38.03\n",
       "=========================================================================================================\n",
       "Input size (MB): 0.01\n",
       "Forward/backward pass size (MB): 24.71\n",
       "Params size (MB): 85.13\n",
       "Estimated Total Size (MB): 109.85\n",
       "========================================================================================================="
      ]
     },
     "execution_count": 25,
     "metadata": {},
     "output_type": "execute_result"
    }
   ],
   "source": [
    "from torchinfo import summary\n",
    "\n",
    "summary(create_model(\"vit\"), (1, 3, 32, 32))"
   ]
  },
  {
   "cell_type": "code",
   "execution_count": 25,
   "id": "5181f5d6-6e27-48d1-b21f-c088c9a2782e",
   "metadata": {},
   "outputs": [
    {
     "data": {
      "text/plain": [
       "tensor([[0.0098, 0.0101, 0.0102, 0.0097, 0.0099, 0.0100, 0.0098, 0.0098, 0.0099,\n",
       "         0.0103, 0.0103, 0.0100, 0.0101, 0.0103, 0.0100, 0.0100, 0.0101, 0.0103,\n",
       "         0.0102, 0.0101, 0.0098, 0.0097, 0.0098, 0.0103, 0.0100, 0.0100, 0.0102,\n",
       "         0.0098, 0.0103, 0.0097, 0.0101, 0.0099, 0.0097, 0.0103, 0.0099, 0.0101,\n",
       "         0.0102, 0.0098, 0.0099, 0.0101, 0.0102, 0.0098, 0.0100, 0.0098, 0.0098,\n",
       "         0.0102, 0.0098, 0.0100, 0.0100, 0.0101, 0.0099, 0.0097, 0.0099, 0.0100,\n",
       "         0.0102, 0.0100, 0.0099, 0.0100, 0.0103, 0.0103, 0.0097, 0.0100, 0.0101,\n",
       "         0.0103, 0.0099, 0.0099, 0.0100, 0.0099, 0.0098, 0.0102, 0.0101, 0.0101,\n",
       "         0.0097, 0.0099, 0.0100, 0.0102, 0.0100, 0.0099, 0.0098, 0.0102, 0.0099,\n",
       "         0.0099, 0.0098, 0.0100, 0.0100, 0.0101, 0.0100, 0.0103, 0.0102, 0.0098,\n",
       "         0.0103, 0.0100, 0.0098, 0.0100, 0.0099, 0.0098, 0.0101, 0.0102, 0.0103,\n",
       "         0.0099]], grad_fn=<ExpBackward0>)"
      ]
     },
     "execution_count": 25,
     "metadata": {},
     "output_type": "execute_result"
    }
   ],
   "source": [
    "torch.exp(create_model(\"vit\")(torch.zeros((1, 3, 34, 34))))"
   ]
  },
  {
   "cell_type": "code",
   "execution_count": 19,
   "id": "472a6d36-1bb0-41b0-bb48-61a330e1a13e",
   "metadata": {
    "scrolled": true
   },
   "outputs": [
    {
     "data": {
      "text/plain": [
       "MyModel(\n",
       "  (upscale_layer): Identity()\n",
       "  (backbone): ResNet(\n",
       "    (conv1): Conv2d(3, 64, kernel_size=(7, 7), stride=(2, 2), padding=(3, 3), bias=False)\n",
       "    (bn1): BatchNorm2d(64, eps=1e-05, momentum=0.1, affine=True, track_running_stats=True)\n",
       "    (relu): ReLU(inplace=True)\n",
       "    (maxpool): MaxPool2d(kernel_size=3, stride=2, padding=1, dilation=1, ceil_mode=False)\n",
       "    (layer1): Sequential(\n",
       "      (0): Bottleneck(\n",
       "        (conv1): Conv2d(64, 64, kernel_size=(1, 1), stride=(1, 1), bias=False)\n",
       "        (bn1): BatchNorm2d(64, eps=1e-05, momentum=0.1, affine=True, track_running_stats=True)\n",
       "        (conv2): Conv2d(64, 64, kernel_size=(3, 3), stride=(1, 1), padding=(1, 1), bias=False)\n",
       "        (bn2): BatchNorm2d(64, eps=1e-05, momentum=0.1, affine=True, track_running_stats=True)\n",
       "        (conv3): Conv2d(64, 256, kernel_size=(1, 1), stride=(1, 1), bias=False)\n",
       "        (bn3): BatchNorm2d(256, eps=1e-05, momentum=0.1, affine=True, track_running_stats=True)\n",
       "        (relu): ReLU(inplace=True)\n",
       "        (downsample): Sequential(\n",
       "          (0): Conv2d(64, 256, kernel_size=(1, 1), stride=(1, 1), bias=False)\n",
       "          (1): BatchNorm2d(256, eps=1e-05, momentum=0.1, affine=True, track_running_stats=True)\n",
       "        )\n",
       "      )\n",
       "      (1): Bottleneck(\n",
       "        (conv1): Conv2d(256, 64, kernel_size=(1, 1), stride=(1, 1), bias=False)\n",
       "        (bn1): BatchNorm2d(64, eps=1e-05, momentum=0.1, affine=True, track_running_stats=True)\n",
       "        (conv2): Conv2d(64, 64, kernel_size=(3, 3), stride=(1, 1), padding=(1, 1), bias=False)\n",
       "        (bn2): BatchNorm2d(64, eps=1e-05, momentum=0.1, affine=True, track_running_stats=True)\n",
       "        (conv3): Conv2d(64, 256, kernel_size=(1, 1), stride=(1, 1), bias=False)\n",
       "        (bn3): BatchNorm2d(256, eps=1e-05, momentum=0.1, affine=True, track_running_stats=True)\n",
       "        (relu): ReLU(inplace=True)\n",
       "      )\n",
       "      (2): Bottleneck(\n",
       "        (conv1): Conv2d(256, 64, kernel_size=(1, 1), stride=(1, 1), bias=False)\n",
       "        (bn1): BatchNorm2d(64, eps=1e-05, momentum=0.1, affine=True, track_running_stats=True)\n",
       "        (conv2): Conv2d(64, 64, kernel_size=(3, 3), stride=(1, 1), padding=(1, 1), bias=False)\n",
       "        (bn2): BatchNorm2d(64, eps=1e-05, momentum=0.1, affine=True, track_running_stats=True)\n",
       "        (conv3): Conv2d(64, 256, kernel_size=(1, 1), stride=(1, 1), bias=False)\n",
       "        (bn3): BatchNorm2d(256, eps=1e-05, momentum=0.1, affine=True, track_running_stats=True)\n",
       "        (relu): ReLU(inplace=True)\n",
       "      )\n",
       "    )\n",
       "    (layer2): Sequential(\n",
       "      (0): Bottleneck(\n",
       "        (conv1): Conv2d(256, 128, kernel_size=(1, 1), stride=(1, 1), bias=False)\n",
       "        (bn1): BatchNorm2d(128, eps=1e-05, momentum=0.1, affine=True, track_running_stats=True)\n",
       "        (conv2): Conv2d(128, 128, kernel_size=(3, 3), stride=(2, 2), padding=(1, 1), bias=False)\n",
       "        (bn2): BatchNorm2d(128, eps=1e-05, momentum=0.1, affine=True, track_running_stats=True)\n",
       "        (conv3): Conv2d(128, 512, kernel_size=(1, 1), stride=(1, 1), bias=False)\n",
       "        (bn3): BatchNorm2d(512, eps=1e-05, momentum=0.1, affine=True, track_running_stats=True)\n",
       "        (relu): ReLU(inplace=True)\n",
       "        (downsample): Sequential(\n",
       "          (0): Conv2d(256, 512, kernel_size=(1, 1), stride=(2, 2), bias=False)\n",
       "          (1): BatchNorm2d(512, eps=1e-05, momentum=0.1, affine=True, track_running_stats=True)\n",
       "        )\n",
       "      )\n",
       "      (1): Bottleneck(\n",
       "        (conv1): Conv2d(512, 128, kernel_size=(1, 1), stride=(1, 1), bias=False)\n",
       "        (bn1): BatchNorm2d(128, eps=1e-05, momentum=0.1, affine=True, track_running_stats=True)\n",
       "        (conv2): Conv2d(128, 128, kernel_size=(3, 3), stride=(1, 1), padding=(1, 1), bias=False)\n",
       "        (bn2): BatchNorm2d(128, eps=1e-05, momentum=0.1, affine=True, track_running_stats=True)\n",
       "        (conv3): Conv2d(128, 512, kernel_size=(1, 1), stride=(1, 1), bias=False)\n",
       "        (bn3): BatchNorm2d(512, eps=1e-05, momentum=0.1, affine=True, track_running_stats=True)\n",
       "        (relu): ReLU(inplace=True)\n",
       "      )\n",
       "      (2): Bottleneck(\n",
       "        (conv1): Conv2d(512, 128, kernel_size=(1, 1), stride=(1, 1), bias=False)\n",
       "        (bn1): BatchNorm2d(128, eps=1e-05, momentum=0.1, affine=True, track_running_stats=True)\n",
       "        (conv2): Conv2d(128, 128, kernel_size=(3, 3), stride=(1, 1), padding=(1, 1), bias=False)\n",
       "        (bn2): BatchNorm2d(128, eps=1e-05, momentum=0.1, affine=True, track_running_stats=True)\n",
       "        (conv3): Conv2d(128, 512, kernel_size=(1, 1), stride=(1, 1), bias=False)\n",
       "        (bn3): BatchNorm2d(512, eps=1e-05, momentum=0.1, affine=True, track_running_stats=True)\n",
       "        (relu): ReLU(inplace=True)\n",
       "      )\n",
       "      (3): Bottleneck(\n",
       "        (conv1): Conv2d(512, 128, kernel_size=(1, 1), stride=(1, 1), bias=False)\n",
       "        (bn1): BatchNorm2d(128, eps=1e-05, momentum=0.1, affine=True, track_running_stats=True)\n",
       "        (conv2): Conv2d(128, 128, kernel_size=(3, 3), stride=(1, 1), padding=(1, 1), bias=False)\n",
       "        (bn2): BatchNorm2d(128, eps=1e-05, momentum=0.1, affine=True, track_running_stats=True)\n",
       "        (conv3): Conv2d(128, 512, kernel_size=(1, 1), stride=(1, 1), bias=False)\n",
       "        (bn3): BatchNorm2d(512, eps=1e-05, momentum=0.1, affine=True, track_running_stats=True)\n",
       "        (relu): ReLU(inplace=True)\n",
       "      )\n",
       "    )\n",
       "    (layer3): Sequential(\n",
       "      (0): Bottleneck(\n",
       "        (conv1): Conv2d(512, 256, kernel_size=(1, 1), stride=(1, 1), bias=False)\n",
       "        (bn1): BatchNorm2d(256, eps=1e-05, momentum=0.1, affine=True, track_running_stats=True)\n",
       "        (conv2): Conv2d(256, 256, kernel_size=(3, 3), stride=(2, 2), padding=(1, 1), bias=False)\n",
       "        (bn2): BatchNorm2d(256, eps=1e-05, momentum=0.1, affine=True, track_running_stats=True)\n",
       "        (conv3): Conv2d(256, 1024, kernel_size=(1, 1), stride=(1, 1), bias=False)\n",
       "        (bn3): BatchNorm2d(1024, eps=1e-05, momentum=0.1, affine=True, track_running_stats=True)\n",
       "        (relu): ReLU(inplace=True)\n",
       "        (downsample): Sequential(\n",
       "          (0): Conv2d(512, 1024, kernel_size=(1, 1), stride=(2, 2), bias=False)\n",
       "          (1): BatchNorm2d(1024, eps=1e-05, momentum=0.1, affine=True, track_running_stats=True)\n",
       "        )\n",
       "      )\n",
       "      (1): Bottleneck(\n",
       "        (conv1): Conv2d(1024, 256, kernel_size=(1, 1), stride=(1, 1), bias=False)\n",
       "        (bn1): BatchNorm2d(256, eps=1e-05, momentum=0.1, affine=True, track_running_stats=True)\n",
       "        (conv2): Conv2d(256, 256, kernel_size=(3, 3), stride=(1, 1), padding=(1, 1), bias=False)\n",
       "        (bn2): BatchNorm2d(256, eps=1e-05, momentum=0.1, affine=True, track_running_stats=True)\n",
       "        (conv3): Conv2d(256, 1024, kernel_size=(1, 1), stride=(1, 1), bias=False)\n",
       "        (bn3): BatchNorm2d(1024, eps=1e-05, momentum=0.1, affine=True, track_running_stats=True)\n",
       "        (relu): ReLU(inplace=True)\n",
       "      )\n",
       "      (2): Bottleneck(\n",
       "        (conv1): Conv2d(1024, 256, kernel_size=(1, 1), stride=(1, 1), bias=False)\n",
       "        (bn1): BatchNorm2d(256, eps=1e-05, momentum=0.1, affine=True, track_running_stats=True)\n",
       "        (conv2): Conv2d(256, 256, kernel_size=(3, 3), stride=(1, 1), padding=(1, 1), bias=False)\n",
       "        (bn2): BatchNorm2d(256, eps=1e-05, momentum=0.1, affine=True, track_running_stats=True)\n",
       "        (conv3): Conv2d(256, 1024, kernel_size=(1, 1), stride=(1, 1), bias=False)\n",
       "        (bn3): BatchNorm2d(1024, eps=1e-05, momentum=0.1, affine=True, track_running_stats=True)\n",
       "        (relu): ReLU(inplace=True)\n",
       "      )\n",
       "      (3): Bottleneck(\n",
       "        (conv1): Conv2d(1024, 256, kernel_size=(1, 1), stride=(1, 1), bias=False)\n",
       "        (bn1): BatchNorm2d(256, eps=1e-05, momentum=0.1, affine=True, track_running_stats=True)\n",
       "        (conv2): Conv2d(256, 256, kernel_size=(3, 3), stride=(1, 1), padding=(1, 1), bias=False)\n",
       "        (bn2): BatchNorm2d(256, eps=1e-05, momentum=0.1, affine=True, track_running_stats=True)\n",
       "        (conv3): Conv2d(256, 1024, kernel_size=(1, 1), stride=(1, 1), bias=False)\n",
       "        (bn3): BatchNorm2d(1024, eps=1e-05, momentum=0.1, affine=True, track_running_stats=True)\n",
       "        (relu): ReLU(inplace=True)\n",
       "      )\n",
       "      (4): Bottleneck(\n",
       "        (conv1): Conv2d(1024, 256, kernel_size=(1, 1), stride=(1, 1), bias=False)\n",
       "        (bn1): BatchNorm2d(256, eps=1e-05, momentum=0.1, affine=True, track_running_stats=True)\n",
       "        (conv2): Conv2d(256, 256, kernel_size=(3, 3), stride=(1, 1), padding=(1, 1), bias=False)\n",
       "        (bn2): BatchNorm2d(256, eps=1e-05, momentum=0.1, affine=True, track_running_stats=True)\n",
       "        (conv3): Conv2d(256, 1024, kernel_size=(1, 1), stride=(1, 1), bias=False)\n",
       "        (bn3): BatchNorm2d(1024, eps=1e-05, momentum=0.1, affine=True, track_running_stats=True)\n",
       "        (relu): ReLU(inplace=True)\n",
       "      )\n",
       "      (5): Bottleneck(\n",
       "        (conv1): Conv2d(1024, 256, kernel_size=(1, 1), stride=(1, 1), bias=False)\n",
       "        (bn1): BatchNorm2d(256, eps=1e-05, momentum=0.1, affine=True, track_running_stats=True)\n",
       "        (conv2): Conv2d(256, 256, kernel_size=(3, 3), stride=(1, 1), padding=(1, 1), bias=False)\n",
       "        (bn2): BatchNorm2d(256, eps=1e-05, momentum=0.1, affine=True, track_running_stats=True)\n",
       "        (conv3): Conv2d(256, 1024, kernel_size=(1, 1), stride=(1, 1), bias=False)\n",
       "        (bn3): BatchNorm2d(1024, eps=1e-05, momentum=0.1, affine=True, track_running_stats=True)\n",
       "        (relu): ReLU(inplace=True)\n",
       "      )\n",
       "    )\n",
       "    (layer4): Sequential(\n",
       "      (0): Bottleneck(\n",
       "        (conv1): Conv2d(1024, 512, kernel_size=(1, 1), stride=(1, 1), bias=False)\n",
       "        (bn1): BatchNorm2d(512, eps=1e-05, momentum=0.1, affine=True, track_running_stats=True)\n",
       "        (conv2): Conv2d(512, 512, kernel_size=(3, 3), stride=(2, 2), padding=(1, 1), bias=False)\n",
       "        (bn2): BatchNorm2d(512, eps=1e-05, momentum=0.1, affine=True, track_running_stats=True)\n",
       "        (conv3): Conv2d(512, 2048, kernel_size=(1, 1), stride=(1, 1), bias=False)\n",
       "        (bn3): BatchNorm2d(2048, eps=1e-05, momentum=0.1, affine=True, track_running_stats=True)\n",
       "        (relu): ReLU(inplace=True)\n",
       "        (downsample): Sequential(\n",
       "          (0): Conv2d(1024, 2048, kernel_size=(1, 1), stride=(2, 2), bias=False)\n",
       "          (1): BatchNorm2d(2048, eps=1e-05, momentum=0.1, affine=True, track_running_stats=True)\n",
       "        )\n",
       "      )\n",
       "      (1): Bottleneck(\n",
       "        (conv1): Conv2d(2048, 512, kernel_size=(1, 1), stride=(1, 1), bias=False)\n",
       "        (bn1): BatchNorm2d(512, eps=1e-05, momentum=0.1, affine=True, track_running_stats=True)\n",
       "        (conv2): Conv2d(512, 512, kernel_size=(3, 3), stride=(1, 1), padding=(1, 1), bias=False)\n",
       "        (bn2): BatchNorm2d(512, eps=1e-05, momentum=0.1, affine=True, track_running_stats=True)\n",
       "        (conv3): Conv2d(512, 2048, kernel_size=(1, 1), stride=(1, 1), bias=False)\n",
       "        (bn3): BatchNorm2d(2048, eps=1e-05, momentum=0.1, affine=True, track_running_stats=True)\n",
       "        (relu): ReLU(inplace=True)\n",
       "      )\n",
       "      (2): Bottleneck(\n",
       "        (conv1): Conv2d(2048, 512, kernel_size=(1, 1), stride=(1, 1), bias=False)\n",
       "        (bn1): BatchNorm2d(512, eps=1e-05, momentum=0.1, affine=True, track_running_stats=True)\n",
       "        (conv2): Conv2d(512, 512, kernel_size=(3, 3), stride=(1, 1), padding=(1, 1), bias=False)\n",
       "        (bn2): BatchNorm2d(512, eps=1e-05, momentum=0.1, affine=True, track_running_stats=True)\n",
       "        (conv3): Conv2d(512, 2048, kernel_size=(1, 1), stride=(1, 1), bias=False)\n",
       "        (bn3): BatchNorm2d(2048, eps=1e-05, momentum=0.1, affine=True, track_running_stats=True)\n",
       "        (relu): ReLU(inplace=True)\n",
       "      )\n",
       "    )\n",
       "    (avgpool): AdaptiveAvgPool2d(output_size=(1, 1))\n",
       "    (fc): Linear(in_features=2048, out_features=1000, bias=True)\n",
       "  )\n",
       "  (top_layers): Sequential(\n",
       "    (0): ReLU()\n",
       "    (1): Linear(in_features=1000, out_features=100, bias=True)\n",
       "    (2): LogSoftmax(dim=1)\n",
       "  )\n",
       ")"
      ]
     },
     "execution_count": 19,
     "metadata": {},
     "output_type": "execute_result"
    }
   ],
   "source": [
    "create_model(\"resnet\")"
   ]
  },
  {
   "cell_type": "code",
   "execution_count": 52,
   "id": "c0fd5e76-e28f-43fd-95f8-9904f22d8ba3",
   "metadata": {},
   "outputs": [
    {
     "name": "stdout",
     "output_type": "stream",
     "text": [
      "MultiheadAttention(\n",
      "  (out_proj): NonDynamicallyQuantizableLinear(in_features=10, out_features=10, bias=True)\n",
      ") torch.Size([30, 10])\n",
      "MultiheadAttention(\n",
      "  (out_proj): NonDynamicallyQuantizableLinear(in_features=10, out_features=10, bias=True)\n",
      ") torch.Size([30])\n",
      "MultiheadAttention(\n",
      "  (out_proj): NonDynamicallyQuantizableLinear(in_features=10, out_features=10, bias=True)\n",
      ") torch.Size([10, 10])\n",
      "MultiheadAttention(\n",
      "  (out_proj): NonDynamicallyQuantizableLinear(in_features=10, out_features=10, bias=True)\n",
      ") torch.Size([10])\n",
      "Linear(in_features=10, out_features=32, bias=True) torch.Size([32, 10])\n",
      "Linear(in_features=10, out_features=32, bias=True) torch.Size([32])\n",
      "Linear(in_features=32, out_features=10, bias=True) torch.Size([10, 32])\n",
      "Linear(in_features=32, out_features=10, bias=True) torch.Size([10])\n",
      "LayerNorm((10,), eps=1e-05, elementwise_affine=True) torch.Size([10])\n",
      "LayerNorm((10,), eps=1e-05, elementwise_affine=True) torch.Size([10])\n",
      "LayerNorm((10,), eps=1e-05, elementwise_affine=True) torch.Size([10])\n",
      "LayerNorm((10,), eps=1e-05, elementwise_affine=True) torch.Size([10])\n"
     ]
    }
   ],
   "source": [
    "for p in nn.TransformerEncoderLayer(d_model=d, dim_feedforward=32, nhead=1).children():\n",
    "    for j in p.parameters():\n",
    "        print(p, j.shape)"
   ]
  },
  {
   "cell_type": "code",
   "execution_count": 38,
   "id": "050f8a3e-aaca-4f96-a8ae-44645f65eb42",
   "metadata": {},
   "outputs": [
    {
     "data": {
      "text/plain": [
       "==========================================================================================\n",
       "Layer (type:depth-idx)                   Output Shape              Param #\n",
       "==========================================================================================\n",
       "TransformerEncoderLayer                  [1, 1, 10]                --\n",
       "├─MultiheadAttention: 1-1                [1, 1, 10]                440\n",
       "├─Dropout: 1-2                           [1, 1, 10]                --\n",
       "├─LayerNorm: 1-3                         [1, 1, 10]                20\n",
       "├─Linear: 1-4                            [1, 1, 32]                352\n",
       "├─Dropout: 1-5                           [1, 1, 32]                --\n",
       "├─Linear: 1-6                            [1, 1, 10]                330\n",
       "├─Dropout: 1-7                           [1, 1, 10]                --\n",
       "├─LayerNorm: 1-8                         [1, 1, 10]                20\n",
       "==========================================================================================\n",
       "Total params: 1,162\n",
       "Trainable params: 1,162\n",
       "Non-trainable params: 0\n",
       "Total mult-adds (Units.MEGABYTES): 0.00\n",
       "==========================================================================================\n",
       "Input size (MB): 0.00\n",
       "Forward/backward pass size (MB): 0.00\n",
       "Params size (MB): 0.00\n",
       "Estimated Total Size (MB): 0.00\n",
       "=========================================================================================="
      ]
     },
     "execution_count": 38,
     "metadata": {},
     "output_type": "execute_result"
    }
   ],
   "source": [
    "d = 10\n",
    "\n",
    "summary( nn.TransformerEncoderLayer(d_model=d, dim_feedforward=32, nhead=1), (1, 1, d))"
   ]
  },
  {
   "cell_type": "markdown",
   "id": "20745e59-9558-48b5-a323-364e47553f07",
   "metadata": {},
   "source": [
    "# What are training times on zero data?"
   ]
  },
  {
   "cell_type": "code",
   "execution_count": 2,
   "id": "977af1c7-6184-476a-b762-dcf2a9278765",
   "metadata": {},
   "outputs": [],
   "source": [
    "if torch.cuda.is_available():\n",
    "    device = torch.device(\"cuda\")\n",
    "else:\n",
    "    device = \"cpu\""
   ]
  },
  {
   "cell_type": "code",
   "execution_count": 3,
   "id": "4151d782-bd65-42a5-9921-1ad80f986eab",
   "metadata": {},
   "outputs": [],
   "source": [
    "model = create_model(\"\").to(device)\n"
   ]
  },
  {
   "cell_type": "code",
   "execution_count": 4,
   "id": "042d348c-5ed9-44f5-b28f-1685a357f7b1",
   "metadata": {},
   "outputs": [
    {
     "name": "stderr",
     "output_type": "stream",
     "text": [
      "  0%|          | 0/10 [00:00<?, ?it/s]/nfs/scistore23/chlgrp/avolkova/.conda/envs/TorchEnv/lib/python3.12/site-packages/torch/utils/data/dataloader.py:617: UserWarning: This DataLoader will create 8 worker processes in total. Our suggested max number of worker in current system is 4, which is smaller than what this DataLoader is going to create. Please be aware that excessive worker creation might get DataLoader running slow or even freeze, lower the worker number to avoid potential slowness/freeze if necessary.\n",
      "  warnings.warn(\n",
      "100%|██████████| 10/10 [00:20<00:00,  2.00s/it]\n",
      "100%|██████████| 10/10 [00:19<00:00,  1.95s/it]\n",
      "100%|██████████| 10/10 [00:02<00:00,  4.33it/s]\n"
     ]
    }
   ],
   "source": [
    "loaders = create_loaders()"
   ]
  },
  {
   "cell_type": "code",
   "execution_count": 5,
   "id": "dd149a6f-66fa-4406-bbaf-a7ca78039125",
   "metadata": {},
   "outputs": [
    {
     "name": "stdout",
     "output_type": "stream",
     "text": [
      "torch.Size([128, 3, 32, 32]) torch.Size([128])\n"
     ]
    }
   ],
   "source": [
    "for data, label in loaders[\"train\"][0]:\n",
    "    print(data.shape, label.shape)\n",
    "    break"
   ]
  },
  {
   "cell_type": "code",
   "execution_count": 6,
   "id": "6dec936a-0f0e-4d32-b795-7742ffb612cb",
   "metadata": {},
   "outputs": [
    {
     "data": {
      "text/plain": [
       "torch.float32"
      ]
     },
     "execution_count": 6,
     "metadata": {},
     "output_type": "execute_result"
    }
   ],
   "source": [
    "model(torch.zeros((128, 3, 32, 32)).to(device)).dtype"
   ]
  },
  {
   "cell_type": "code",
   "execution_count": 7,
   "id": "97f1efa8-1eb7-4b46-a09f-39810755fc81",
   "metadata": {},
   "outputs": [
    {
     "name": "stdout",
     "output_type": "stream",
     "text": [
      "5.92 ms ± 62 μs per loop (mean ± std. dev. of 7 runs, 100 loops each)\n"
     ]
    }
   ],
   "source": [
    "%timeit model(torch.zeros((128, 3, 32, 32)).to(device))"
   ]
  },
  {
   "cell_type": "code",
   "execution_count": 8,
   "id": "a784474f-deeb-4615-8917-8482be9c8a3b",
   "metadata": {},
   "outputs": [
    {
     "name": "stdout",
     "output_type": "stream",
     "text": [
      "8.06 s ± 36.6 ms per loop (mean ± std. dev. of 7 runs, 1 loop each)\n"
     ]
    }
   ],
   "source": [
    "%timeit evaluate_all_tasks(model, device, loaders[\"val\"])"
   ]
  },
  {
   "cell_type": "code",
   "execution_count": 16,
   "id": "0765d856-4e02-435d-85c5-e00e66f9cdff",
   "metadata": {},
   "outputs": [],
   "source": [
    "class EmptyDataset(Dataset):\n",
    "    def __init__(self):\n",
    "        self.len = 50000 \n",
    "        \n",
    "    def __len__(self):\n",
    "        return self.len\n",
    "\n",
    "    def __getitem__(self, idx):\n",
    "        return torch.rand((3, 32, 32), dtype=torch.float32), torch.randint(2, (1,)).item()\n",
    "\n",
    "data = EmptyDataset()\n",
    "\n",
    "loader = DataLoader(data, num_workers=8, batch_size=128)"
   ]
  },
  {
   "cell_type": "code",
   "execution_count": 17,
   "id": "2cda6001-2726-4cb7-a896-f0b7a2640be1",
   "metadata": {},
   "outputs": [
    {
     "name": "stdout",
     "output_type": "stream",
     "text": [
      "tensor([[[[0.4654, 0.3655, 0.8955,  ..., 0.9203, 0.0165, 0.5218],\n",
      "          [0.2143, 0.5168, 0.9333,  ..., 0.0481, 0.2181, 0.7827],\n",
      "          [0.4732, 0.0393, 0.4048,  ..., 0.6105, 0.8961, 0.0597],\n",
      "          ...,\n",
      "          [0.6498, 0.2731, 0.3339,  ..., 0.1691, 0.1183, 0.8812],\n",
      "          [0.1625, 0.0060, 0.8320,  ..., 0.7287, 0.9521, 0.0218],\n",
      "          [0.9189, 0.7108, 0.9063,  ..., 0.1705, 0.9914, 0.6195]],\n",
      "\n",
      "         [[0.6271, 0.9877, 0.0298,  ..., 0.5062, 0.1222, 0.4807],\n",
      "          [0.1024, 0.6253, 0.4450,  ..., 0.9388, 0.9439, 0.2957],\n",
      "          [0.9610, 0.6473, 0.7457,  ..., 0.2657, 0.9407, 0.2121],\n",
      "          ...,\n",
      "          [0.3766, 0.4124, 0.4192,  ..., 0.0632, 0.8200, 0.3760],\n",
      "          [0.2423, 0.9914, 0.5460,  ..., 0.0825, 0.9090, 0.1471],\n",
      "          [0.0629, 0.8947, 0.9755,  ..., 0.5148, 0.9122, 0.3923]],\n",
      "\n",
      "         [[0.7149, 0.7775, 0.5955,  ..., 0.2150, 0.5651, 0.6224],\n",
      "          [0.6435, 0.4163, 0.2319,  ..., 0.3312, 0.5767, 0.1831],\n",
      "          [0.1666, 0.8015, 0.4958,  ..., 0.2403, 0.7092, 0.4142],\n",
      "          ...,\n",
      "          [0.1591, 0.5166, 0.6195,  ..., 0.7584, 0.3538, 0.5460],\n",
      "          [0.8578, 0.2543, 0.7219,  ..., 0.2003, 0.6829, 0.2270],\n",
      "          [0.4869, 0.9608, 0.1104,  ..., 0.9951, 0.9616, 0.2277]]],\n",
      "\n",
      "\n",
      "        [[[0.1956, 0.6333, 0.7726,  ..., 0.8535, 0.8621, 0.0355],\n",
      "          [0.6837, 0.8643, 0.9100,  ..., 0.6987, 0.9319, 0.8102],\n",
      "          [0.1535, 0.7088, 0.0210,  ..., 0.3393, 0.7122, 0.1792],\n",
      "          ...,\n",
      "          [0.8728, 0.0438, 0.0138,  ..., 0.9130, 0.3569, 0.3390],\n",
      "          [0.0206, 0.7968, 0.7519,  ..., 0.6579, 0.0955, 0.3774],\n",
      "          [0.2323, 0.8014, 0.0650,  ..., 0.7143, 0.2831, 0.8806]],\n",
      "\n",
      "         [[0.7203, 0.4791, 0.0061,  ..., 0.7961, 0.7383, 0.9472],\n",
      "          [0.8739, 0.1822, 0.2780,  ..., 0.1313, 0.0760, 0.4505],\n",
      "          [0.2616, 0.4168, 0.0825,  ..., 0.4909, 0.4690, 0.8877],\n",
      "          ...,\n",
      "          [0.2036, 0.5349, 0.0362,  ..., 0.5845, 0.8428, 0.4666],\n",
      "          [0.3372, 0.2100, 0.4931,  ..., 0.8000, 0.7549, 0.9853],\n",
      "          [0.2606, 0.8605, 0.5298,  ..., 0.9017, 0.0631, 0.7417]],\n",
      "\n",
      "         [[0.1598, 0.0127, 0.3667,  ..., 0.8053, 0.8290, 0.1694],\n",
      "          [0.9544, 0.3514, 0.2923,  ..., 0.9771, 0.2799, 0.0585],\n",
      "          [0.0474, 0.5944, 0.7305,  ..., 0.1662, 0.7580, 0.5255],\n",
      "          ...,\n",
      "          [0.6674, 0.8303, 0.4343,  ..., 0.2279, 0.4857, 0.9748],\n",
      "          [0.4510, 0.7752, 0.5640,  ..., 0.7022, 0.7378, 0.8669],\n",
      "          [0.9953, 0.3311, 0.0270,  ..., 0.2745, 0.7501, 0.5458]]],\n",
      "\n",
      "\n",
      "        [[[0.2277, 0.0458, 0.2230,  ..., 0.9538, 0.5625, 0.2621],\n",
      "          [0.7688, 0.3379, 0.0539,  ..., 0.4357, 0.7741, 0.0797],\n",
      "          [0.3890, 0.4447, 0.1095,  ..., 0.4773, 0.4387, 0.4392],\n",
      "          ...,\n",
      "          [0.3067, 0.1689, 0.5097,  ..., 0.7967, 0.5006, 0.1044],\n",
      "          [0.7630, 0.4048, 0.3483,  ..., 0.7184, 0.9845, 0.9418],\n",
      "          [0.8214, 0.7079, 0.2085,  ..., 0.5287, 0.4112, 0.1328]],\n",
      "\n",
      "         [[0.0749, 0.2458, 0.1814,  ..., 0.1193, 0.4219, 0.6654],\n",
      "          [0.8699, 0.1775, 0.2647,  ..., 0.8338, 0.9925, 0.0529],\n",
      "          [0.0588, 0.8625, 0.0037,  ..., 0.3100, 0.8582, 0.7229],\n",
      "          ...,\n",
      "          [0.4273, 0.4366, 0.4626,  ..., 0.1966, 0.4114, 0.1938],\n",
      "          [0.4999, 0.6971, 0.6010,  ..., 0.8511, 0.2969, 0.0873],\n",
      "          [0.5206, 0.6641, 0.2905,  ..., 0.9732, 0.2713, 0.7321]],\n",
      "\n",
      "         [[0.3186, 0.8912, 0.1045,  ..., 0.4287, 0.2456, 0.2621],\n",
      "          [0.3628, 0.3819, 0.7598,  ..., 0.9818, 0.5002, 0.5443],\n",
      "          [0.9565, 0.1192, 0.5875,  ..., 0.1472, 0.3647, 0.3123],\n",
      "          ...,\n",
      "          [0.1058, 0.3278, 0.0547,  ..., 0.6384, 0.4656, 0.8837],\n",
      "          [0.7820, 0.4902, 0.1769,  ..., 0.2650, 0.7053, 0.9477],\n",
      "          [0.5765, 0.9489, 0.7851,  ..., 0.1009, 0.7253, 0.3016]]],\n",
      "\n",
      "\n",
      "        ...,\n",
      "\n",
      "\n",
      "        [[[0.8113, 0.1262, 0.5221,  ..., 0.7610, 0.7687, 0.3732],\n",
      "          [0.9447, 0.7068, 0.8449,  ..., 0.2370, 0.0141, 0.1378],\n",
      "          [0.2627, 0.2804, 0.8957,  ..., 0.1001, 0.9321, 0.6540],\n",
      "          ...,\n",
      "          [0.9750, 0.3476, 0.2245,  ..., 0.6614, 0.3542, 0.6038],\n",
      "          [0.6425, 0.0664, 0.7761,  ..., 0.2997, 0.0972, 0.4259],\n",
      "          [0.7182, 0.9524, 0.6656,  ..., 0.3307, 0.7300, 0.6033]],\n",
      "\n",
      "         [[0.5749, 0.6851, 0.1941,  ..., 0.7906, 0.7056, 0.6264],\n",
      "          [0.1473, 0.4137, 0.2919,  ..., 0.5088, 0.3067, 0.0917],\n",
      "          [0.8835, 0.1101, 0.1892,  ..., 0.4441, 0.8448, 0.7829],\n",
      "          ...,\n",
      "          [0.9510, 0.0823, 0.2669,  ..., 0.8017, 0.6669, 0.0175],\n",
      "          [0.5989, 0.0323, 0.0517,  ..., 0.4933, 0.9417, 0.7020],\n",
      "          [0.6509, 0.4773, 0.1531,  ..., 0.0914, 0.0791, 0.1873]],\n",
      "\n",
      "         [[0.9843, 0.6154, 0.9093,  ..., 0.1572, 0.1628, 0.9354],\n",
      "          [0.6369, 0.0585, 0.4077,  ..., 0.4897, 0.0465, 0.5652],\n",
      "          [0.1828, 0.9531, 0.5548,  ..., 0.6535, 0.8642, 0.3535],\n",
      "          ...,\n",
      "          [0.0784, 0.0051, 0.1248,  ..., 0.6377, 0.1127, 0.1648],\n",
      "          [0.9136, 0.1722, 0.2843,  ..., 0.8597, 0.0065, 0.1884],\n",
      "          [0.9042, 0.2209, 0.0779,  ..., 0.8255, 0.1789, 0.8721]]],\n",
      "\n",
      "\n",
      "        [[[0.2853, 0.6365, 0.5622,  ..., 0.8066, 0.8516, 0.3197],\n",
      "          [0.0339, 0.4353, 0.7197,  ..., 0.4716, 0.5728, 0.6006],\n",
      "          [0.6241, 0.4189, 0.1741,  ..., 0.4517, 0.3056, 0.8612],\n",
      "          ...,\n",
      "          [0.2155, 0.8391, 0.4984,  ..., 0.4771, 0.6257, 0.3950],\n",
      "          [0.9490, 0.8227, 0.4283,  ..., 0.5614, 0.4558, 0.9168],\n",
      "          [0.9547, 0.5852, 0.0242,  ..., 0.6612, 0.7212, 0.3733]],\n",
      "\n",
      "         [[0.1809, 0.4284, 0.4827,  ..., 0.5313, 0.9485, 0.9724],\n",
      "          [0.1240, 0.0722, 0.9358,  ..., 0.4892, 0.7294, 0.1905],\n",
      "          [0.0704, 0.9881, 0.3131,  ..., 0.5102, 0.8479, 0.5911],\n",
      "          ...,\n",
      "          [0.8731, 0.4389, 0.0717,  ..., 0.3313, 0.4174, 0.7799],\n",
      "          [0.6159, 0.1809, 0.1014,  ..., 0.4954, 0.7851, 0.4742],\n",
      "          [0.9662, 0.1480, 0.7569,  ..., 0.9166, 0.1225, 0.1989]],\n",
      "\n",
      "         [[0.1738, 0.1879, 0.5737,  ..., 0.1336, 0.9318, 0.5770],\n",
      "          [0.0831, 0.1036, 0.2369,  ..., 0.8323, 0.5195, 0.6281],\n",
      "          [0.2023, 0.2192, 0.8306,  ..., 0.7308, 0.6498, 0.8744],\n",
      "          ...,\n",
      "          [0.4058, 0.8782, 0.9893,  ..., 0.7398, 0.3857, 0.4327],\n",
      "          [0.4801, 0.7163, 0.8801,  ..., 0.6986, 0.4503, 0.0160],\n",
      "          [0.3283, 0.2399, 0.3667,  ..., 0.4531, 0.6642, 0.6599]]],\n",
      "\n",
      "\n",
      "        [[[0.0210, 0.0675, 0.6019,  ..., 0.5973, 0.1978, 0.9400],\n",
      "          [0.1133, 0.4535, 0.9487,  ..., 0.0901, 0.5767, 0.7142],\n",
      "          [0.9175, 0.5010, 0.8690,  ..., 0.7930, 0.4478, 0.5889],\n",
      "          ...,\n",
      "          [0.9602, 0.7259, 0.4213,  ..., 0.7734, 0.6781, 0.9331],\n",
      "          [0.9380, 0.6034, 0.8595,  ..., 0.6763, 0.4399, 0.1928],\n",
      "          [0.3261, 0.8126, 0.0932,  ..., 0.3161, 0.6126, 0.5092]],\n",
      "\n",
      "         [[0.7450, 0.9655, 0.1050,  ..., 0.2171, 0.4267, 0.9606],\n",
      "          [0.0147, 0.8722, 0.6272,  ..., 0.3084, 0.8905, 0.4064],\n",
      "          [0.9734, 0.6712, 0.7274,  ..., 0.8348, 0.8942, 0.1229],\n",
      "          ...,\n",
      "          [0.4415, 0.4951, 0.5239,  ..., 0.6880, 0.4340, 0.3280],\n",
      "          [0.5423, 0.3772, 0.7173,  ..., 0.7268, 0.4168, 0.4552],\n",
      "          [0.2158, 0.1163, 0.9938,  ..., 0.2549, 0.3261, 0.9811]],\n",
      "\n",
      "         [[0.3823, 0.1420, 0.7359,  ..., 0.5975, 0.6780, 0.2532],\n",
      "          [0.5848, 0.5972, 0.5069,  ..., 0.6042, 0.2065, 0.4516],\n",
      "          [0.2440, 0.5691, 0.8611,  ..., 0.5277, 0.6635, 0.8094],\n",
      "          ...,\n",
      "          [0.6657, 0.7435, 0.0417,  ..., 0.6478, 0.3680, 0.1795],\n",
      "          [0.7990, 0.9414, 0.8078,  ..., 0.0123, 0.3262, 0.4627],\n",
      "          [0.2816, 0.6155, 0.7021,  ..., 0.8762, 0.4149, 0.8326]]]]) torch.Size([128]) torch.int64\n"
     ]
    }
   ],
   "source": [
    "for a in loader:\n",
    "    print(a[0], a[1].shape, a[1].dtype)\n",
    "    break"
   ]
  },
  {
   "cell_type": "code",
   "execution_count": 11,
   "id": "db0a3eb9-034a-4b44-841f-8c91dfde8cef",
   "metadata": {},
   "outputs": [],
   "source": [
    "def evaluate(model, device, loader):\n",
    "    model.eval()\n",
    "    scores = torch.zeros(1).to(device)\n",
    "    for data, target in loader:\n",
    "        pred = model(data.to(device)).argmax(dim=1)\n",
    "        scores += (pred == target.to(device)).float().mean(dim=0)\n",
    "    return scores.to(device) / len(loader) \n"
   ]
  },
  {
   "cell_type": "code",
   "execution_count": 12,
   "id": "339e0fca-f087-4227-a0dd-f2de4c350ed5",
   "metadata": {},
   "outputs": [],
   "source": [
    "def train(model, device, optimizer, criterion, loader, num_epochs):\n",
    "    losses = torch.zeros(num_epochs).to(device)\n",
    "\n",
    "    train_acc = torch.empty(0).to(device)\n",
    "    \n",
    "    for i in tqdm(range(num_epochs)):\n",
    "        model.train()\n",
    "        \n",
    "        for data, target in loader:    \n",
    "            optimizer.zero_grad()\n",
    "            output = model(data.to(device))            \n",
    "            print(output.dtype, target.dtype)\n",
    "            loss = criterion(output, target.to(device))\n",
    "            losses[i] += loss.data.to(\"cpu\") / len(loader)\n",
    "\n",
    "            loss.backward()\n",
    "            optimizer.step()\n",
    "            \n",
    "        last_train_acc = evaluate_all_tasks(model, device, loader, num_tasks)\n",
    "        train_acc = torch.cat((train_acc, last_train_acc.unsqueeze(0)))\n",
    "\n",
    "        print(f\"Epoch {i}: loss = {losses[i].item():5.2f}, train_acc = {train_acc[-1][task_id]:.2f}, val_acc = {val_acc[-1][task_id]:.2f}\")\n",
    "\n",
    "    return losses, train_acc"
   ]
  },
  {
   "cell_type": "code",
   "execution_count": 18,
   "id": "703eda3f-7350-4c80-b5ea-fcf8b3c38771",
   "metadata": {},
   "outputs": [
    {
     "data": {
      "text/plain": [
       "tensor([[nan, nan, nan, nan, nan, nan, nan, nan, nan, nan, nan, nan, nan, nan, nan, nan, nan, nan, nan, nan, nan, nan, nan, nan,\n",
       "         nan, nan, nan, nan, nan, nan, nan, nan, nan, nan, nan, nan, nan, nan, nan, nan, nan, nan, nan, nan, nan, nan, nan, nan,\n",
       "         nan, nan, nan, nan, nan, nan, nan, nan, nan, nan, nan, nan, nan, nan, nan, nan, nan, nan, nan, nan, nan, nan, nan, nan,\n",
       "         nan, nan, nan, nan, nan, nan, nan, nan, nan, nan, nan, nan, nan, nan, nan, nan, nan, nan, nan, nan, nan, nan, nan, nan,\n",
       "         nan, nan, nan, nan],\n",
       "        [nan, nan, nan, nan, nan, nan, nan, nan, nan, nan, nan, nan, nan, nan, nan, nan, nan, nan, nan, nan, nan, nan, nan, nan,\n",
       "         nan, nan, nan, nan, nan, nan, nan, nan, nan, nan, nan, nan, nan, nan, nan, nan, nan, nan, nan, nan, nan, nan, nan, nan,\n",
       "         nan, nan, nan, nan, nan, nan, nan, nan, nan, nan, nan, nan, nan, nan, nan, nan, nan, nan, nan, nan, nan, nan, nan, nan,\n",
       "         nan, nan, nan, nan, nan, nan, nan, nan, nan, nan, nan, nan, nan, nan, nan, nan, nan, nan, nan, nan, nan, nan, nan, nan,\n",
       "         nan, nan, nan, nan]], device='cuda:0', grad_fn=<LogSoftmaxBackward0>)"
      ]
     },
     "execution_count": 18,
     "metadata": {},
     "output_type": "execute_result"
    }
   ],
   "source": [
    "model(torch.randn((2, 3, 32, 32)).to(device))"
   ]
  },
  {
   "cell_type": "code",
   "execution_count": 30,
   "id": "f99178e4-5cab-4132-87c9-c88f418d5325",
   "metadata": {},
   "outputs": [
    {
     "ename": "RuntimeError",
     "evalue": "CUDA error: device-side assert triggered\nCUDA kernel errors might be asynchronously reported at some other API call, so the stacktrace below might be incorrect.\nFor debugging consider passing CUDA_LAUNCH_BLOCKING=1\nCompile with `TORCH_USE_CUDA_DSA` to enable device-side assertions.\n",
     "output_type": "error",
     "traceback": [
      "\u001b[0;31m---------------------------------------------------------------------------\u001b[0m",
      "\u001b[0;31mRuntimeError\u001b[0m                              Traceback (most recent call last)",
      "Cell \u001b[0;32mIn[30], line 1\u001b[0m\n\u001b[0;32m----> 1\u001b[0m \u001b[43mtrain\u001b[49m\u001b[43m(\u001b[49m\u001b[43mmodel\u001b[49m\u001b[43m,\u001b[49m\n\u001b[1;32m      2\u001b[0m \u001b[43m      \u001b[49m\u001b[43mdevice\u001b[49m\u001b[43m,\u001b[49m\n\u001b[1;32m      3\u001b[0m \u001b[43m      \u001b[49m\u001b[43moptim\u001b[49m\u001b[38;5;241;43m.\u001b[39;49m\u001b[43mAdamW\u001b[49m\u001b[43m(\u001b[49m\u001b[43mmodel\u001b[49m\u001b[38;5;241;43m.\u001b[39;49m\u001b[43mparameters\u001b[49m\u001b[43m(\u001b[49m\u001b[43m)\u001b[49m\u001b[43m)\u001b[49m\u001b[43m,\u001b[49m\n\u001b[1;32m      4\u001b[0m \u001b[43m      \u001b[49m\u001b[43mnn\u001b[49m\u001b[38;5;241;43m.\u001b[39;49m\u001b[43mCrossEntropyLoss\u001b[49m\u001b[43m(\u001b[49m\u001b[43m)\u001b[49m\u001b[43m,\u001b[49m\n\u001b[1;32m      5\u001b[0m \u001b[43m      \u001b[49m\u001b[43mloader\u001b[49m\u001b[43m,\u001b[49m\n\u001b[1;32m      6\u001b[0m \u001b[43m     \u001b[49m\u001b[38;5;241;43m10\u001b[39;49m\u001b[43m)\u001b[49m\n",
      "Cell \u001b[0;32mIn[28], line 2\u001b[0m, in \u001b[0;36mtrain\u001b[0;34m(model, device, optimizer, criterion, loader, num_epochs)\u001b[0m\n\u001b[1;32m      1\u001b[0m \u001b[38;5;28;01mdef\u001b[39;00m \u001b[38;5;21mtrain\u001b[39m(model, device, optimizer, criterion, loader, num_epochs):\n\u001b[0;32m----> 2\u001b[0m     losses \u001b[38;5;241m=\u001b[39m \u001b[43mtorch\u001b[49m\u001b[38;5;241;43m.\u001b[39;49m\u001b[43mzeros\u001b[49m\u001b[43m(\u001b[49m\u001b[43mnum_epochs\u001b[49m\u001b[43m)\u001b[49m\u001b[38;5;241;43m.\u001b[39;49m\u001b[43mto\u001b[49m\u001b[43m(\u001b[49m\u001b[43mdevice\u001b[49m\u001b[43m)\u001b[49m\n\u001b[1;32m      4\u001b[0m     train_acc \u001b[38;5;241m=\u001b[39m torch\u001b[38;5;241m.\u001b[39mempty(\u001b[38;5;241m0\u001b[39m)\u001b[38;5;241m.\u001b[39mto(device)\n\u001b[1;32m      6\u001b[0m     \u001b[38;5;28;01mfor\u001b[39;00m i \u001b[38;5;129;01min\u001b[39;00m tqdm(\u001b[38;5;28mrange\u001b[39m(num_epochs)):\n",
      "\u001b[0;31mRuntimeError\u001b[0m: CUDA error: device-side assert triggered\nCUDA kernel errors might be asynchronously reported at some other API call, so the stacktrace below might be incorrect.\nFor debugging consider passing CUDA_LAUNCH_BLOCKING=1\nCompile with `TORCH_USE_CUDA_DSA` to enable device-side assertions.\n"
     ]
    }
   ],
   "source": [
    "train(model,\n",
    "      device,\n",
    "      optim.AdamW(model.parameters()),\n",
    "      nn.CrossEntropyLoss(),\n",
    "      loader,\n",
    "     10)"
   ]
  },
  {
   "cell_type": "code",
   "execution_count": 45,
   "id": "1706ef95-9764-4657-8a0a-4936c4c865a4",
   "metadata": {},
   "outputs": [
    {
     "ename": "TypeError",
     "evalue": "rand() received an invalid combination of arguments - got (int, min=int), but expected one of:\n * (tuple of ints size, *, torch.Generator generator, tuple of names names, torch.dtype dtype = None, torch.layout layout = None, torch.device device = None, bool pin_memory = False, bool requires_grad = False)\n * (tuple of ints size, *, torch.Generator generator, Tensor out = None, torch.dtype dtype = None, torch.layout layout = None, torch.device device = None, bool pin_memory = False, bool requires_grad = False)\n * (tuple of ints size, *, Tensor out = None, torch.dtype dtype = None, torch.layout layout = None, torch.device device = None, bool pin_memory = False, bool requires_grad = False)\n * (tuple of ints size, *, tuple of names names, torch.dtype dtype = None, torch.layout layout = None, torch.device device = None, bool pin_memory = False, bool requires_grad = False)\n",
     "output_type": "error",
     "traceback": [
      "\u001b[0;31m---------------------------------------------------------------------------\u001b[0m",
      "\u001b[0;31mTypeError\u001b[0m                                 Traceback (most recent call last)",
      "Cell \u001b[0;32mIn[45], line 1\u001b[0m\n\u001b[0;32m----> 1\u001b[0m \u001b[43mtorch\u001b[49m\u001b[38;5;241;43m.\u001b[39;49m\u001b[43mrand\u001b[49m\u001b[43m(\u001b[49m\u001b[38;5;241;43m1\u001b[39;49m\u001b[43m,\u001b[49m\u001b[43m \u001b[49m\u001b[38;5;28;43mmin\u001b[39;49m\u001b[38;5;241;43m=\u001b[39;49m\u001b[38;5;241;43m4\u001b[39;49m\u001b[43m)\u001b[49m\n",
      "\u001b[0;31mTypeError\u001b[0m: rand() received an invalid combination of arguments - got (int, min=int), but expected one of:\n * (tuple of ints size, *, torch.Generator generator, tuple of names names, torch.dtype dtype = None, torch.layout layout = None, torch.device device = None, bool pin_memory = False, bool requires_grad = False)\n * (tuple of ints size, *, torch.Generator generator, Tensor out = None, torch.dtype dtype = None, torch.layout layout = None, torch.device device = None, bool pin_memory = False, bool requires_grad = False)\n * (tuple of ints size, *, Tensor out = None, torch.dtype dtype = None, torch.layout layout = None, torch.device device = None, bool pin_memory = False, bool requires_grad = False)\n * (tuple of ints size, *, tuple of names names, torch.dtype dtype = None, torch.layout layout = None, torch.device device = None, bool pin_memory = False, bool requires_grad = False)\n"
     ]
    }
   ],
   "source": []
  },
  {
   "cell_type": "code",
   "execution_count": null,
   "id": "3106715b-0a0a-45dd-9787-3f65a0be24b5",
   "metadata": {},
   "outputs": [],
   "source": []
  }
 ],
 "metadata": {
  "kernelspec": {
   "display_name": "New Torch Env",
   "language": "python",
   "name": "torchenv1"
  },
  "language_info": {
   "codemirror_mode": {
    "name": "ipython",
    "version": 3
   },
   "file_extension": ".py",
   "mimetype": "text/x-python",
   "name": "python",
   "nbconvert_exporter": "python",
   "pygments_lexer": "ipython3",
   "version": "3.12.6"
  }
 },
 "nbformat": 4,
 "nbformat_minor": 5
}
